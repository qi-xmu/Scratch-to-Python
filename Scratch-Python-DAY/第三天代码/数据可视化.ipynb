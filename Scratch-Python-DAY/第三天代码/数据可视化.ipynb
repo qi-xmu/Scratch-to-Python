{
 "cells": [
  {
   "cell_type": "markdown",
   "metadata": {},
   "source": [
    "# 数据可视化\n",
    "\n",
    "数据可视化可以分成三大部分：\n",
    "- 数据的预处理\n",
    "- 数据可视化处理\n",
    "- 数据的可视化交互\n",
    "\n",
    "我们主要集中在前两个部分，首先介绍数据的处理，我们经常使用的数据类型时表格，如何利用Python处理表格呢？"
   ]
  },
  {
   "cell_type": "markdown",
   "metadata": {},
   "source": [
    "## 安装模块"
   ]
  },
  {
   "cell_type": "code",
   "execution_count": null,
   "metadata": {},
   "outputs": [],
   "source": [
    "# 安装绘图库\n",
    "!pip install matplotlib"
   ]
  },
  {
   "cell_type": "code",
   "execution_count": null,
   "metadata": {},
   "outputs": [],
   "source": [
    "!pip install pandas\n",
    "!pip install openpyxl"
   ]
  },
  {
   "cell_type": "code",
   "execution_count": null,
   "metadata": {},
   "outputs": [],
   "source": [
    "!pip install numpy"
   ]
  },
  {
   "cell_type": "markdown",
   "metadata": {},
   "source": [
    "### 读取excel文件"
   ]
  },
  {
   "cell_type": "code",
   "execution_count": 1,
   "metadata": {},
   "outputs": [],
   "source": [
    "import matplotlib.pyplot as plt\n",
    "import pandas as pd\n",
    "\n",
    "%matplotlib inline\n",
    "%config InlineBackend.figure_format = 'svg'\n",
    "\n",
    "plt.rcParams[\"font.sans-serif\"]=[\"SimHei\"] # .py"
   ]
  },
  {
   "cell_type": "code",
   "execution_count": 7,
   "metadata": {},
   "outputs": [
    {
     "data": {
      "text/html": [
       "<div>\n",
       "<style scoped>\n",
       "    .dataframe tbody tr th:only-of-type {\n",
       "        vertical-align: middle;\n",
       "    }\n",
       "\n",
       "    .dataframe tbody tr th {\n",
       "        vertical-align: top;\n",
       "    }\n",
       "\n",
       "    .dataframe thead th {\n",
       "        text-align: right;\n",
       "    }\n",
       "</style>\n",
       "<table border=\"1\" class=\"dataframe\">\n",
       "  <thead>\n",
       "    <tr style=\"text-align: right;\">\n",
       "      <th></th>\n",
       "      <th>序号</th>\n",
       "      <th>请您对本次课程内容的难易程度打分</th>\n",
       "      <th>您对本次课程内容的掌握程度有多少？</th>\n",
       "      <th>本课程模块内容对您是否有帮助？请打分</th>\n",
       "      <th>本次课程讲课速度怎么样？</th>\n",
       "      <th>对本次课程的意见和建议</th>\n",
       "    </tr>\n",
       "  </thead>\n",
       "  <tbody>\n",
       "    <tr>\n",
       "      <th>0</th>\n",
       "      <td>1</td>\n",
       "      <td>2</td>\n",
       "      <td>3</td>\n",
       "      <td>4</td>\n",
       "      <td>正好，速度适中</td>\n",
       "      <td>NaN</td>\n",
       "    </tr>\n",
       "    <tr>\n",
       "      <th>1</th>\n",
       "      <td>2</td>\n",
       "      <td>2</td>\n",
       "      <td>5</td>\n",
       "      <td>5</td>\n",
       "      <td>正好，速度适中</td>\n",
       "      <td>NaN</td>\n",
       "    </tr>\n",
       "    <tr>\n",
       "      <th>2</th>\n",
       "      <td>3</td>\n",
       "      <td>3</td>\n",
       "      <td>4</td>\n",
       "      <td>4</td>\n",
       "      <td>正好，速度适中</td>\n",
       "      <td>无</td>\n",
       "    </tr>\n",
       "    <tr>\n",
       "      <th>3</th>\n",
       "      <td>4</td>\n",
       "      <td>2</td>\n",
       "      <td>4</td>\n",
       "      <td>5</td>\n",
       "      <td>正好，速度适中</td>\n",
       "      <td>NaN</td>\n",
       "    </tr>\n",
       "    <tr>\n",
       "      <th>4</th>\n",
       "      <td>5</td>\n",
       "      <td>4</td>\n",
       "      <td>4</td>\n",
       "      <td>4</td>\n",
       "      <td>正好，速度适中</td>\n",
       "      <td>收获满满</td>\n",
       "    </tr>\n",
       "    <tr>\n",
       "      <th>5</th>\n",
       "      <td>6</td>\n",
       "      <td>4</td>\n",
       "      <td>4</td>\n",
       "      <td>4</td>\n",
       "      <td>正好，速度适中</td>\n",
       "      <td>NaN</td>\n",
       "    </tr>\n",
       "    <tr>\n",
       "      <th>6</th>\n",
       "      <td>7</td>\n",
       "      <td>3</td>\n",
       "      <td>3</td>\n",
       "      <td>4</td>\n",
       "      <td>正好，速度适中</td>\n",
       "      <td>适合自己就是好。</td>\n",
       "    </tr>\n",
       "    <tr>\n",
       "      <th>7</th>\n",
       "      <td>8</td>\n",
       "      <td>3</td>\n",
       "      <td>4</td>\n",
       "      <td>5</td>\n",
       "      <td>正好，速度适中</td>\n",
       "      <td>NaN</td>\n",
       "    </tr>\n",
       "    <tr>\n",
       "      <th>8</th>\n",
       "      <td>9</td>\n",
       "      <td>1</td>\n",
       "      <td>5</td>\n",
       "      <td>3</td>\n",
       "      <td>讲得太慢了，可以快点</td>\n",
       "      <td>一些多些示例，相关的资料。</td>\n",
       "    </tr>\n",
       "    <tr>\n",
       "      <th>9</th>\n",
       "      <td>10</td>\n",
       "      <td>1</td>\n",
       "      <td>5</td>\n",
       "      <td>5</td>\n",
       "      <td>正好，速度适中</td>\n",
       "      <td>NaN</td>\n",
       "    </tr>\n",
       "  </tbody>\n",
       "</table>\n",
       "</div>"
      ],
      "text/plain": [
       "   序号  请您对本次课程内容的难易程度打分  您对本次课程内容的掌握程度有多少？  本课程模块内容对您是否有帮助？请打分 本次课程讲课速度怎么样？  \\\n",
       "0   1                 2                  3                   4      正好，速度适中   \n",
       "1   2                 2                  5                   5      正好，速度适中   \n",
       "2   3                 3                  4                   4      正好，速度适中   \n",
       "3   4                 2                  4                   5      正好，速度适中   \n",
       "4   5                 4                  4                   4      正好，速度适中   \n",
       "5   6                 4                  4                   4      正好，速度适中   \n",
       "6   7                 3                  3                   4      正好，速度适中   \n",
       "7   8                 3                  4                   5      正好，速度适中   \n",
       "8   9                 1                  5                   3   讲得太慢了，可以快点   \n",
       "9  10                 1                  5                   5      正好，速度适中   \n",
       "\n",
       "     对本次课程的意见和建议  \n",
       "0            NaN  \n",
       "1            NaN  \n",
       "2              无  \n",
       "3            NaN  \n",
       "4           收获满满  \n",
       "5            NaN  \n",
       "6       适合自己就是好。  \n",
       "7            NaN  \n",
       "8  一些多些示例，相关的资料。  \n",
       "9            NaN  "
      ]
     },
     "execution_count": 7,
     "metadata": {},
     "output_type": "execute_result"
    }
   ],
   "source": [
    "df = pd.read_excel(\"../星期五晚.xlsx\")\n",
    "df.head(10)"
   ]
  },
  {
   "cell_type": "code",
   "execution_count": 3,
   "metadata": {},
   "outputs": [
    {
     "name": "stdout",
     "output_type": "stream",
     "text": [
      "32\n"
     ]
    }
   ],
   "source": [
    "total = len(df)\n",
    "print(total)"
   ]
  },
  {
   "cell_type": "code",
   "execution_count": 4,
   "metadata": {},
   "outputs": [
    {
     "name": "stdout",
     "output_type": "stream",
     "text": [
      "本次课程速度适中的百分比 84.375 %\n"
     ]
    }
   ],
   "source": [
    "man_yi = len(df[df[\"本次课程讲课速度怎么样？\"] == \"正好，速度适中\"])\n",
    "print (\"本次课程速度适中的百分比\",man_yi / total * 100, \"%\")"
   ]
  },
  {
   "cell_type": "markdown",
   "metadata": {},
   "source": [
    "#### 问题一 柱状图问题\n",
    "\n",
    "画出难易程度，掌握程度，帮助的各个程度的柱状图"
   ]
  },
  {
   "cell_type": "code",
   "execution_count": 8,
   "metadata": {},
   "outputs": [
    {
     "name": "stdout",
     "output_type": "stream",
     "text": [
      "[0, 2, 12, 12, 6, 0, 0, 0, 0, 0]\n"
     ]
    }
   ],
   "source": [
    "# 难易程度\n",
    "arr1 = [0]*10 # arr[i]表示分数为i的人数的个数\n",
    "for i in range(1, 6):\n",
    "    arr1[i] = len(df[df[\"请您对本次课程内容的难易程度打分\"] == i])\n",
    "print(arr1)"
   ]
  },
  {
   "cell_type": "code",
   "execution_count": 16,
   "metadata": {},
   "outputs": [
    {
     "data": {
      "text/plain": [
       "Text(0.5, 1.0, '难易程度')"
      ]
     },
     "execution_count": 16,
     "metadata": {},
     "output_type": "execute_result"
    },
    {
     "data": {
      "image/svg+xml": "<?xml version=\"1.0\" encoding=\"utf-8\" standalone=\"no\"?>\r\n<!DOCTYPE svg PUBLIC \"-//W3C//DTD SVG 1.1//EN\"\r\n  \"http://www.w3.org/Graphics/SVG/1.1/DTD/svg11.dtd\">\r\n<svg height=\"247.49625pt\" version=\"1.1\" viewBox=\"0 0 231.84 247.49625\" width=\"231.84pt\" xmlns=\"http://www.w3.org/2000/svg\" xmlns:xlink=\"http://www.w3.org/1999/xlink\">\r\n <metadata>\r\n  <rdf:RDF xmlns:cc=\"http://creativecommons.org/ns#\" xmlns:dc=\"http://purl.org/dc/elements/1.1/\" xmlns:rdf=\"http://www.w3.org/1999/02/22-rdf-syntax-ns#\">\r\n   <cc:Work>\r\n    <dc:type rdf:resource=\"http://purl.org/dc/dcmitype/StillImage\"/>\r\n    <dc:date>2021-11-14T11:40:06.043308</dc:date>\r\n    <dc:format>image/svg+xml</dc:format>\r\n    <dc:creator>\r\n     <cc:Agent>\r\n      <dc:title>Matplotlib v3.4.3, https://matplotlib.org/</dc:title>\r\n     </cc:Agent>\r\n    </dc:creator>\r\n   </cc:Work>\r\n  </rdf:RDF>\r\n </metadata>\r\n <defs>\r\n  <style type=\"text/css\">*{stroke-linecap:butt;stroke-linejoin:round;}</style>\r\n </defs>\r\n <g id=\"figure_1\">\r\n  <g id=\"patch_1\">\r\n   <path d=\"M 0 247.49625 \r\nL 231.84 247.49625 \r\nL 231.84 0 \r\nL 0 0 \r\nz\r\n\" style=\"fill:none;\"/>\r\n  </g>\r\n  <g id=\"axes_1\">\r\n   <g id=\"patch_2\">\r\n    <path d=\"M 202.896 131.57625 \r\nC 202.896 125.879116 202.336236 120.19574 201.224781 114.608074 \r\nC 200.113325 109.020409 198.455545 103.555441 196.275346 98.291976 \r\nL 115.92 131.57625 \r\nL 202.896 131.57625 \r\nz\r\n\" style=\"fill:#1f77b4;\"/>\r\n   </g>\r\n   <g id=\"patch_3\">\r\n    <path d=\"M 196.275346 98.291976 \r\nC 189.693127 82.401092 178.542694 68.814251 164.241277 59.258349 \r\nC 149.939859 49.702447 133.120169 44.60025 115.92 44.60025 \r\nC 98.719831 44.60025 81.900141 49.702447 67.598723 59.258349 \r\nC 53.297306 68.814251 42.146873 82.401092 35.564654 98.291976 \r\nL 115.92 131.57625 \r\nL 196.275346 98.291976 \r\nz\r\n\" style=\"fill:#ff7f0e;\"/>\r\n   </g>\r\n   <g id=\"patch_4\">\r\n    <path d=\"M 35.564654 98.291976 \r\nC 28.982434 114.18286 27.259633 131.674754 30.615219 148.544426 \r\nC 33.970806 165.414098 42.256325 180.915213 54.418681 193.077569 \r\nC 66.581037 205.239925 82.082152 213.525444 98.951824 216.881031 \r\nC 115.821496 220.236617 133.31339 218.513816 149.204274 211.931596 \r\nL 115.92 131.57625 \r\nL 35.564654 98.291976 \r\nz\r\n\" style=\"fill:#2ca02c;\"/>\r\n   </g>\r\n   <g id=\"patch_5\">\r\n    <path d=\"M 149.204274 211.931596 \r\nC 165.095158 205.349377 178.681999 194.198944 188.237901 179.897527 \r\nC 197.793803 165.596109 202.896 148.776419 202.896 131.57625 \r\nL 115.92 131.57625 \r\nL 149.204274 211.931596 \r\nz\r\n\" style=\"fill:#d62728;\"/>\r\n   </g>\r\n   <g id=\"patch_6\">\r\n    <path d=\"M 202.896 131.57625 \r\nC 202.896 131.57625 202.896 131.57625 202.896 131.57625 \r\nL 115.92 131.57625 \r\nL 202.896 131.57625 \r\nz\r\n\" style=\"fill:#9467bd;\"/>\r\n   </g>\r\n   <g id=\"matplotlib.axis_1\"/>\r\n   <g id=\"matplotlib.axis_2\"/>\r\n   <g id=\"text_1\">\r\n    <!-- 1 -->\r\n    <g transform=\"translate(209.755259 115.723757)scale(0.1 -0.1)\">\r\n     <defs>\r\n      <path d=\"M 1400 3600 \r\nQ 1075 3275 575 2975 \r\nL 575 3450 \r\nQ 1200 3875 1600 4450 \r\nL 1900 4450 \r\nL 1900 150 \r\nL 1400 150 \r\nL 1400 3600 \r\nz\r\n\" id=\"SimHei-31\" transform=\"scale(0.015625)\"/>\r\n     </defs>\r\n     <use xlink:href=\"#SimHei-31\"/>\r\n    </g>\r\n   </g>\r\n   <g id=\"text_2\">\r\n    <!-- 6.25% -->\r\n    <g transform=\"translate(154.602868 124.207844)scale(0.1 -0.1)\">\r\n     <defs>\r\n      <path d=\"M 250 1612 \r\nQ 275 1975 387 2225 \r\nQ 500 2475 725 2850 \r\nL 1750 4450 \r\nL 2325 4450 \r\nL 1275 2800 \r\nQ 1950 2975 2350 2750 \r\nQ 2750 2525 2887 2237 \r\nQ 3025 1950 3037 1612 \r\nQ 3050 1275 2937 950 \r\nQ 2825 625 2537 362 \r\nQ 2250 100 1737 75 \r\nQ 1225 50 862 262 \r\nQ 500 475 362 862 \r\nQ 225 1250 250 1612 \r\nz\r\nM 1025 787 \r\nQ 1250 550 1625 525 \r\nQ 2000 500 2250 775 \r\nQ 2500 1050 2500 1575 \r\nQ 2500 2100 2187 2300 \r\nQ 1875 2500 1487 2450 \r\nQ 1100 2400 925 2075 \r\nQ 750 1750 775 1387 \r\nQ 800 1025 1025 787 \r\nz\r\n\" id=\"SimHei-36\" transform=\"scale(0.015625)\"/>\r\n      <path d=\"M 1075 125 \r\nL 500 125 \r\nL 500 675 \r\nL 1075 675 \r\nL 1075 125 \r\nz\r\n\" id=\"SimHei-2e\" transform=\"scale(0.015625)\"/>\r\n      <path d=\"M 300 250 \r\nQ 325 625 650 925 \r\nQ 975 1225 1475 1862 \r\nQ 1975 2500 2125 2850 \r\nQ 2275 3200 2237 3450 \r\nQ 2200 3700 2000 3862 \r\nQ 1800 4025 1537 4000 \r\nQ 1275 3975 1037 3800 \r\nQ 800 3625 675 3275 \r\nL 200 3350 \r\nQ 400 3925 712 4187 \r\nQ 1025 4450 1450 4475 \r\nQ 1700 4500 1900 4462 \r\nQ 2100 4425 2312 4287 \r\nQ 2525 4150 2662 3875 \r\nQ 2800 3600 2762 3212 \r\nQ 2725 2825 2375 2287 \r\nQ 2025 1750 1025 600 \r\nL 2825 600 \r\nL 2825 150 \r\nL 300 150 \r\nL 300 250 \r\nz\r\n\" id=\"SimHei-32\" transform=\"scale(0.015625)\"/>\r\n      <path d=\"M 550 1325 \r\nQ 725 650 1150 575 \r\nQ 1575 500 1837 662 \r\nQ 2100 825 2212 1087 \r\nQ 2325 1350 2312 1675 \r\nQ 2300 2000 2137 2225 \r\nQ 1975 2450 1725 2525 \r\nQ 1475 2600 1162 2525 \r\nQ 850 2450 650 2175 \r\nL 225 2225 \r\nQ 275 2375 700 4375 \r\nL 2675 4375 \r\nL 2675 3925 \r\nL 1075 3925 \r\nQ 950 3250 825 2850 \r\nQ 1200 3025 1525 3012 \r\nQ 1850 3000 2150 2862 \r\nQ 2450 2725 2587 2487 \r\nQ 2725 2250 2787 2012 \r\nQ 2850 1775 2837 1500 \r\nQ 2825 1225 2725 937 \r\nQ 2625 650 2425 462 \r\nQ 2225 275 1937 162 \r\nQ 1650 50 1275 75 \r\nQ 900 100 562 350 \r\nQ 225 600 100 1200 \r\nL 550 1325 \r\nz\r\n\" id=\"SimHei-35\" transform=\"scale(0.015625)\"/>\r\n      <path d=\"M 1400 3325 \r\nQ 1400 2600 1187 2400 \r\nQ 975 2200 775 2200 \r\nQ 575 2200 362 2400 \r\nQ 150 2600 150 3325 \r\nQ 150 4050 362 4250 \r\nQ 575 4450 775 4450 \r\nQ 975 4450 1187 4250 \r\nQ 1400 4050 1400 3325 \r\nz\r\nM 2625 4375 \r\nL 700 75 \r\nL 500 150 \r\nL 2425 4450 \r\nL 2625 4375 \r\nz\r\nM 2975 1200 \r\nQ 2975 475 2762 275 \r\nQ 2550 75 2350 75 \r\nQ 2150 75 1937 275 \r\nQ 1725 475 1725 1200 \r\nQ 1725 1925 1937 2125 \r\nQ 2150 2325 2350 2325 \r\nQ 2550 2325 2762 2125 \r\nQ 2975 1925 2975 1200 \r\nz\r\nM 1000 3325 \r\nQ 1000 3775 950 3925 \r\nQ 900 4075 775 4075 \r\nQ 650 4075 600 3925 \r\nQ 550 3775 550 3325 \r\nQ 550 2875 600 2725 \r\nQ 650 2575 775 2575 \r\nQ 900 2575 950 2725 \r\nQ 1000 2875 1000 3325 \r\nz\r\nM 2575 1200 \r\nQ 2575 1650 2525 1800 \r\nQ 2475 1950 2350 1950 \r\nQ 2225 1950 2175 1800 \r\nQ 2125 1650 2125 1200 \r\nQ 2125 750 2175 600 \r\nQ 2225 450 2350 450 \r\nQ 2475 450 2525 600 \r\nQ 2575 750 2575 1200 \r\nz\r\n\" id=\"SimHei-25\" transform=\"scale(0.015625)\"/>\r\n     </defs>\r\n     <use xlink:href=\"#SimHei-36\"/>\r\n     <use x=\"50\" xlink:href=\"#SimHei-2e\"/>\r\n     <use x=\"100\" xlink:href=\"#SimHei-32\"/>\r\n     <use x=\"150\" xlink:href=\"#SimHei-35\"/>\r\n     <use x=\"200\" xlink:href=\"#SimHei-25\"/>\r\n    </g>\r\n   </g>\r\n   <g id=\"text_3\">\r\n    <!-- 2 -->\r\n    <g transform=\"translate(115.92 38.71515)scale(0.1 -0.1)\">\r\n     <use xlink:href=\"#SimHei-32\"/>\r\n    </g>\r\n   </g>\r\n   <g id=\"text_4\">\r\n    <!-- 37.50% -->\r\n    <g transform=\"translate(100.92 82.20315)scale(0.1 -0.1)\">\r\n     <defs>\r\n      <path d=\"M 250 1225 \r\nL 700 1300 \r\nQ 800 975 1025 762 \r\nQ 1250 550 1587 562 \r\nQ 1925 575 2125 837 \r\nQ 2325 1100 2300 1437 \r\nQ 2275 1775 2037 1962 \r\nQ 1800 2150 1275 2225 \r\nL 1275 2550 \r\nQ 1800 2600 2037 2825 \r\nQ 2275 3050 2250 3412 \r\nQ 2225 3775 1925 3937 \r\nQ 1625 4100 1287 3975 \r\nQ 950 3850 750 3275 \r\nL 300 3350 \r\nQ 450 3800 712 4100 \r\nQ 975 4400 1425 4450 \r\nQ 1875 4500 2212 4337 \r\nQ 2550 4175 2687 3837 \r\nQ 2825 3500 2725 3100 \r\nQ 2625 2700 2150 2400 \r\nQ 2500 2250 2687 1950 \r\nQ 2875 1650 2812 1162 \r\nQ 2750 675 2375 375 \r\nQ 2000 75 1525 87 \r\nQ 1050 100 700 387 \r\nQ 350 675 250 1225 \r\nz\r\n\" id=\"SimHei-33\" transform=\"scale(0.015625)\"/>\r\n      <path d=\"M 850 150 \r\nQ 1300 2050 2425 3925 \r\nL 275 3925 \r\nL 275 4375 \r\nL 2950 4375 \r\nL 2950 3950 \r\nQ 1775 2050 1400 150 \r\nL 850 150 \r\nz\r\n\" id=\"SimHei-37\" transform=\"scale(0.015625)\"/>\r\n      <path d=\"M 225 2537 \r\nQ 250 3200 412 3587 \r\nQ 575 3975 875 4225 \r\nQ 1175 4475 1612 4475 \r\nQ 2050 4475 2375 4112 \r\nQ 2700 3750 2800 3200 \r\nQ 2900 2650 2862 1937 \r\nQ 2825 1225 2612 775 \r\nQ 2400 325 1975 150 \r\nQ 1550 -25 1125 187 \r\nQ 700 400 525 750 \r\nQ 350 1100 275 1487 \r\nQ 200 1875 225 2537 \r\nz\r\nM 750 2687 \r\nQ 675 2000 800 1462 \r\nQ 925 925 1212 700 \r\nQ 1500 475 1800 612 \r\nQ 2100 750 2237 1162 \r\nQ 2375 1575 2375 2062 \r\nQ 2375 2550 2337 2950 \r\nQ 2300 3350 2112 3675 \r\nQ 1925 4000 1612 4012 \r\nQ 1300 4025 1062 3700 \r\nQ 825 3375 750 2687 \r\nz\r\n\" id=\"SimHei-30\" transform=\"scale(0.015625)\"/>\r\n     </defs>\r\n     <use xlink:href=\"#SimHei-33\"/>\r\n     <use x=\"50\" xlink:href=\"#SimHei-37\"/>\r\n     <use x=\"100\" xlink:href=\"#SimHei-2e\"/>\r\n     <use x=\"150\" xlink:href=\"#SimHei-35\"/>\r\n     <use x=\"200\" xlink:href=\"#SimHei-30\"/>\r\n     <use x=\"250\" xlink:href=\"#SimHei-25\"/>\r\n    </g>\r\n   </g>\r\n   <g id=\"text_5\">\r\n    <!-- 3 -->\r\n    <g transform=\"translate(43.268549 202.040201)scale(0.1 -0.1)\">\r\n     <use xlink:href=\"#SimHei-33\"/>\r\n    </g>\r\n   </g>\r\n   <g id=\"text_6\">\r\n    <!-- 37.50% -->\r\n    <g transform=\"translate(64.019208 171.289542)scale(0.1 -0.1)\">\r\n     <use xlink:href=\"#SimHei-33\"/>\r\n     <use x=\"50\" xlink:href=\"#SimHei-37\"/>\r\n     <use x=\"100\" xlink:href=\"#SimHei-2e\"/>\r\n     <use x=\"150\" xlink:href=\"#SimHei-35\"/>\r\n     <use x=\"200\" xlink:href=\"#SimHei-30\"/>\r\n     <use x=\"250\" xlink:href=\"#SimHei-25\"/>\r\n    </g>\r\n   </g>\r\n   <g id=\"text_7\">\r\n    <!-- 4 -->\r\n    <g transform=\"translate(195.469691 187.542154)scale(0.1 -0.1)\">\r\n     <defs>\r\n      <path d=\"M 2000 1100 \r\nL 75 1100 \r\nL 75 1525 \r\nL 2100 4450 \r\nL 2475 4450 \r\nL 2475 1525 \r\nL 3075 1525 \r\nL 3075 1100 \r\nL 2475 1100 \r\nL 2475 150 \r\nL 2000 150 \r\nL 2000 1100 \r\nz\r\nM 2000 1525 \r\nL 2000 3500 \r\nL 600 1525 \r\nL 2000 1525 \r\nz\r\n\" id=\"SimHei-34\" transform=\"scale(0.015625)\"/>\r\n     </defs>\r\n     <use xlink:href=\"#SimHei-34\"/>\r\n    </g>\r\n   </g>\r\n   <g id=\"text_8\">\r\n    <!-- 18.75% -->\r\n    <g transform=\"translate(144.310741 163.381516)scale(0.1 -0.1)\">\r\n     <defs>\r\n      <path d=\"M 175 1375 \r\nQ 175 1675 325 1962 \r\nQ 475 2250 825 2425 \r\nQ 525 2600 425 2812 \r\nQ 325 3025 312 3300 \r\nQ 300 3575 387 3775 \r\nQ 475 3975 650 4150 \r\nQ 825 4325 1037 4387 \r\nQ 1250 4450 1500 4450 \r\nQ 1750 4450 1950 4400 \r\nQ 2150 4350 2375 4187 \r\nQ 2600 4025 2700 3725 \r\nQ 2800 3425 2687 3025 \r\nQ 2575 2625 2100 2400 \r\nQ 2525 2275 2700 2012 \r\nQ 2875 1750 2875 1375 \r\nQ 2875 1000 2762 775 \r\nQ 2650 550 2512 400 \r\nQ 2375 250 2137 162 \r\nQ 1900 75 1537 75 \r\nQ 1175 75 912 162 \r\nQ 650 250 475 425 \r\nQ 300 600 237 837 \r\nQ 175 1075 175 1375 \r\nz\r\nM 687 1400 \r\nQ 675 1100 787 875 \r\nQ 900 650 1200 587 \r\nQ 1500 525 1825 600 \r\nQ 2150 675 2275 950 \r\nQ 2400 1225 2362 1500 \r\nQ 2325 1775 2050 1962 \r\nQ 1775 2150 1450 2125 \r\nQ 1125 2100 912 1900 \r\nQ 700 1700 687 1400 \r\nz\r\nM 775 3350 \r\nQ 775 3100 950 2875 \r\nQ 1125 2650 1500 2650 \r\nQ 1875 2650 2062 2875 \r\nQ 2250 3100 2237 3412 \r\nQ 2225 3725 2012 3875 \r\nQ 1800 4025 1437 4000 \r\nQ 1075 3975 925 3787 \r\nQ 775 3600 775 3350 \r\nz\r\n\" id=\"SimHei-38\" transform=\"scale(0.015625)\"/>\r\n     </defs>\r\n     <use xlink:href=\"#SimHei-31\"/>\r\n     <use x=\"50\" xlink:href=\"#SimHei-38\"/>\r\n     <use x=\"100\" xlink:href=\"#SimHei-2e\"/>\r\n     <use x=\"150\" xlink:href=\"#SimHei-37\"/>\r\n     <use x=\"200\" xlink:href=\"#SimHei-35\"/>\r\n     <use x=\"250\" xlink:href=\"#SimHei-25\"/>\r\n    </g>\r\n   </g>\r\n   <g id=\"text_9\">\r\n    <!-- 5 -->\r\n    <g transform=\"translate(211.5936 134.38875)scale(0.1 -0.1)\">\r\n     <use xlink:href=\"#SimHei-35\"/>\r\n    </g>\r\n   </g>\r\n   <g id=\"text_10\">\r\n    <!-- 0.00% -->\r\n    <g transform=\"translate(155.6056 134.38875)scale(0.1 -0.1)\">\r\n     <use xlink:href=\"#SimHei-30\"/>\r\n     <use x=\"50\" xlink:href=\"#SimHei-2e\"/>\r\n     <use x=\"100\" xlink:href=\"#SimHei-30\"/>\r\n     <use x=\"150\" xlink:href=\"#SimHei-30\"/>\r\n     <use x=\"200\" xlink:href=\"#SimHei-25\"/>\r\n    </g>\r\n   </g>\r\n   <g id=\"text_11\">\r\n    <!-- 难易程度 -->\r\n    <g transform=\"translate(91.92 16.85625)scale(0.12 -0.12)\">\r\n     <defs>\r\n      <path d=\"M 5775 1100 \r\nQ 5425 1125 5000 1125 \r\nL 4825 1125 \r\nL 4825 200 \r\nL 5200 200 \r\nQ 5725 200 6075 225 \r\nL 6075 -200 \r\nQ 5750 -175 5200 -175 \r\nL 3425 -175 \r\nL 3425 -675 \r\nL 3000 -675 \r\nQ 3025 -300 3025 600 \r\nL 3025 3125 \r\nQ 2925 2925 2850 2750 \r\nQ 2775 2575 2650 2350 \r\nQ 2500 2500 2200 2600 \r\nQ 2425 2925 2600 3287 \r\nQ 2775 3650 2900 3950 \r\nQ 3025 4250 3112 4550 \r\nQ 3200 4850 3225 5100 \r\nQ 3525 5000 3775 4925 \r\nQ 3700 4825 3600 4587 \r\nQ 3500 4350 3375 4000 \r\nL 5075 4000 \r\nQ 5525 4000 5925 4025 \r\nL 5925 3600 \r\nQ 5700 3625 5100 3625 \r\nL 4825 3625 \r\nL 4825 2800 \r\nL 5025 2800 \r\nQ 5425 2800 5750 2825 \r\nL 5750 2375 \r\nQ 5475 2400 5025 2400 \r\nL 4825 2400 \r\nL 4825 1500 \r\nL 5000 1500 \r\nQ 5450 1500 5775 1525 \r\nL 5775 1100 \r\nz\r\nM 1675 1350 \r\nQ 1450 975 1175 575 \r\nQ 900 175 575 -200 \r\nQ 450 50 250 200 \r\nQ 600 550 850 887 \r\nQ 1100 1225 1350 1750 \r\nQ 1150 2125 962 2425 \r\nQ 775 2725 500 3025 \r\nQ 700 3150 850 3300 \r\nQ 1025 3100 1187 2850 \r\nQ 1350 2600 1550 2300 \r\nQ 1675 2625 1750 3075 \r\nQ 1825 3525 1875 4075 \r\nL 1200 4075 \r\nQ 775 4075 525 4050 \r\nL 525 4525 \r\nQ 775 4500 1175 4500 \r\nL 2375 4500 \r\nQ 2350 4175 2312 3887 \r\nQ 2275 3600 2187 3087 \r\nQ 2100 2575 2012 2300 \r\nQ 1925 2025 1875 1850 \r\nQ 2000 1675 2225 1337 \r\nQ 2450 1000 2675 650 \r\nQ 2475 550 2275 350 \r\nQ 2125 650 1950 937 \r\nQ 1775 1225 1675 1350 \r\nz\r\nM 4350 200 \r\nL 4350 1125 \r\nL 3425 1125 \r\nL 3425 200 \r\nL 4350 200 \r\nz\r\nM 4350 1500 \r\nL 4350 2400 \r\nL 3425 2400 \r\nL 3425 1500 \r\nL 4350 1500 \r\nz\r\nM 4350 2800 \r\nL 4350 3625 \r\nL 3425 3625 \r\nL 3425 2800 \r\nL 4350 2800 \r\nz\r\nM 4675 4200 \r\nQ 4525 4475 4375 4662 \r\nQ 4225 4850 4150 4950 \r\nQ 4325 5075 4475 5225 \r\nQ 4675 5000 4825 4850 \r\nQ 4975 4700 5075 4550 \r\nQ 4850 4375 4675 4200 \r\nz\r\n\" id=\"SimHei-96be\" transform=\"scale(0.015625)\"/>\r\n      <path d=\"M 5200 5000 \r\nQ 5175 4550 5175 4200 \r\nL 5175 3600 \r\nQ 5175 3325 5200 2850 \r\nL 2600 2850 \r\nQ 2475 2625 2200 2325 \r\nL 5650 2325 \r\nL 5575 1525 \r\nL 5400 50 \r\nQ 5325 -325 4937 -437 \r\nQ 4550 -550 4175 -575 \r\nQ 4050 -200 3900 -25 \r\nQ 4175 -50 4512 -12 \r\nQ 4850 25 4925 325 \r\nL 5125 1950 \r\nL 4475 1950 \r\nQ 3900 700 3175 175 \r\nQ 2450 -350 1525 -600 \r\nQ 1475 -425 1175 -225 \r\nQ 1625 -150 2162 87 \r\nQ 2700 325 3162 787 \r\nQ 3625 1250 3950 1950 \r\nL 3175 1950 \r\nQ 2575 875 1075 275 \r\nQ 950 500 675 600 \r\nQ 1125 725 1725 1062 \r\nQ 2325 1400 2675 1950 \r\nL 1850 1950 \r\nQ 1150 1425 725 1225 \r\nQ 650 1425 375 1600 \r\nQ 775 1750 1275 2100 \r\nQ 1775 2450 2025 2850 \r\nL 1225 2850 \r\nQ 1250 3275 1250 3650 \r\nL 1250 4200 \r\nQ 1250 4525 1225 5000 \r\nL 5200 5000 \r\nz\r\nM 4700 3225 \r\nL 4700 3725 \r\nL 1725 3725 \r\nL 1725 3225 \r\nL 4700 3225 \r\nz\r\nM 4700 4125 \r\nL 4700 4600 \r\nL 1725 4600 \r\nL 1725 4125 \r\nL 4700 4125 \r\nz\r\n\" id=\"SimHei-6613\" transform=\"scale(0.015625)\"/>\r\n      <path d=\"M 5825 4975 \r\nQ 5800 4425 5800 3975 \r\nQ 5800 3550 5825 3125 \r\nL 3025 3125 \r\nQ 3050 3600 3050 4025 \r\nQ 3050 4450 3025 4975 \r\nL 5825 4975 \r\nz\r\nM 400 4825 \r\nQ 825 4875 1362 4987 \r\nQ 1900 5100 2275 5275 \r\nQ 2450 4950 2625 4725 \r\nQ 2450 4750 2262 4712 \r\nQ 2075 4675 1850 4650 \r\nL 1850 3425 \r\nQ 2200 3425 2600 3450 \r\nL 2600 2975 \r\nQ 2200 3000 1850 3000 \r\nL 1850 800 \r\nQ 1850 250 1875 -675 \r\nL 1375 -675 \r\nQ 1400 250 1400 775 \r\nL 1400 1925 \r\nQ 1050 1225 625 600 \r\nQ 450 850 225 1050 \r\nQ 575 1400 850 1850 \r\nQ 1125 2300 1350 3000 \r\nQ 725 3000 425 2975 \r\nL 425 3450 \r\nQ 850 3425 1050 3425 \r\nL 1400 3425 \r\nL 1400 4550 \r\nQ 1075 4475 575 4400 \r\nQ 500 4625 400 4825 \r\nz\r\nM 5100 2500 \r\nQ 5500 2500 5950 2525 \r\nL 5950 2075 \r\nQ 5500 2100 5100 2100 \r\nL 4625 2100 \r\nL 4625 1300 \r\nL 4900 1300 \r\nQ 5275 1300 5775 1325 \r\nL 5775 850 \r\nQ 5275 875 4975 875 \r\nL 4625 875 \r\nL 4625 0 \r\nL 5225 0 \r\nQ 5675 0 6175 25 \r\nL 6175 -450 \r\nQ 5775 -425 5225 -425 \r\nL 3550 -425 \r\nQ 3000 -425 2600 -475 \r\nL 2600 25 \r\nQ 3000 0 3550 0 \r\nL 4150 0 \r\nL 4150 875 \r\nL 3800 875 \r\nQ 3400 875 3050 825 \r\nL 3050 1325 \r\nQ 3400 1300 3800 1300 \r\nL 4150 1300 \r\nL 4150 2100 \r\nL 3750 2100 \r\nQ 3300 2100 2900 2075 \r\nL 2900 2525 \r\nQ 3300 2500 3750 2500 \r\nL 5100 2500 \r\nz\r\nM 5275 3575 \r\nL 5275 4550 \r\nL 3500 4550 \r\nL 3500 3575 \r\nL 5275 3575 \r\nz\r\nM 2300 2400 \r\nQ 2550 2025 2825 1525 \r\nQ 2675 1425 2425 1225 \r\nQ 2175 1775 1925 2125 \r\nQ 2075 2250 2300 2400 \r\nz\r\n\" id=\"SimHei-7a0b\" transform=\"scale(0.015625)\"/>\r\n      <path d=\"M 1750 1675 \r\nQ 2450 1650 2875 1650 \r\nL 5200 1650 \r\nQ 4975 1250 4650 850 \r\nQ 4325 450 4025 200 \r\nQ 4350 50 4950 -50 \r\nQ 5550 -150 6100 -150 \r\nQ 5950 -300 5825 -650 \r\nQ 5100 -550 4550 -412 \r\nQ 4000 -275 3625 -100 \r\nQ 3100 -325 2587 -462 \r\nQ 2075 -600 1525 -675 \r\nQ 1450 -475 1225 -250 \r\nQ 1675 -250 2250 -125 \r\nQ 2825 0 3250 200 \r\nQ 2825 550 2400 1275 \r\nL 1750 1250 \r\nL 1750 1675 \r\nz\r\nM 2975 5075 \r\nQ 3250 5150 3475 5250 \r\nQ 3625 4975 3775 4525 \r\nL 4700 4525 \r\nQ 4975 4525 5700 4550 \r\nL 5700 4100 \r\nQ 5000 4125 4650 4125 \r\nL 1375 4125 \r\nQ 1375 3000 1350 2312 \r\nQ 1325 1625 1212 950 \r\nQ 1100 275 725 -525 \r\nQ 500 -375 250 -300 \r\nQ 650 400 762 1075 \r\nQ 875 1750 887 2800 \r\nQ 900 3850 875 4525 \r\nL 3200 4525 \r\nQ 3100 4850 2975 5075 \r\nz\r\nM 2475 3300 \r\nQ 2475 3700 2450 3925 \r\nL 2975 3925 \r\nQ 2950 3725 2950 3300 \r\nL 4300 3300 \r\nQ 4300 3700 4275 3950 \r\nL 4800 3950 \r\nQ 4775 3650 4775 3300 \r\nQ 5325 3300 5725 3325 \r\nL 5725 2900 \r\nQ 5350 2925 4775 2925 \r\nQ 4775 2250 4800 1950 \r\nL 2450 1950 \r\nQ 2475 2350 2475 2925 \r\nQ 2175 2925 1600 2900 \r\nL 1600 3325 \r\nQ 2175 3300 2475 3300 \r\nz\r\nM 4300 2350 \r\nL 4300 2925 \r\nL 2950 2925 \r\nL 2950 2350 \r\nL 4300 2350 \r\nz\r\nM 2875 1275 \r\nQ 3200 775 3650 425 \r\nQ 4025 700 4425 1275 \r\nL 2900 1275 \r\nL 2875 1275 \r\nz\r\n\" id=\"SimHei-5ea6\" transform=\"scale(0.015625)\"/>\r\n     </defs>\r\n     <use xlink:href=\"#SimHei-96be\"/>\r\n     <use x=\"100\" xlink:href=\"#SimHei-6613\"/>\r\n     <use x=\"200\" xlink:href=\"#SimHei-7a0b\"/>\r\n     <use x=\"300\" xlink:href=\"#SimHei-5ea6\"/>\r\n    </g>\r\n   </g>\r\n  </g>\r\n </g>\r\n</svg>\r\n",
      "text/plain": [
       "<Figure size 432x288 with 1 Axes>"
      ]
     },
     "metadata": {},
     "output_type": "display_data"
    }
   ],
   "source": [
    "# 画出饼状图\n",
    "# fig = plt.figure()\n",
    "plt.pie(arr1[1:6], labels=range(1,6), autopct='%.2f%%')\n",
    "plt.title(\"难易程度\")"
   ]
  },
  {
   "cell_type": "markdown",
   "metadata": {},
   "source": [
    "### 读取csv文件"
   ]
  },
  {
   "cell_type": "code",
   "execution_count": 17,
   "metadata": {},
   "outputs": [
    {
     "data": {
      "text/html": [
       "<div>\n",
       "<style scoped>\n",
       "    .dataframe tbody tr th:only-of-type {\n",
       "        vertical-align: middle;\n",
       "    }\n",
       "\n",
       "    .dataframe tbody tr th {\n",
       "        vertical-align: top;\n",
       "    }\n",
       "\n",
       "    .dataframe thead th {\n",
       "        text-align: right;\n",
       "    }\n",
       "</style>\n",
       "<table border=\"1\" class=\"dataframe\">\n",
       "  <thead>\n",
       "    <tr style=\"text-align: right;\">\n",
       "      <th></th>\n",
       "      <th>您之前学习过的编程语言有哪些？</th>\n",
       "      <th>对Scratch的了解程度？</th>\n",
       "      <th>对Python的了解程度？</th>\n",
       "      <th>对下列本次培训授课内容的感兴趣程度进行排序（）</th>\n",
       "      <th>如果让您将Python与其他学科应用结合，您有什么想法或创意？</th>\n",
       "      <th>请您对今天的课程的满意度打分？</th>\n",
       "    </tr>\n",
       "  </thead>\n",
       "  <tbody>\n",
       "    <tr>\n",
       "      <th>0</th>\n",
       "      <td>Scratch，Arduino，micro:bit</td>\n",
       "      <td>5</td>\n",
       "      <td>2</td>\n",
       "      <td>计算思维 &gt; 程序的基础语法 &gt; Python的应用</td>\n",
       "      <td>与数学结合，解决数学问题</td>\n",
       "      <td>5</td>\n",
       "    </tr>\n",
       "    <tr>\n",
       "      <th>1</th>\n",
       "      <td>Java，Scratch</td>\n",
       "      <td>5</td>\n",
       "      <td>1</td>\n",
       "      <td>计算思维 &gt; 程序的基础语法 &gt; Python的应用</td>\n",
       "      <td>还没想到。</td>\n",
       "      <td>5</td>\n",
       "    </tr>\n",
       "    <tr>\n",
       "      <th>2</th>\n",
       "      <td>C/C++，Scratch，LEGO（乐高），Python，LOGO，micro:bit</td>\n",
       "      <td>5</td>\n",
       "      <td>2</td>\n",
       "      <td>计算思维 &gt; Python的应用 &gt; 程序的基础语法</td>\n",
       "      <td>Python海龟绘图与小学数学整合</td>\n",
       "      <td>5</td>\n",
       "    </tr>\n",
       "    <tr>\n",
       "      <th>3</th>\n",
       "      <td>C/C++，Scratch，LOGO</td>\n",
       "      <td>3</td>\n",
       "      <td>1</td>\n",
       "      <td>Python的应用 &gt; 计算思维 &gt; 程序的基础语法</td>\n",
       "      <td>还没学，暂时没想法</td>\n",
       "      <td>5</td>\n",
       "    </tr>\n",
       "    <tr>\n",
       "      <th>4</th>\n",
       "      <td>C/C++，Scratch，Python</td>\n",
       "      <td>3</td>\n",
       "      <td>3</td>\n",
       "      <td>程序的基础语法 &gt; 计算思维 &gt; Python的应用</td>\n",
       "      <td>希望能从老师这里得到启发</td>\n",
       "      <td>5</td>\n",
       "    </tr>\n",
       "  </tbody>\n",
       "</table>\n",
       "</div>"
      ],
      "text/plain": [
       "                                您之前学习过的编程语言有哪些？  对Scratch的了解程度？  \\\n",
       "0                     Scratch，Arduino，micro:bit               5   \n",
       "1                                  Java，Scratch               5   \n",
       "2  C/C++，Scratch，LEGO（乐高），Python，LOGO，micro:bit               5   \n",
       "3                            C/C++，Scratch，LOGO               3   \n",
       "4                          C/C++，Scratch，Python               3   \n",
       "\n",
       "   对Python的了解程度？     对下列本次培训授课内容的感兴趣程度进行排序（） 如果让您将Python与其他学科应用结合，您有什么想法或创意？  \\\n",
       "0              2  计算思维 > 程序的基础语法 > Python的应用                    与数学结合，解决数学问题   \n",
       "1              1  计算思维 > 程序的基础语法 > Python的应用                           还没想到。   \n",
       "2              2  计算思维 > Python的应用 > 程序的基础语法               Python海龟绘图与小学数学整合   \n",
       "3              1  Python的应用 > 计算思维 > 程序的基础语法                       还没学，暂时没想法   \n",
       "4              3  程序的基础语法 > 计算思维 > Python的应用                    希望能从老师这里得到启发   \n",
       "\n",
       "   请您对今天的课程的满意度打分？  \n",
       "0                5  \n",
       "1                5  \n",
       "2                5  \n",
       "3                5  \n",
       "4                5  "
      ]
     },
     "execution_count": 17,
     "metadata": {},
     "output_type": "execute_result"
    }
   ],
   "source": [
    "csv_df = pd.read_csv(\"../反馈1.csv\")\n",
    "csv_df.head()"
   ]
  },
  {
   "cell_type": "markdown",
   "metadata": {},
   "source": [
    "#### 问题二 热力图 探索Scratch了解程度和Python之间的关系\n",
    "\n",
    "画出Scratch了解程度和Python了解程度之间的关系"
   ]
  },
  {
   "cell_type": "code",
   "execution_count": 18,
   "metadata": {},
   "outputs": [
    {
     "data": {
      "text/html": [
       "<div>\n",
       "<style scoped>\n",
       "    .dataframe tbody tr th:only-of-type {\n",
       "        vertical-align: middle;\n",
       "    }\n",
       "\n",
       "    .dataframe tbody tr th {\n",
       "        vertical-align: top;\n",
       "    }\n",
       "\n",
       "    .dataframe thead th {\n",
       "        text-align: right;\n",
       "    }\n",
       "</style>\n",
       "<table border=\"1\" class=\"dataframe\">\n",
       "  <thead>\n",
       "    <tr style=\"text-align: right;\">\n",
       "      <th></th>\n",
       "      <th>对Python的了解程度？</th>\n",
       "      <th>对Scratch的了解程度？</th>\n",
       "    </tr>\n",
       "  </thead>\n",
       "  <tbody>\n",
       "    <tr>\n",
       "      <th>0</th>\n",
       "      <td>2</td>\n",
       "      <td>5</td>\n",
       "    </tr>\n",
       "    <tr>\n",
       "      <th>1</th>\n",
       "      <td>1</td>\n",
       "      <td>5</td>\n",
       "    </tr>\n",
       "    <tr>\n",
       "      <th>2</th>\n",
       "      <td>2</td>\n",
       "      <td>5</td>\n",
       "    </tr>\n",
       "    <tr>\n",
       "      <th>3</th>\n",
       "      <td>1</td>\n",
       "      <td>3</td>\n",
       "    </tr>\n",
       "    <tr>\n",
       "      <th>4</th>\n",
       "      <td>3</td>\n",
       "      <td>3</td>\n",
       "    </tr>\n",
       "  </tbody>\n",
       "</table>\n",
       "</div>"
      ],
      "text/plain": [
       "   对Python的了解程度？  对Scratch的了解程度？\n",
       "0              2               5\n",
       "1              1               5\n",
       "2              2               5\n",
       "3              1               3\n",
       "4              3               3"
      ]
     },
     "execution_count": 18,
     "metadata": {},
     "output_type": "execute_result"
    }
   ],
   "source": [
    "guanxi = csv_df[[\"对Python的了解程度？\",\"对Scratch的了解程度？\"]] \n",
    "guanxi.head()"
   ]
  },
  {
   "cell_type": "markdown",
   "metadata": {},
   "source": [
    "### numpy:更加强大的‘列表’\n",
    "\n",
    "numpy也是一个科学计算库，由于数据处理。"
   ]
  },
  {
   "cell_type": "code",
   "execution_count": 19,
   "metadata": {},
   "outputs": [
    {
     "name": "stdout",
     "output_type": "stream",
     "text": [
      "   对Python的了解程度？  对Scratch的了解程度？\n",
      "0              2               5\n",
      "1              1               5\n",
      "2              2               5\n",
      "3              1               3\n",
      "4              3               3 <class 'pandas.core.frame.DataFrame'>\n",
      "[[2 5]\n",
      " [1 5]\n",
      " [2 5]\n",
      " [1 3]\n",
      " [3 3]] <class 'numpy.ndarray'>\n"
     ]
    }
   ],
   "source": [
    "import numpy as np\n",
    "print(guanxi.head(), type(guanxi))\n",
    "\n",
    "\n",
    "arr2 = np.array(guanxi) # 这里我们将guanxi转化成np中的数组类型\n",
    "print(arr2[:5], type(arr2))"
   ]
  },
  {
   "cell_type": "code",
   "execution_count": 21,
   "metadata": {},
   "outputs": [
    {
     "data": {
      "text/plain": [
       "array([[0., 0., 0., 0., 0., 0., 0., 0.],\n",
       "       [0., 0., 0., 0., 0., 0., 0., 0.],\n",
       "       [0., 0., 0., 0., 0., 0., 0., 0.],\n",
       "       [0., 0., 0., 0., 0., 0., 0., 0.],\n",
       "       [0., 0., 0., 0., 0., 0., 0., 0.],\n",
       "       [0., 0., 0., 0., 0., 0., 0., 0.],\n",
       "       [0., 0., 0., 0., 0., 0., 0., 0.],\n",
       "       [0., 0., 0., 0., 0., 0., 0., 0.]])"
      ]
     },
     "execution_count": 21,
     "metadata": {},
     "output_type": "execute_result"
    }
   ],
   "source": [
    "arr3 = np.zeros((8, 8)) # 5X5\n",
    "arr3"
   ]
  },
  {
   "cell_type": "code",
   "execution_count": 25,
   "metadata": {},
   "outputs": [
    {
     "name": "stdout",
     "output_type": "stream",
     "text": [
      "[[ 0.  0.  0.  0.  0.  0.  0.  0.]\n",
      " [ 0.  4.  4.  4.  2.  2.  0.  0.]\n",
      " [ 0.  4.  6.  6.  2.  5.  0.  0.]\n",
      " [ 0.  0.  2. 18.  6.  4.  0.  0.]\n",
      " [ 0.  0.  0.  4.  2.  4.  0.  0.]\n",
      " [ 0.  0.  0.  0.  0.  0.  0.  0.]\n",
      " [ 0.  0.  0.  0.  0.  0.  0.  0.]\n",
      " [ 0.  0.  0.  0.  0.  0.  0.  0.]]\n"
     ]
    }
   ],
   "source": [
    "# 数据处理\n",
    "for each in arr2: \n",
    "    # print(each)\n",
    "    arr3[each[0], each[1]] +=1 # [Python, Scracth]\n",
    "\n",
    "print(arr3)"
   ]
  },
  {
   "cell_type": "code",
   "execution_count": 28,
   "metadata": {},
   "outputs": [
    {
     "data": {
      "text/plain": [
       "array([[ 0.,  0.,  0.,  0.,  0.,  0.],\n",
       "       [ 0.,  4.,  4.,  4.,  2.,  2.],\n",
       "       [ 0.,  4.,  6.,  6.,  2.,  5.],\n",
       "       [ 0.,  0.,  2., 18.,  6.,  4.],\n",
       "       [ 0.,  0.,  0.,  4.,  2.,  4.],\n",
       "       [ 0.,  0.,  0.,  0.,  0.,  0.]])"
      ]
     },
     "execution_count": 28,
     "metadata": {},
     "output_type": "execute_result"
    }
   ],
   "source": [
    "arr3[:6, :6]"
   ]
  },
  {
   "cell_type": "code",
   "execution_count": 29,
   "metadata": {},
   "outputs": [
    {
     "data": {
      "image/svg+xml": "<?xml version=\"1.0\" encoding=\"utf-8\" standalone=\"no\"?>\r\n<!DOCTYPE svg PUBLIC \"-//W3C//DTD SVG 1.1//EN\"\r\n  \"http://www.w3.org/Graphics/SVG/1.1/DTD/svg11.dtd\">\r\n<svg height=\"276.191562pt\" version=\"1.1\" viewBox=\"0 0 301.98325 276.191562\" width=\"301.98325pt\" xmlns=\"http://www.w3.org/2000/svg\" xmlns:xlink=\"http://www.w3.org/1999/xlink\">\r\n <metadata>\r\n  <rdf:RDF xmlns:cc=\"http://creativecommons.org/ns#\" xmlns:dc=\"http://purl.org/dc/elements/1.1/\" xmlns:rdf=\"http://www.w3.org/1999/02/22-rdf-syntax-ns#\">\r\n   <cc:Work>\r\n    <dc:type rdf:resource=\"http://purl.org/dc/dcmitype/StillImage\"/>\r\n    <dc:date>2021-11-14T11:45:46.400766</dc:date>\r\n    <dc:format>image/svg+xml</dc:format>\r\n    <dc:creator>\r\n     <cc:Agent>\r\n      <dc:title>Matplotlib v3.4.3, https://matplotlib.org/</dc:title>\r\n     </cc:Agent>\r\n    </dc:creator>\r\n   </cc:Work>\r\n  </rdf:RDF>\r\n </metadata>\r\n <defs>\r\n  <style type=\"text/css\">*{stroke-linecap:butt;stroke-linejoin:round;}</style>\r\n </defs>\r\n <g id=\"figure_1\">\r\n  <g id=\"patch_1\">\r\n   <path d=\"M 0 276.191562 \r\nL 301.98325 276.191562 \r\nL 301.98325 0 \r\nL 0 0 \r\nz\r\n\" style=\"fill:none;\"/>\r\n  </g>\r\n  <g id=\"axes_1\">\r\n   <g id=\"patch_2\">\r\n    <path d=\"M 32.73125 240.530625 \r\nL 250.17125 240.530625 \r\nL 250.17125 23.090625 \r\nL 32.73125 23.090625 \r\nz\r\n\" style=\"fill:#ffffff;\"/>\r\n   </g>\r\n   <g clip-path=\"url(#p98c4872f11)\">\r\n    <image height=\"218\" id=\"image385c6f108f\" transform=\"scale(1 -1)translate(0 -218)\" width=\"218\" x=\"32.73125\" xlink:href=\"data:image/png;base64,\r\niVBORw0KGgoAAAANSUhEUgAAANoAAADaCAYAAADAHVzbAAADD0lEQVR4nO3dMUrWARjHcV+TwEUiiLaGgg6geAMHD+AlukX3CDpHW+1BR2hwVBBxEcTQ1T8viO/Q9yn8fE7wW74847M6Wp3cbQF/1fb0AHgOhAYBoUFAaBAQGgSEBgGhQUBoEBAaBIQGAaFBQGgQEBoEhAYBoUFAaBAQGgSEBgGhQUBoEBAaBIQGAaFBQGgQEBoEhAYBoUFAaBAQGgSEBgGhQUBoEBAaBIQGAaFBYGd6AJu7OT6cnrCw+/tiesKa6/evpycsuGgQEBoEhAYBoUFAaBAQGgSEBgGhQUBoEBAaBIQGAaFBQGgQEBoEhAYBoUFAaBAQGgSEBgGhQUBoEBAaBIQGAaFBQGgQEBoEhAYBoUFAaBAQGgSEBgGhQUBoEBAaBIQGAaFBwLP4J3jx8cP0hIXvX79MT1g4+PxpesKavdPb6QkLLhoEhAYBoUFAaBAQGgSEBgGhQUBoEBAaBIQGAaFBQGgQEBoEhAYBoUFAaBAQGgSEBgGhQUBoEBAaBIQGAaFBQGgQEBoEhAYBoUFAaBAQGgSEBgGhQUBoEBAaBIQGAaFBYHW0OrmbHvHQzfHh9IQ1V++8+n7M2x9n0xPWXO6/mZ6w4KJBQGgQEBoEhAYBoUFAaBAQGgSEBgGhQUBoEBAaBIQGAaFBQGgQEBoEhAYBoUFAaBAQGgSEBgGhQUBoEBAaBIQGAaFBQGgQEBoEhAYBoUFAaBAQGgSEBgGhQUBoEBAaBDxnfoK909vpCWzo1a/z6QkLLhoEhAYBoUFAaBAQGgSEBgGhQUBoEBAaBIQGAaFBQGgQEBoEhAYBoUFAaBAQGgSEBgGhQUBoEBAaBIQGAaFBQGgQEBoEhAYBoUFAaBAQGgSEBgGhQUBoEBAaBIQGAaFBQGgQ+Oeexb/89nN6Ahv6Mz3gP+CiQUBoEBAaBIQGAaFBQGgQEBoEhAYBoUFAaBAQGgSEBgGhQUBoEBAaBIQGAaFBQGgQEBoEhAYBoUFAaBAQGgSEBgGhQUBoEBAaBIQGAaFBQGgQEBoEhAYBoUFAaBAQGgTuAdAtGmwC9PoYAAAAAElFTkSuQmCC\" y=\"-22.530625\"/>\r\n   </g>\r\n   <g id=\"matplotlib.axis_1\">\r\n    <g id=\"xtick_1\">\r\n     <g id=\"line2d_1\">\r\n      <defs>\r\n       <path d=\"M 0 0 \r\nL 0 3.5 \r\n\" id=\"mde5e7a3233\" style=\"stroke:#000000;stroke-width:0.8;\"/>\r\n      </defs>\r\n      <g>\r\n       <use style=\"stroke:#000000;stroke-width:0.8;\" x=\"50.85125\" xlink:href=\"#mde5e7a3233\" y=\"240.530625\"/>\r\n      </g>\r\n     </g>\r\n     <g id=\"text_1\">\r\n      <!-- 0 -->\r\n      <g transform=\"translate(48.35125 254.405625)scale(0.1 -0.1)\">\r\n       <defs>\r\n        <path d=\"M 225 2537 \r\nQ 250 3200 412 3587 \r\nQ 575 3975 875 4225 \r\nQ 1175 4475 1612 4475 \r\nQ 2050 4475 2375 4112 \r\nQ 2700 3750 2800 3200 \r\nQ 2900 2650 2862 1937 \r\nQ 2825 1225 2612 775 \r\nQ 2400 325 1975 150 \r\nQ 1550 -25 1125 187 \r\nQ 700 400 525 750 \r\nQ 350 1100 275 1487 \r\nQ 200 1875 225 2537 \r\nz\r\nM 750 2687 \r\nQ 675 2000 800 1462 \r\nQ 925 925 1212 700 \r\nQ 1500 475 1800 612 \r\nQ 2100 750 2237 1162 \r\nQ 2375 1575 2375 2062 \r\nQ 2375 2550 2337 2950 \r\nQ 2300 3350 2112 3675 \r\nQ 1925 4000 1612 4012 \r\nQ 1300 4025 1062 3700 \r\nQ 825 3375 750 2687 \r\nz\r\n\" id=\"SimHei-30\" transform=\"scale(0.015625)\"/>\r\n       </defs>\r\n       <use xlink:href=\"#SimHei-30\"/>\r\n      </g>\r\n     </g>\r\n    </g>\r\n    <g id=\"xtick_2\">\r\n     <g id=\"line2d_2\">\r\n      <g>\r\n       <use style=\"stroke:#000000;stroke-width:0.8;\" x=\"87.09125\" xlink:href=\"#mde5e7a3233\" y=\"240.530625\"/>\r\n      </g>\r\n     </g>\r\n     <g id=\"text_2\">\r\n      <!-- 1 -->\r\n      <g transform=\"translate(84.59125 254.405625)scale(0.1 -0.1)\">\r\n       <defs>\r\n        <path d=\"M 1400 3600 \r\nQ 1075 3275 575 2975 \r\nL 575 3450 \r\nQ 1200 3875 1600 4450 \r\nL 1900 4450 \r\nL 1900 150 \r\nL 1400 150 \r\nL 1400 3600 \r\nz\r\n\" id=\"SimHei-31\" transform=\"scale(0.015625)\"/>\r\n       </defs>\r\n       <use xlink:href=\"#SimHei-31\"/>\r\n      </g>\r\n     </g>\r\n    </g>\r\n    <g id=\"xtick_3\">\r\n     <g id=\"line2d_3\">\r\n      <g>\r\n       <use style=\"stroke:#000000;stroke-width:0.8;\" x=\"123.33125\" xlink:href=\"#mde5e7a3233\" y=\"240.530625\"/>\r\n      </g>\r\n     </g>\r\n     <g id=\"text_3\">\r\n      <!-- 2 -->\r\n      <g transform=\"translate(120.83125 254.405625)scale(0.1 -0.1)\">\r\n       <defs>\r\n        <path d=\"M 300 250 \r\nQ 325 625 650 925 \r\nQ 975 1225 1475 1862 \r\nQ 1975 2500 2125 2850 \r\nQ 2275 3200 2237 3450 \r\nQ 2200 3700 2000 3862 \r\nQ 1800 4025 1537 4000 \r\nQ 1275 3975 1037 3800 \r\nQ 800 3625 675 3275 \r\nL 200 3350 \r\nQ 400 3925 712 4187 \r\nQ 1025 4450 1450 4475 \r\nQ 1700 4500 1900 4462 \r\nQ 2100 4425 2312 4287 \r\nQ 2525 4150 2662 3875 \r\nQ 2800 3600 2762 3212 \r\nQ 2725 2825 2375 2287 \r\nQ 2025 1750 1025 600 \r\nL 2825 600 \r\nL 2825 150 \r\nL 300 150 \r\nL 300 250 \r\nz\r\n\" id=\"SimHei-32\" transform=\"scale(0.015625)\"/>\r\n       </defs>\r\n       <use xlink:href=\"#SimHei-32\"/>\r\n      </g>\r\n     </g>\r\n    </g>\r\n    <g id=\"xtick_4\">\r\n     <g id=\"line2d_4\">\r\n      <g>\r\n       <use style=\"stroke:#000000;stroke-width:0.8;\" x=\"159.57125\" xlink:href=\"#mde5e7a3233\" y=\"240.530625\"/>\r\n      </g>\r\n     </g>\r\n     <g id=\"text_4\">\r\n      <!-- 3 -->\r\n      <g transform=\"translate(157.07125 254.405625)scale(0.1 -0.1)\">\r\n       <defs>\r\n        <path d=\"M 250 1225 \r\nL 700 1300 \r\nQ 800 975 1025 762 \r\nQ 1250 550 1587 562 \r\nQ 1925 575 2125 837 \r\nQ 2325 1100 2300 1437 \r\nQ 2275 1775 2037 1962 \r\nQ 1800 2150 1275 2225 \r\nL 1275 2550 \r\nQ 1800 2600 2037 2825 \r\nQ 2275 3050 2250 3412 \r\nQ 2225 3775 1925 3937 \r\nQ 1625 4100 1287 3975 \r\nQ 950 3850 750 3275 \r\nL 300 3350 \r\nQ 450 3800 712 4100 \r\nQ 975 4400 1425 4450 \r\nQ 1875 4500 2212 4337 \r\nQ 2550 4175 2687 3837 \r\nQ 2825 3500 2725 3100 \r\nQ 2625 2700 2150 2400 \r\nQ 2500 2250 2687 1950 \r\nQ 2875 1650 2812 1162 \r\nQ 2750 675 2375 375 \r\nQ 2000 75 1525 87 \r\nQ 1050 100 700 387 \r\nQ 350 675 250 1225 \r\nz\r\n\" id=\"SimHei-33\" transform=\"scale(0.015625)\"/>\r\n       </defs>\r\n       <use xlink:href=\"#SimHei-33\"/>\r\n      </g>\r\n     </g>\r\n    </g>\r\n    <g id=\"xtick_5\">\r\n     <g id=\"line2d_5\">\r\n      <g>\r\n       <use style=\"stroke:#000000;stroke-width:0.8;\" x=\"195.81125\" xlink:href=\"#mde5e7a3233\" y=\"240.530625\"/>\r\n      </g>\r\n     </g>\r\n     <g id=\"text_5\">\r\n      <!-- 4 -->\r\n      <g transform=\"translate(193.31125 254.405625)scale(0.1 -0.1)\">\r\n       <defs>\r\n        <path d=\"M 2000 1100 \r\nL 75 1100 \r\nL 75 1525 \r\nL 2100 4450 \r\nL 2475 4450 \r\nL 2475 1525 \r\nL 3075 1525 \r\nL 3075 1100 \r\nL 2475 1100 \r\nL 2475 150 \r\nL 2000 150 \r\nL 2000 1100 \r\nz\r\nM 2000 1525 \r\nL 2000 3500 \r\nL 600 1525 \r\nL 2000 1525 \r\nz\r\n\" id=\"SimHei-34\" transform=\"scale(0.015625)\"/>\r\n       </defs>\r\n       <use xlink:href=\"#SimHei-34\"/>\r\n      </g>\r\n     </g>\r\n    </g>\r\n    <g id=\"xtick_6\">\r\n     <g id=\"line2d_6\">\r\n      <g>\r\n       <use style=\"stroke:#000000;stroke-width:0.8;\" x=\"232.05125\" xlink:href=\"#mde5e7a3233\" y=\"240.530625\"/>\r\n      </g>\r\n     </g>\r\n     <g id=\"text_6\">\r\n      <!-- 5 -->\r\n      <g transform=\"translate(229.55125 254.405625)scale(0.1 -0.1)\">\r\n       <defs>\r\n        <path d=\"M 550 1325 \r\nQ 725 650 1150 575 \r\nQ 1575 500 1837 662 \r\nQ 2100 825 2212 1087 \r\nQ 2325 1350 2312 1675 \r\nQ 2300 2000 2137 2225 \r\nQ 1975 2450 1725 2525 \r\nQ 1475 2600 1162 2525 \r\nQ 850 2450 650 2175 \r\nL 225 2225 \r\nQ 275 2375 700 4375 \r\nL 2675 4375 \r\nL 2675 3925 \r\nL 1075 3925 \r\nQ 950 3250 825 2850 \r\nQ 1200 3025 1525 3012 \r\nQ 1850 3000 2150 2862 \r\nQ 2450 2725 2587 2487 \r\nQ 2725 2250 2787 2012 \r\nQ 2850 1775 2837 1500 \r\nQ 2825 1225 2725 937 \r\nQ 2625 650 2425 462 \r\nQ 2225 275 1937 162 \r\nQ 1650 50 1275 75 \r\nQ 900 100 562 350 \r\nQ 225 600 100 1200 \r\nL 550 1325 \r\nz\r\n\" id=\"SimHei-35\" transform=\"scale(0.015625)\"/>\r\n       </defs>\r\n       <use xlink:href=\"#SimHei-35\"/>\r\n      </g>\r\n     </g>\r\n    </g>\r\n    <g id=\"text_7\">\r\n     <!-- 对Scratch的了解程度 -->\r\n     <g transform=\"translate(93.95125 267.741562)scale(0.1 -0.1)\">\r\n      <defs>\r\n       <path d=\"M 525 4250 \r\nQ 900 4225 1400 4225 \r\nL 2825 4225 \r\nQ 2575 2625 2200 1750 \r\nQ 2825 875 3125 400 \r\nQ 2950 275 2725 75 \r\nQ 2200 975 1950 1300 \r\nQ 1650 775 1350 425 \r\nQ 1050 75 600 -350 \r\nQ 425 -125 200 -25 \r\nQ 625 275 975 675 \r\nQ 1325 1075 1650 1700 \r\nQ 1050 2425 550 2900 \r\nQ 700 3025 900 3225 \r\nQ 1625 2425 1875 2150 \r\nQ 2200 3050 2300 3825 \r\nL 1400 3825 \r\nQ 900 3825 525 3800 \r\nL 525 4250 \r\nz\r\nM 2925 3700 \r\nQ 3525 3675 3750 3675 \r\nL 4825 3675 \r\nL 4825 4425 \r\nQ 4825 4750 4775 5125 \r\nL 5350 5125 \r\nQ 5325 4825 5325 4375 \r\nL 5325 3675 \r\nQ 5575 3675 6150 3700 \r\nL 6150 3250 \r\nQ 5575 3275 5325 3275 \r\nL 5325 125 \r\nQ 5350 -350 5012 -475 \r\nQ 4675 -600 4250 -650 \r\nQ 4175 -350 4025 -100 \r\nQ 4575 -100 4712 -37 \r\nQ 4850 25 4825 325 \r\nL 4825 3275 \r\nL 3775 3275 \r\nQ 3550 3275 2925 3225 \r\nL 2925 3700 \r\nz\r\nM 3450 2725 \r\nQ 3875 1975 4175 1325 \r\nQ 3850 1200 3700 1075 \r\nQ 3475 1750 3050 2475 \r\nQ 3225 2550 3450 2725 \r\nz\r\n\" id=\"SimHei-5bf9\" transform=\"scale(0.015625)\"/>\r\n       <path d=\"M 2900 1325 \r\nQ 2900 750 2537 412 \r\nQ 2175 75 1550 75 \r\nQ 925 75 575 425 \r\nQ 225 775 225 1300 \r\nL 225 1475 \r\nL 800 1475 \r\nL 800 1325 \r\nQ 800 950 1025 750 \r\nQ 1250 550 1550 550 \r\nQ 1950 550 2137 762 \r\nQ 2325 975 2325 1275 \r\nQ 2325 1525 2100 1737 \r\nQ 1875 1950 1450 2125 \r\nQ 850 2350 587 2625 \r\nQ 325 2900 325 3275 \r\nQ 325 3800 687 4125 \r\nQ 1050 4450 1550 4450 \r\nQ 2200 4450 2487 4062 \r\nQ 2775 3675 2775 3225 \r\nL 2200 3225 \r\nQ 2225 3500 2050 3725 \r\nQ 1875 3950 1550 3950 \r\nQ 1250 3950 1075 3787 \r\nQ 900 3625 900 3350 \r\nQ 900 3125 1037 2962 \r\nQ 1175 2800 1750 2575 \r\nQ 2300 2350 2600 2037 \r\nQ 2900 1725 2900 1325 \r\nz\r\n\" id=\"SimHei-53\" transform=\"scale(0.015625)\"/>\r\n       <path d=\"M 2850 1250 \r\nQ 2850 725 2487 400 \r\nQ 2125 75 1575 75 \r\nQ 1025 75 625 462 \r\nQ 225 850 225 1525 \r\nQ 225 2200 625 2587 \r\nQ 1025 2975 1575 2975 \r\nQ 2125 2975 2450 2687 \r\nQ 2775 2400 2775 2000 \r\nL 2225 2000 \r\nQ 2200 2300 2012 2412 \r\nQ 1825 2525 1575 2525 \r\nQ 1275 2525 1025 2287 \r\nQ 775 2050 775 1525 \r\nQ 775 1000 1025 762 \r\nQ 1275 525 1575 525 \r\nQ 1900 525 2100 700 \r\nQ 2300 875 2300 1250 \r\nL 2850 1250 \r\nz\r\n\" id=\"SimHei-63\" transform=\"scale(0.015625)\"/>\r\n       <path d=\"M 2500 2425 \r\nQ 2025 2500 1700 2287 \r\nQ 1375 2075 1150 1550 \r\nL 1150 125 \r\nL 650 125 \r\nL 650 2925 \r\nL 1150 2925 \r\nL 1150 2200 \r\nQ 1375 2600 1712 2787 \r\nQ 2050 2975 2500 2975 \r\nL 2500 2425 \r\nz\r\n\" id=\"SimHei-72\" transform=\"scale(0.015625)\"/>\r\n       <path d=\"M 2875 125 \r\nL 2275 125 \r\nQ 2225 175 2200 262 \r\nQ 2175 350 2175 475 \r\nQ 2000 275 1750 175 \r\nQ 1500 75 1225 75 \r\nQ 825 75 550 275 \r\nQ 275 475 275 850 \r\nQ 275 1225 525 1450 \r\nQ 775 1675 1300 1750 \r\nQ 1650 1800 1912 1875 \r\nQ 2175 1950 2175 2075 \r\nQ 2175 2225 2062 2375 \r\nQ 1950 2525 1575 2525 \r\nQ 1275 2525 1137 2412 \r\nQ 1000 2300 950 2100 \r\nL 400 2100 \r\nQ 450 2500 762 2737 \r\nQ 1075 2975 1575 2975 \r\nQ 2125 2975 2400 2725 \r\nQ 2675 2475 2675 2025 \r\nL 2675 650 \r\nQ 2675 500 2725 375 \r\nQ 2775 250 2875 125 \r\nz\r\nM 2175 1050 \r\nL 2175 1550 \r\nQ 2025 1500 1887 1462 \r\nQ 1750 1425 1425 1375 \r\nQ 1050 1325 937 1200 \r\nQ 825 1075 825 900 \r\nQ 825 750 937 637 \r\nQ 1050 525 1275 525 \r\nQ 1500 525 1762 650 \r\nQ 2025 775 2175 1050 \r\nz\r\n\" id=\"SimHei-61\" transform=\"scale(0.015625)\"/>\r\n       <path d=\"M 2750 200 \r\nQ 2625 150 2462 112 \r\nQ 2300 75 2025 75 \r\nQ 1575 75 1300 325 \r\nQ 1025 575 1025 1025 \r\nL 1025 2525 \r\nL 175 2525 \r\nL 175 2925 \r\nL 1025 2925 \r\nL 1025 3900 \r\nL 1525 3900 \r\nL 1525 2925 \r\nL 2550 2925 \r\nL 2550 2525 \r\nL 1525 2525 \r\nL 1525 1000 \r\nQ 1525 800 1625 662 \r\nQ 1725 525 2000 525 \r\nQ 2275 525 2450 575 \r\nQ 2625 625 2750 700 \r\nL 2750 200 \r\nz\r\n\" id=\"SimHei-74\" transform=\"scale(0.015625)\"/>\r\n       <path d=\"M 2800 125 \r\nL 2300 125 \r\nL 2300 1925 \r\nQ 2300 2225 2150 2400 \r\nQ 2000 2575 1750 2575 \r\nQ 1425 2575 1137 2237 \r\nQ 850 1900 850 1400 \r\nL 850 125 \r\nL 350 125 \r\nL 350 4400 \r\nL 850 4400 \r\nL 850 2400 \r\nQ 1050 2675 1287 2825 \r\nQ 1525 2975 1900 2975 \r\nQ 2350 2975 2575 2725 \r\nQ 2800 2475 2800 2100 \r\nL 2800 125 \r\nz\r\n\" id=\"SimHei-68\" transform=\"scale(0.015625)\"/>\r\n       <path d=\"M 2100 4975 \r\nQ 1975 4750 1750 3950 \r\nL 2875 3950 \r\nQ 2850 3525 2850 2875 \r\nL 2850 675 \r\nQ 2850 300 2875 -400 \r\nL 2375 -400 \r\nL 2375 100 \r\nL 1100 100 \r\nL 1100 -450 \r\nL 600 -450 \r\nQ 625 350 625 550 \r\nL 625 2850 \r\nQ 625 3525 600 3950 \r\nL 1325 3950 \r\nQ 1450 4525 1525 5150 \r\nQ 1875 5025 2100 4975 \r\nz\r\nM 5825 3075 \r\nQ 5800 1550 5700 175 \r\nQ 5650 -275 5225 -425 \r\nQ 4800 -575 4275 -625 \r\nQ 4250 -350 4050 -50 \r\nQ 4550 -75 4837 -25 \r\nQ 5125 25 5200 200 \r\nQ 5275 375 5312 1225 \r\nQ 5350 2075 5375 3600 \r\nL 3925 3600 \r\nQ 3725 3125 3350 2475 \r\nQ 3175 2650 2925 2750 \r\nQ 3150 3050 3350 3475 \r\nQ 3550 3900 3700 4400 \r\nQ 3850 4900 3875 5175 \r\nQ 4225 5025 4475 4950 \r\nQ 4350 4750 4262 4512 \r\nQ 4175 4275 4075 4050 \r\nL 5850 4050 \r\nQ 5825 3525 5825 3075 \r\nz\r\nM 2375 525 \r\nL 2375 1850 \r\nL 1100 1850 \r\nL 1100 525 \r\nL 2375 525 \r\nz\r\nM 2375 2275 \r\nL 2375 3525 \r\nL 1100 3525 \r\nL 1100 2275 \r\nL 2375 2275 \r\nz\r\nM 4350 2050 \r\nQ 4500 1750 4700 1275 \r\nQ 4525 1200 4225 1025 \r\nQ 4050 1500 3900 1837 \r\nQ 3750 2175 3600 2400 \r\nQ 3775 2500 4050 2650 \r\nL 4350 2050 \r\nz\r\n\" id=\"SimHei-7684\" transform=\"scale(0.015625)\"/>\r\n       <path d=\"M 5600 4800 \r\nL 5600 4250 \r\nQ 5325 4150 4575 3650 \r\nQ 3825 3150 3500 2900 \r\nL 3500 50 \r\nQ 3475 -375 3062 -487 \r\nQ 2650 -600 2225 -650 \r\nQ 2100 -125 1975 50 \r\nQ 2600 25 2775 62 \r\nQ 2950 100 2950 400 \r\nL 2950 2400 \r\nQ 2950 2975 2875 3200 \r\nQ 3300 3375 4725 4350 \r\nL 2075 4350 \r\nQ 1475 4325 925 4325 \r\nL 925 4825 \r\nQ 1475 4800 1825 4800 \r\nL 5600 4800 \r\nz\r\n\" id=\"SimHei-4e86\" transform=\"scale(0.015625)\"/>\r\n       <path d=\"M 1925 5025 \r\nQ 1725 4925 1625 4575 \r\nL 2925 4575 \r\nQ 2800 4400 2600 4100 \r\nQ 2400 3800 2325 3650 \r\nL 3225 3650 \r\nQ 3175 3150 3175 2650 \r\nL 3175 75 \r\nQ 3175 -225 3012 -312 \r\nQ 2850 -400 2500 -450 \r\nQ 2450 -175 2350 75 \r\nQ 2550 75 2650 87 \r\nQ 2750 100 2750 325 \r\nL 2750 1150 \r\nL 2225 1150 \r\nL 2225 -25 \r\nL 1800 -25 \r\nL 1800 1150 \r\nL 1275 1150 \r\nQ 1250 775 1150 375 \r\nQ 1050 -25 825 -500 \r\nQ 600 -375 350 -250 \r\nQ 600 100 725 612 \r\nQ 850 1125 875 1925 \r\nQ 900 2725 875 3525 \r\nQ 675 3300 550 3175 \r\nQ 400 3375 200 3525 \r\nQ 575 3825 887 4262 \r\nQ 1200 4700 1400 5300 \r\nQ 1600 5175 1925 5025 \r\nz\r\nM 4325 2425 \r\nQ 4200 2325 4150 2125 \r\nL 4575 2125 \r\nQ 4575 2650 4550 2825 \r\nL 5050 2825 \r\nQ 5000 2600 5000 2125 \r\nL 5350 2125 \r\nQ 5725 2125 5950 2150 \r\nL 5950 1700 \r\nQ 5625 1750 5300 1750 \r\nL 5000 1750 \r\nL 5000 1025 \r\nL 5175 1025 \r\nQ 5650 1025 6150 1050 \r\nL 6150 625 \r\nQ 5675 650 5175 650 \r\nL 5000 650 \r\nL 5000 225 \r\nQ 5000 -125 5025 -650 \r\nL 4550 -650 \r\nQ 4575 -125 4575 225 \r\nL 4575 650 \r\nL 4025 650 \r\nQ 3750 650 3325 625 \r\nL 3325 1050 \r\nQ 3700 1025 4025 1025 \r\nL 4575 1025 \r\nL 4575 1750 \r\nL 3950 1750 \r\nQ 3875 1550 3725 1250 \r\nQ 3550 1350 3325 1525 \r\nQ 3500 1725 3625 2050 \r\nQ 3750 2375 3825 2675 \r\nL 4325 2425 \r\nz\r\nM 4900 2975 \r\nQ 4850 3250 4725 3500 \r\nQ 5000 3500 5162 3525 \r\nQ 5325 3550 5350 3675 \r\nQ 5375 3800 5425 4550 \r\nL 4525 4550 \r\nQ 4375 3850 4225 3537 \r\nQ 4075 3225 3750 2850 \r\nQ 3600 3050 3350 3225 \r\nQ 3625 3425 3800 3737 \r\nQ 3975 4050 4050 4550 \r\nQ 3750 4550 3325 4525 \r\nL 3325 4950 \r\nQ 3725 4925 4050 4925 \r\nL 5925 4925 \r\nQ 5850 3700 5787 3450 \r\nQ 5725 3200 5475 3100 \r\nQ 5225 3000 4900 2975 \r\nz\r\nM 1825 3650 \r\nQ 2025 3900 2175 4200 \r\nL 1375 4200 \r\nQ 1150 3900 975 3650 \r\nL 1825 3650 \r\nz\r\nM 2750 1550 \r\nL 2750 2225 \r\nL 2225 2225 \r\nL 2225 1550 \r\nL 2750 1550 \r\nz\r\nM 2750 2600 \r\nL 2750 3275 \r\nL 2225 3275 \r\nL 2225 2600 \r\nL 2750 2600 \r\nz\r\nM 1800 1550 \r\nL 1800 2225 \r\nL 1325 2225 \r\nL 1300 1550 \r\nL 1800 1550 \r\nz\r\nM 1800 2600 \r\nL 1800 3275 \r\nL 1325 3275 \r\nL 1325 2600 \r\nL 1800 2600 \r\nz\r\n\" id=\"SimHei-89e3\" transform=\"scale(0.015625)\"/>\r\n       <path d=\"M 5825 4975 \r\nQ 5800 4425 5800 3975 \r\nQ 5800 3550 5825 3125 \r\nL 3025 3125 \r\nQ 3050 3600 3050 4025 \r\nQ 3050 4450 3025 4975 \r\nL 5825 4975 \r\nz\r\nM 400 4825 \r\nQ 825 4875 1362 4987 \r\nQ 1900 5100 2275 5275 \r\nQ 2450 4950 2625 4725 \r\nQ 2450 4750 2262 4712 \r\nQ 2075 4675 1850 4650 \r\nL 1850 3425 \r\nQ 2200 3425 2600 3450 \r\nL 2600 2975 \r\nQ 2200 3000 1850 3000 \r\nL 1850 800 \r\nQ 1850 250 1875 -675 \r\nL 1375 -675 \r\nQ 1400 250 1400 775 \r\nL 1400 1925 \r\nQ 1050 1225 625 600 \r\nQ 450 850 225 1050 \r\nQ 575 1400 850 1850 \r\nQ 1125 2300 1350 3000 \r\nQ 725 3000 425 2975 \r\nL 425 3450 \r\nQ 850 3425 1050 3425 \r\nL 1400 3425 \r\nL 1400 4550 \r\nQ 1075 4475 575 4400 \r\nQ 500 4625 400 4825 \r\nz\r\nM 5100 2500 \r\nQ 5500 2500 5950 2525 \r\nL 5950 2075 \r\nQ 5500 2100 5100 2100 \r\nL 4625 2100 \r\nL 4625 1300 \r\nL 4900 1300 \r\nQ 5275 1300 5775 1325 \r\nL 5775 850 \r\nQ 5275 875 4975 875 \r\nL 4625 875 \r\nL 4625 0 \r\nL 5225 0 \r\nQ 5675 0 6175 25 \r\nL 6175 -450 \r\nQ 5775 -425 5225 -425 \r\nL 3550 -425 \r\nQ 3000 -425 2600 -475 \r\nL 2600 25 \r\nQ 3000 0 3550 0 \r\nL 4150 0 \r\nL 4150 875 \r\nL 3800 875 \r\nQ 3400 875 3050 825 \r\nL 3050 1325 \r\nQ 3400 1300 3800 1300 \r\nL 4150 1300 \r\nL 4150 2100 \r\nL 3750 2100 \r\nQ 3300 2100 2900 2075 \r\nL 2900 2525 \r\nQ 3300 2500 3750 2500 \r\nL 5100 2500 \r\nz\r\nM 5275 3575 \r\nL 5275 4550 \r\nL 3500 4550 \r\nL 3500 3575 \r\nL 5275 3575 \r\nz\r\nM 2300 2400 \r\nQ 2550 2025 2825 1525 \r\nQ 2675 1425 2425 1225 \r\nQ 2175 1775 1925 2125 \r\nQ 2075 2250 2300 2400 \r\nz\r\n\" id=\"SimHei-7a0b\" transform=\"scale(0.015625)\"/>\r\n       <path d=\"M 1750 1675 \r\nQ 2450 1650 2875 1650 \r\nL 5200 1650 \r\nQ 4975 1250 4650 850 \r\nQ 4325 450 4025 200 \r\nQ 4350 50 4950 -50 \r\nQ 5550 -150 6100 -150 \r\nQ 5950 -300 5825 -650 \r\nQ 5100 -550 4550 -412 \r\nQ 4000 -275 3625 -100 \r\nQ 3100 -325 2587 -462 \r\nQ 2075 -600 1525 -675 \r\nQ 1450 -475 1225 -250 \r\nQ 1675 -250 2250 -125 \r\nQ 2825 0 3250 200 \r\nQ 2825 550 2400 1275 \r\nL 1750 1250 \r\nL 1750 1675 \r\nz\r\nM 2975 5075 \r\nQ 3250 5150 3475 5250 \r\nQ 3625 4975 3775 4525 \r\nL 4700 4525 \r\nQ 4975 4525 5700 4550 \r\nL 5700 4100 \r\nQ 5000 4125 4650 4125 \r\nL 1375 4125 \r\nQ 1375 3000 1350 2312 \r\nQ 1325 1625 1212 950 \r\nQ 1100 275 725 -525 \r\nQ 500 -375 250 -300 \r\nQ 650 400 762 1075 \r\nQ 875 1750 887 2800 \r\nQ 900 3850 875 4525 \r\nL 3200 4525 \r\nQ 3100 4850 2975 5075 \r\nz\r\nM 2475 3300 \r\nQ 2475 3700 2450 3925 \r\nL 2975 3925 \r\nQ 2950 3725 2950 3300 \r\nL 4300 3300 \r\nQ 4300 3700 4275 3950 \r\nL 4800 3950 \r\nQ 4775 3650 4775 3300 \r\nQ 5325 3300 5725 3325 \r\nL 5725 2900 \r\nQ 5350 2925 4775 2925 \r\nQ 4775 2250 4800 1950 \r\nL 2450 1950 \r\nQ 2475 2350 2475 2925 \r\nQ 2175 2925 1600 2900 \r\nL 1600 3325 \r\nQ 2175 3300 2475 3300 \r\nz\r\nM 4300 2350 \r\nL 4300 2925 \r\nL 2950 2925 \r\nL 2950 2350 \r\nL 4300 2350 \r\nz\r\nM 2875 1275 \r\nQ 3200 775 3650 425 \r\nQ 4025 700 4425 1275 \r\nL 2900 1275 \r\nL 2875 1275 \r\nz\r\n\" id=\"SimHei-5ea6\" transform=\"scale(0.015625)\"/>\r\n      </defs>\r\n      <use xlink:href=\"#SimHei-5bf9\"/>\r\n      <use x=\"100\" xlink:href=\"#SimHei-53\"/>\r\n      <use x=\"150\" xlink:href=\"#SimHei-63\"/>\r\n      <use x=\"200\" xlink:href=\"#SimHei-72\"/>\r\n      <use x=\"250\" xlink:href=\"#SimHei-61\"/>\r\n      <use x=\"300\" xlink:href=\"#SimHei-74\"/>\r\n      <use x=\"350\" xlink:href=\"#SimHei-63\"/>\r\n      <use x=\"400\" xlink:href=\"#SimHei-68\"/>\r\n      <use x=\"450\" xlink:href=\"#SimHei-7684\"/>\r\n      <use x=\"550\" xlink:href=\"#SimHei-4e86\"/>\r\n      <use x=\"650\" xlink:href=\"#SimHei-89e3\"/>\r\n      <use x=\"750\" xlink:href=\"#SimHei-7a0b\"/>\r\n      <use x=\"850\" xlink:href=\"#SimHei-5ea6\"/>\r\n     </g>\r\n    </g>\r\n   </g>\r\n   <g id=\"matplotlib.axis_2\">\r\n    <g id=\"ytick_1\">\r\n     <g id=\"line2d_7\">\r\n      <defs>\r\n       <path d=\"M 0 0 \r\nL -3.5 0 \r\n\" id=\"m68926d0c4f\" style=\"stroke:#000000;stroke-width:0.8;\"/>\r\n      </defs>\r\n      <g>\r\n       <use style=\"stroke:#000000;stroke-width:0.8;\" x=\"32.73125\" xlink:href=\"#m68926d0c4f\" y=\"41.210625\"/>\r\n      </g>\r\n     </g>\r\n     <g id=\"text_8\">\r\n      <!-- 0 -->\r\n      <g transform=\"translate(20.73125 44.648125)scale(0.1 -0.1)\">\r\n       <use xlink:href=\"#SimHei-30\"/>\r\n      </g>\r\n     </g>\r\n    </g>\r\n    <g id=\"ytick_2\">\r\n     <g id=\"line2d_8\">\r\n      <g>\r\n       <use style=\"stroke:#000000;stroke-width:0.8;\" x=\"32.73125\" xlink:href=\"#m68926d0c4f\" y=\"77.450625\"/>\r\n      </g>\r\n     </g>\r\n     <g id=\"text_9\">\r\n      <!-- 1 -->\r\n      <g transform=\"translate(20.73125 80.888125)scale(0.1 -0.1)\">\r\n       <use xlink:href=\"#SimHei-31\"/>\r\n      </g>\r\n     </g>\r\n    </g>\r\n    <g id=\"ytick_3\">\r\n     <g id=\"line2d_9\">\r\n      <g>\r\n       <use style=\"stroke:#000000;stroke-width:0.8;\" x=\"32.73125\" xlink:href=\"#m68926d0c4f\" y=\"113.690625\"/>\r\n      </g>\r\n     </g>\r\n     <g id=\"text_10\">\r\n      <!-- 2 -->\r\n      <g transform=\"translate(20.73125 117.128125)scale(0.1 -0.1)\">\r\n       <use xlink:href=\"#SimHei-32\"/>\r\n      </g>\r\n     </g>\r\n    </g>\r\n    <g id=\"ytick_4\">\r\n     <g id=\"line2d_10\">\r\n      <g>\r\n       <use style=\"stroke:#000000;stroke-width:0.8;\" x=\"32.73125\" xlink:href=\"#m68926d0c4f\" y=\"149.930625\"/>\r\n      </g>\r\n     </g>\r\n     <g id=\"text_11\">\r\n      <!-- 3 -->\r\n      <g transform=\"translate(20.73125 153.368125)scale(0.1 -0.1)\">\r\n       <use xlink:href=\"#SimHei-33\"/>\r\n      </g>\r\n     </g>\r\n    </g>\r\n    <g id=\"ytick_5\">\r\n     <g id=\"line2d_11\">\r\n      <g>\r\n       <use style=\"stroke:#000000;stroke-width:0.8;\" x=\"32.73125\" xlink:href=\"#m68926d0c4f\" y=\"186.170625\"/>\r\n      </g>\r\n     </g>\r\n     <g id=\"text_12\">\r\n      <!-- 4 -->\r\n      <g transform=\"translate(20.73125 189.608125)scale(0.1 -0.1)\">\r\n       <use xlink:href=\"#SimHei-34\"/>\r\n      </g>\r\n     </g>\r\n    </g>\r\n    <g id=\"ytick_6\">\r\n     <g id=\"line2d_12\">\r\n      <g>\r\n       <use style=\"stroke:#000000;stroke-width:0.8;\" x=\"32.73125\" xlink:href=\"#m68926d0c4f\" y=\"222.410625\"/>\r\n      </g>\r\n     </g>\r\n     <g id=\"text_13\">\r\n      <!-- 5 -->\r\n      <g transform=\"translate(20.73125 225.848125)scale(0.1 -0.1)\">\r\n       <use xlink:href=\"#SimHei-35\"/>\r\n      </g>\r\n     </g>\r\n    </g>\r\n    <g id=\"text_14\">\r\n     <!-- 对Python的了解程度 -->\r\n     <g transform=\"translate(15.48125 176.810625)rotate(-90)scale(0.1 -0.1)\">\r\n      <defs>\r\n       <path d=\"M 2950 3100 \r\nQ 2950 2500 2600 2150 \r\nQ 2250 1800 1625 1800 \r\nL 900 1800 \r\nL 900 125 \r\nL 325 125 \r\nL 325 4400 \r\nL 1625 4400 \r\nQ 2250 4400 2600 4050 \r\nQ 2950 3700 2950 3100 \r\nz\r\nM 2375 3100 \r\nQ 2375 3575 2150 3750 \r\nQ 1925 3925 1475 3925 \r\nL 900 3925 \r\nL 900 2275 \r\nL 1475 2275 \r\nQ 1925 2275 2150 2450 \r\nQ 2375 2625 2375 3100 \r\nz\r\n\" id=\"SimHei-50\" transform=\"scale(0.015625)\"/>\r\n       <path d=\"M 2900 2925 \r\nL 1750 -100 \r\nQ 1650 -450 1450 -625 \r\nQ 1250 -800 950 -800 \r\nQ 825 -800 712 -787 \r\nQ 600 -775 500 -725 \r\nL 500 -225 \r\nQ 600 -275 700 -300 \r\nQ 800 -325 875 -325 \r\nQ 1075 -325 1150 -262 \r\nQ 1225 -200 1300 25 \r\nL 200 2925 \r\nL 750 2925 \r\nL 1550 725 \r\nL 1575 725 \r\nL 2350 2925 \r\nL 2900 2925 \r\nz\r\n\" id=\"SimHei-79\" transform=\"scale(0.015625)\"/>\r\n       <path d=\"M 2925 1525 \r\nQ 2925 875 2525 475 \r\nQ 2125 75 1575 75 \r\nQ 1025 75 625 475 \r\nQ 225 875 225 1525 \r\nQ 225 2175 625 2575 \r\nQ 1025 2975 1575 2975 \r\nQ 2125 2975 2525 2575 \r\nQ 2925 2175 2925 1525 \r\nz\r\nM 2375 1525 \r\nQ 2375 2025 2125 2275 \r\nQ 1875 2525 1575 2525 \r\nQ 1275 2525 1025 2275 \r\nQ 775 2025 775 1525 \r\nQ 775 1025 1025 775 \r\nQ 1275 525 1575 525 \r\nQ 1875 525 2125 775 \r\nQ 2375 1025 2375 1525 \r\nz\r\n\" id=\"SimHei-6f\" transform=\"scale(0.015625)\"/>\r\n       <path d=\"M 2800 125 \r\nL 2300 125 \r\nL 2300 1925 \r\nQ 2300 2225 2150 2400 \r\nQ 2000 2575 1750 2575 \r\nQ 1425 2575 1137 2237 \r\nQ 850 1900 850 1400 \r\nL 850 125 \r\nL 350 125 \r\nL 350 2925 \r\nL 850 2925 \r\nL 850 2400 \r\nQ 1050 2675 1287 2825 \r\nQ 1525 2975 1900 2975 \r\nQ 2350 2975 2575 2725 \r\nQ 2800 2475 2800 2100 \r\nL 2800 125 \r\nz\r\n\" id=\"SimHei-6e\" transform=\"scale(0.015625)\"/>\r\n      </defs>\r\n      <use xlink:href=\"#SimHei-5bf9\"/>\r\n      <use x=\"100\" xlink:href=\"#SimHei-50\"/>\r\n      <use x=\"150\" xlink:href=\"#SimHei-79\"/>\r\n      <use x=\"200\" xlink:href=\"#SimHei-74\"/>\r\n      <use x=\"250\" xlink:href=\"#SimHei-68\"/>\r\n      <use x=\"300\" xlink:href=\"#SimHei-6f\"/>\r\n      <use x=\"350\" xlink:href=\"#SimHei-6e\"/>\r\n      <use x=\"400\" xlink:href=\"#SimHei-7684\"/>\r\n      <use x=\"500\" xlink:href=\"#SimHei-4e86\"/>\r\n      <use x=\"600\" xlink:href=\"#SimHei-89e3\"/>\r\n      <use x=\"700\" xlink:href=\"#SimHei-7a0b\"/>\r\n      <use x=\"800\" xlink:href=\"#SimHei-5ea6\"/>\r\n     </g>\r\n    </g>\r\n   </g>\r\n   <g id=\"patch_3\">\r\n    <path d=\"M 32.73125 240.530625 \r\nL 32.73125 23.090625 \r\n\" style=\"fill:none;stroke:#000000;stroke-linecap:square;stroke-linejoin:miter;stroke-width:0.8;\"/>\r\n   </g>\r\n   <g id=\"patch_4\">\r\n    <path d=\"M 250.17125 240.530625 \r\nL 250.17125 23.090625 \r\n\" style=\"fill:none;stroke:#000000;stroke-linecap:square;stroke-linejoin:miter;stroke-width:0.8;\"/>\r\n   </g>\r\n   <g id=\"patch_5\">\r\n    <path d=\"M 32.73125 240.530625 \r\nL 250.17125 240.530625 \r\n\" style=\"fill:none;stroke:#000000;stroke-linecap:square;stroke-linejoin:miter;stroke-width:0.8;\"/>\r\n   </g>\r\n   <g id=\"patch_6\">\r\n    <path d=\"M 32.73125 23.090625 \r\nL 250.17125 23.090625 \r\n\" style=\"fill:none;stroke:#000000;stroke-linecap:square;stroke-linejoin:miter;stroke-width:0.8;\"/>\r\n   </g>\r\n   <g id=\"text_15\">\r\n    <!-- Scratch掌握程度和Python掌握程度的关系 -->\r\n    <g transform=\"translate(30.45125 17.090625)scale(0.12 -0.12)\">\r\n     <defs>\r\n      <path d=\"M 5525 1750 \r\nQ 5075 1750 4600 1725 \r\nQ 4125 1700 3525 1700 \r\nL 3525 1275 \r\nL 4075 1275 \r\nQ 4700 1275 5275 1300 \r\nL 5275 925 \r\nQ 4700 950 4100 950 \r\nL 3525 950 \r\nL 3525 650 \r\nL 4950 650 \r\nQ 5500 650 6000 675 \r\nL 6000 275 \r\nQ 5525 300 4950 300 \r\nL 3525 300 \r\nL 3525 -200 \r\nQ 3475 -450 3300 -537 \r\nQ 3125 -625 2575 -650 \r\nQ 2500 -375 2375 -150 \r\nQ 2950 -175 3012 -125 \r\nQ 3075 -75 3075 300 \r\nL 1425 300 \r\nQ 875 300 400 275 \r\nL 400 675 \r\nQ 875 650 1450 650 \r\nL 3075 650 \r\nL 3075 950 \r\nL 2050 950 \r\nQ 1500 950 1125 925 \r\nL 1125 1300 \r\nQ 1475 1275 2050 1275 \r\nL 3075 1275 \r\nL 3075 1650 \r\nQ 2500 1625 1000 1575 \r\nQ 950 1775 825 1975 \r\nQ 1950 1950 3175 2012 \r\nQ 4400 2075 5225 2200 \r\nL 5525 1750 \r\nz\r\nM 5100 4850 \r\nQ 4950 4650 4600 4150 \r\nL 5900 4150 \r\nQ 5900 3925 5887 3662 \r\nQ 5875 3400 5900 3075 \r\nL 5400 3075 \r\nL 5400 3775 \r\nL 1050 3775 \r\nL 1050 3075 \r\nL 550 3075 \r\nQ 575 3300 575 3600 \r\nQ 575 3925 550 4150 \r\nL 2950 4150 \r\nL 2950 4675 \r\nQ 2950 4925 2925 5175 \r\nL 3450 5175 \r\nQ 3425 4925 3425 4675 \r\nL 3425 4150 \r\nL 4150 4150 \r\nQ 4475 4675 4575 5075 \r\nL 5100 4850 \r\nz\r\nM 4775 3450 \r\nQ 4725 3200 4725 2925 \r\nQ 4725 2675 4750 2375 \r\nL 1600 2375 \r\nQ 1625 2675 1625 2950 \r\nQ 1625 3225 1600 3450 \r\nL 4775 3450 \r\nz\r\nM 4275 2725 \r\nL 4275 3100 \r\nL 2050 3100 \r\nL 2050 2725 \r\nL 4275 2725 \r\nz\r\nM 1675 5125 \r\nQ 1825 5000 2250 4450 \r\nQ 2125 4375 1850 4175 \r\nQ 1675 4500 1325 4850 \r\nQ 1375 4925 1675 5125 \r\nz\r\n\" id=\"SimHei-638c\" transform=\"scale(0.015625)\"/>\r\n      <path d=\"M 5875 5000 \r\nQ 5850 4675 5850 4325 \r\nQ 5850 3975 5875 3675 \r\nL 2900 3675 \r\nQ 2900 2600 2787 1862 \r\nQ 2675 1125 2512 587 \r\nQ 2350 50 2075 -500 \r\nQ 1900 -275 1600 -175 \r\nQ 2000 325 2225 1225 \r\nQ 2450 2125 2450 3225 \r\nQ 2450 4325 2425 5000 \r\nL 5875 5000 \r\nz\r\nM 1000 4525 \r\nQ 1000 4925 975 5225 \r\nL 1475 5225 \r\nQ 1450 5025 1450 4625 \r\nL 1450 3925 \r\nQ 1875 3925 2050 3950 \r\nL 2050 3525 \r\nQ 1825 3550 1450 3550 \r\nL 1450 2600 \r\nQ 1825 2750 2000 2850 \r\nQ 2050 2600 2075 2400 \r\nQ 1750 2250 1450 2125 \r\nL 1450 0 \r\nQ 1425 -300 1187 -375 \r\nQ 950 -450 625 -525 \r\nQ 575 -200 425 25 \r\nQ 1000 25 1000 225 \r\nL 1000 1950 \r\nQ 800 1850 400 1625 \r\nQ 375 1775 200 2125 \r\nQ 800 2325 1000 2425 \r\nL 1000 3550 \r\nQ 600 3550 275 3525 \r\nL 275 3950 \r\nQ 550 3925 1000 3925 \r\nL 1000 4525 \r\nz\r\nM 4700 1525 \r\nQ 4675 1250 4675 950 \r\nQ 5450 950 5775 975 \r\nL 5775 525 \r\nQ 5450 550 4675 550 \r\nL 4675 -100 \r\nL 5300 -100 \r\nQ 5750 -100 6100 -75 \r\nL 6100 -500 \r\nQ 5750 -475 5325 -475 \r\nL 3600 -475 \r\nQ 3175 -475 2775 -500 \r\nL 2775 -75 \r\nQ 3075 -100 3600 -100 \r\nL 4250 -100 \r\nL 4250 550 \r\nQ 3450 550 3075 525 \r\nL 3075 975 \r\nQ 3450 950 4250 950 \r\nQ 4250 1250 4225 1525 \r\nL 4700 1525 \r\nz\r\nM 3350 1550 \r\nQ 3300 1800 3200 2025 \r\nQ 3425 2150 3575 2300 \r\nQ 3725 2450 3875 2850 \r\nQ 3450 2850 3075 2825 \r\nL 3075 3300 \r\nQ 3450 3225 3825 3225 \r\nL 5075 3225 \r\nQ 5350 3225 5750 3300 \r\nL 5750 2825 \r\nQ 5375 2850 5050 2850 \r\nL 4350 2850 \r\nQ 4250 2450 3875 2050 \r\nQ 4375 2075 5125 2100 \r\nQ 5025 2225 4875 2325 \r\nQ 5100 2525 5200 2650 \r\nQ 5675 2125 5975 1775 \r\nQ 5850 1675 5625 1400 \r\nQ 5525 1550 5350 1775 \r\nQ 4875 1750 4237 1712 \r\nQ 3600 1675 3350 1550 \r\nz\r\nM 5425 4025 \r\nL 5425 4625 \r\nL 2900 4625 \r\nL 2900 4025 \r\nL 5425 4025 \r\nz\r\n\" id=\"SimHei-63e1\" transform=\"scale(0.015625)\"/>\r\n      <path d=\"M 5875 4200 \r\nQ 5850 3700 5850 3275 \r\nL 5850 700 \r\nQ 5850 250 5875 -25 \r\nL 5375 -25 \r\nL 5375 575 \r\nL 4175 575 \r\nL 4175 -75 \r\nL 3700 -75 \r\nQ 3725 500 3725 625 \r\nL 3725 3275 \r\nQ 3725 3700 3700 4200 \r\nL 5875 4200 \r\nz\r\nM 3275 4450 \r\nQ 3050 4450 2250 4325 \r\nL 2250 3200 \r\nL 2625 3200 \r\nQ 3000 3200 3425 3225 \r\nL 3425 2775 \r\nQ 3000 2800 2650 2800 \r\nL 2250 2800 \r\nL 2250 225 \r\nQ 2250 -200 2275 -550 \r\nL 1775 -550 \r\nQ 1800 -150 1800 225 \r\nL 1800 1850 \r\nQ 1425 1150 675 250 \r\nQ 550 425 275 600 \r\nQ 825 1125 1237 1812 \r\nQ 1650 2500 1700 2800 \r\nL 1250 2800 \r\nQ 700 2800 450 2775 \r\nL 450 3225 \r\nQ 725 3200 1250 3200 \r\nL 1800 3200 \r\nL 1800 4250 \r\nQ 1475 4200 775 4125 \r\nQ 725 4375 625 4575 \r\nQ 1100 4600 1825 4700 \r\nQ 2550 4800 3050 5000 \r\nQ 3100 4725 3275 4450 \r\nz\r\nM 5375 975 \r\nL 5375 3775 \r\nL 4175 3775 \r\nL 4175 975 \r\nL 5375 975 \r\nz\r\nM 3075 1000 \r\nQ 2750 1625 2325 2100 \r\nQ 2475 2200 2700 2400 \r\nQ 3175 1875 3500 1325 \r\nQ 3250 1175 3075 1000 \r\nz\r\n\" id=\"SimHei-548c\" transform=\"scale(0.015625)\"/>\r\n      <path d=\"M 4675 4850 \r\nQ 4525 4675 4362 4375 \r\nQ 4200 4075 4075 3825 \r\nL 4625 3825 \r\nQ 5150 3825 5550 3850 \r\nL 5550 3375 \r\nQ 5225 3400 4700 3400 \r\nL 3400 3400 \r\nL 3400 2150 \r\nL 4975 2150 \r\nQ 5475 2150 5875 2175 \r\nL 5875 1700 \r\nQ 5475 1725 5025 1725 \r\nL 3500 1725 \r\nQ 4250 450 6000 75 \r\nQ 5775 -175 5600 -525 \r\nQ 4025 0 3225 1300 \r\nQ 2800 200 875 -600 \r\nQ 775 -350 500 -150 \r\nQ 2425 375 2875 1725 \r\nL 1550 1725 \r\nQ 975 1725 600 1700 \r\nL 600 2150 \r\nQ 875 2125 1450 2125 \r\nL 2925 2125 \r\nL 2925 3400 \r\nL 1750 3400 \r\nQ 1275 3400 900 3375 \r\nL 900 3850 \r\nQ 1275 3825 1775 3825 \r\nL 3575 3825 \r\nQ 3925 4625 4075 5150 \r\nQ 4325 5000 4675 4850 \r\nz\r\nM 2125 5125 \r\nQ 2450 4725 2800 4175 \r\nQ 2500 4025 2325 3875 \r\nQ 2025 4450 1725 4825 \r\nQ 1950 4975 2125 5125 \r\nz\r\n\" id=\"SimHei-5173\" transform=\"scale(0.015625)\"/>\r\n      <path d=\"M 5300 5200 \r\nQ 5450 4950 5725 4675 \r\nQ 4975 4650 4437 4587 \r\nQ 3900 4525 3125 4450 \r\nQ 3250 4325 3475 4225 \r\nQ 3150 4025 2837 3762 \r\nQ 2525 3500 2225 3275 \r\nL 3475 3275 \r\nQ 4100 3700 4525 4050 \r\nQ 4775 3850 5125 3700 \r\nQ 4775 3550 4450 3375 \r\nQ 4125 3200 3387 2737 \r\nQ 2650 2275 2125 1975 \r\nQ 3600 2050 4875 2100 \r\nQ 4750 2225 4225 2625 \r\nQ 4475 2725 4650 2875 \r\nQ 4950 2650 5337 2312 \r\nQ 5725 1975 6075 1650 \r\nQ 5775 1475 5600 1325 \r\nQ 5400 1575 5225 1725 \r\nQ 4550 1700 3625 1650 \r\nL 3625 150 \r\nQ 3625 -325 3387 -412 \r\nQ 3150 -500 2525 -600 \r\nQ 2475 -300 2300 -25 \r\nQ 2875 -25 3012 12 \r\nQ 3150 50 3150 300 \r\nL 3150 1650 \r\nQ 1625 1625 1075 1525 \r\nQ 1000 1775 900 2050 \r\nQ 1450 2100 1875 2300 \r\nQ 2300 2500 2900 2900 \r\nQ 2325 2900 2037 2875 \r\nQ 1750 2850 1400 2800 \r\nQ 1325 3075 1250 3325 \r\nQ 1675 3325 2100 3662 \r\nQ 2525 4000 2750 4400 \r\nQ 1350 4350 925 4300 \r\nQ 850 4550 750 4750 \r\nQ 2150 4750 3250 4850 \r\nQ 4350 4950 5300 5200 \r\nz\r\nM 4625 1250 \r\nQ 4925 1025 5325 737 \r\nQ 5725 450 6000 175 \r\nQ 5800 0 5600 -225 \r\nQ 5275 125 4925 400 \r\nQ 4575 675 4275 875 \r\nQ 4500 1050 4625 1250 \r\nz\r\nM 2200 875 \r\nQ 1900 725 1537 375 \r\nQ 1175 25 800 -300 \r\nQ 575 -75 375 25 \r\nQ 1075 450 1675 1225 \r\nQ 1900 1050 2200 875 \r\nz\r\n\" id=\"SimHei-7cfb\" transform=\"scale(0.015625)\"/>\r\n     </defs>\r\n     <use xlink:href=\"#SimHei-53\"/>\r\n     <use x=\"50\" xlink:href=\"#SimHei-63\"/>\r\n     <use x=\"100\" xlink:href=\"#SimHei-72\"/>\r\n     <use x=\"150\" xlink:href=\"#SimHei-61\"/>\r\n     <use x=\"200\" xlink:href=\"#SimHei-74\"/>\r\n     <use x=\"250\" xlink:href=\"#SimHei-63\"/>\r\n     <use x=\"300\" xlink:href=\"#SimHei-68\"/>\r\n     <use x=\"350\" xlink:href=\"#SimHei-638c\"/>\r\n     <use x=\"450\" xlink:href=\"#SimHei-63e1\"/>\r\n     <use x=\"550\" xlink:href=\"#SimHei-7a0b\"/>\r\n     <use x=\"650\" xlink:href=\"#SimHei-5ea6\"/>\r\n     <use x=\"750\" xlink:href=\"#SimHei-548c\"/>\r\n     <use x=\"850\" xlink:href=\"#SimHei-50\"/>\r\n     <use x=\"900\" xlink:href=\"#SimHei-79\"/>\r\n     <use x=\"950\" xlink:href=\"#SimHei-74\"/>\r\n     <use x=\"1000\" xlink:href=\"#SimHei-68\"/>\r\n     <use x=\"1050\" xlink:href=\"#SimHei-6f\"/>\r\n     <use x=\"1100\" xlink:href=\"#SimHei-6e\"/>\r\n     <use x=\"1150\" xlink:href=\"#SimHei-638c\"/>\r\n     <use x=\"1250\" xlink:href=\"#SimHei-63e1\"/>\r\n     <use x=\"1350\" xlink:href=\"#SimHei-7a0b\"/>\r\n     <use x=\"1450\" xlink:href=\"#SimHei-5ea6\"/>\r\n     <use x=\"1550\" xlink:href=\"#SimHei-7684\"/>\r\n     <use x=\"1650\" xlink:href=\"#SimHei-5173\"/>\r\n     <use x=\"1750\" xlink:href=\"#SimHei-7cfb\"/>\r\n    </g>\r\n   </g>\r\n  </g>\r\n  <g id=\"axes_2\">\r\n   <g id=\"patch_7\">\r\n    <path d=\"M 266.91125 240.530625 \r\nL 277.78325 240.530625 \r\nL 277.78325 23.090625 \r\nL 266.91125 23.090625 \r\nz\r\n\" style=\"fill:#ffffff;\"/>\r\n   </g>\r\n   <g id=\"patch_8\">\r\n    <path clip-path=\"url(#pf38a19a4bd)\" d=\"M 266.91125 240.530625 \r\nL 266.91125 239.68125 \r\nL 266.91125 23.94 \r\nL 266.91125 23.090625 \r\nL 277.78325 23.090625 \r\nL 277.78325 23.94 \r\nL 277.78325 239.68125 \r\nL 277.78325 240.530625 \r\nL 277.78325 240.530625 \r\nz\r\n\" style=\"fill:#ffffff;stroke:#ffffff;stroke-linejoin:miter;stroke-width:0.01;\"/>\r\n   </g>\r\n   <image height=\"217\" id=\"image371ea1689b\" transform=\"scale(1 -1)translate(0 -217)\" width=\"11\" x=\"267\" xlink:href=\"data:image/png;base64,\r\niVBORw0KGgoAAAANSUhEUgAAAAsAAADZCAYAAAD2WsoCAAABWklEQVR4nOWayw0CMQxEbSehMkqg/0qA0ILf4UmJ4DwazS+7wG4+87Wj+Zk5RhcbM7L64KyUmIMwQ4NEcxHNjJkYRNENT7PGjMCeQW2iN6ax2TbaWDONjSZ6iGZWt8bcx+JSPGbLoDd+rxSUxmZ1E7AmQxySlgZkto4VjI4wewbFbRDmM7ZhXusAGN4mLBk31i2mcaFmeGvTmC+MzkvjkOhuLEVkrvafPX8QnZYGOFTn1O01GGnJ8NIA3y5NgwwcxKC2jdTSQKVkfS1m0SBpsE8cs7Q0CmkWwW1szEHSKHSszoiOGSTMMA3CrIGnVrenmRlMrW6PWct51UeTYaUxNBmLjd8zaDGvBHUP1iAAew0i5pVvIsNqkOVMDCJmtg02UdQgis6qmxnUSmEnhWh+kLrF8Wu3Nngp0G5AbWjEBM+ZYw7we2ku8gyoCDOSwZiZZvASwkrw8hJh/gGMbn9orKTASgAAAABJRU5ErkJggg==\" y=\"-23\"/>\r\n   <g id=\"matplotlib.axis_3\"/>\r\n   <g id=\"matplotlib.axis_4\">\r\n    <g id=\"ytick_7\">\r\n     <g id=\"line2d_13\">\r\n      <defs>\r\n       <path d=\"M 0 0 \r\nL 3.5 0 \r\n\" id=\"m1014d7a305\" style=\"stroke:#000000;stroke-width:0.8;\"/>\r\n      </defs>\r\n      <g>\r\n       <use style=\"stroke:#000000;stroke-width:0.8;\" x=\"277.78325\" xlink:href=\"#m1014d7a305\" y=\"240.530625\"/>\r\n      </g>\r\n     </g>\r\n     <g id=\"text_16\">\r\n      <!-- 0 -->\r\n      <g transform=\"translate(284.78325 243.968125)scale(0.1 -0.1)\">\r\n       <use xlink:href=\"#SimHei-30\"/>\r\n      </g>\r\n     </g>\r\n    </g>\r\n    <g id=\"ytick_8\">\r\n     <g id=\"line2d_14\">\r\n      <g>\r\n       <use style=\"stroke:#000000;stroke-width:0.8;\" x=\"277.78325\" xlink:href=\"#m1014d7a305\" y=\"216.370625\"/>\r\n      </g>\r\n     </g>\r\n     <g id=\"text_17\">\r\n      <!-- 2 -->\r\n      <g transform=\"translate(284.78325 219.808125)scale(0.1 -0.1)\">\r\n       <use xlink:href=\"#SimHei-32\"/>\r\n      </g>\r\n     </g>\r\n    </g>\r\n    <g id=\"ytick_9\">\r\n     <g id=\"line2d_15\">\r\n      <g>\r\n       <use style=\"stroke:#000000;stroke-width:0.8;\" x=\"277.78325\" xlink:href=\"#m1014d7a305\" y=\"192.210625\"/>\r\n      </g>\r\n     </g>\r\n     <g id=\"text_18\">\r\n      <!-- 4 -->\r\n      <g transform=\"translate(284.78325 195.648125)scale(0.1 -0.1)\">\r\n       <use xlink:href=\"#SimHei-34\"/>\r\n      </g>\r\n     </g>\r\n    </g>\r\n    <g id=\"ytick_10\">\r\n     <g id=\"line2d_16\">\r\n      <g>\r\n       <use style=\"stroke:#000000;stroke-width:0.8;\" x=\"277.78325\" xlink:href=\"#m1014d7a305\" y=\"168.050625\"/>\r\n      </g>\r\n     </g>\r\n     <g id=\"text_19\">\r\n      <!-- 6 -->\r\n      <g transform=\"translate(284.78325 171.488125)scale(0.1 -0.1)\">\r\n       <defs>\r\n        <path d=\"M 250 1612 \r\nQ 275 1975 387 2225 \r\nQ 500 2475 725 2850 \r\nL 1750 4450 \r\nL 2325 4450 \r\nL 1275 2800 \r\nQ 1950 2975 2350 2750 \r\nQ 2750 2525 2887 2237 \r\nQ 3025 1950 3037 1612 \r\nQ 3050 1275 2937 950 \r\nQ 2825 625 2537 362 \r\nQ 2250 100 1737 75 \r\nQ 1225 50 862 262 \r\nQ 500 475 362 862 \r\nQ 225 1250 250 1612 \r\nz\r\nM 1025 787 \r\nQ 1250 550 1625 525 \r\nQ 2000 500 2250 775 \r\nQ 2500 1050 2500 1575 \r\nQ 2500 2100 2187 2300 \r\nQ 1875 2500 1487 2450 \r\nQ 1100 2400 925 2075 \r\nQ 750 1750 775 1387 \r\nQ 800 1025 1025 787 \r\nz\r\n\" id=\"SimHei-36\" transform=\"scale(0.015625)\"/>\r\n       </defs>\r\n       <use xlink:href=\"#SimHei-36\"/>\r\n      </g>\r\n     </g>\r\n    </g>\r\n    <g id=\"ytick_11\">\r\n     <g id=\"line2d_17\">\r\n      <g>\r\n       <use style=\"stroke:#000000;stroke-width:0.8;\" x=\"277.78325\" xlink:href=\"#m1014d7a305\" y=\"143.890625\"/>\r\n      </g>\r\n     </g>\r\n     <g id=\"text_20\">\r\n      <!-- 8 -->\r\n      <g transform=\"translate(284.78325 147.328125)scale(0.1 -0.1)\">\r\n       <defs>\r\n        <path d=\"M 175 1375 \r\nQ 175 1675 325 1962 \r\nQ 475 2250 825 2425 \r\nQ 525 2600 425 2812 \r\nQ 325 3025 312 3300 \r\nQ 300 3575 387 3775 \r\nQ 475 3975 650 4150 \r\nQ 825 4325 1037 4387 \r\nQ 1250 4450 1500 4450 \r\nQ 1750 4450 1950 4400 \r\nQ 2150 4350 2375 4187 \r\nQ 2600 4025 2700 3725 \r\nQ 2800 3425 2687 3025 \r\nQ 2575 2625 2100 2400 \r\nQ 2525 2275 2700 2012 \r\nQ 2875 1750 2875 1375 \r\nQ 2875 1000 2762 775 \r\nQ 2650 550 2512 400 \r\nQ 2375 250 2137 162 \r\nQ 1900 75 1537 75 \r\nQ 1175 75 912 162 \r\nQ 650 250 475 425 \r\nQ 300 600 237 837 \r\nQ 175 1075 175 1375 \r\nz\r\nM 687 1400 \r\nQ 675 1100 787 875 \r\nQ 900 650 1200 587 \r\nQ 1500 525 1825 600 \r\nQ 2150 675 2275 950 \r\nQ 2400 1225 2362 1500 \r\nQ 2325 1775 2050 1962 \r\nQ 1775 2150 1450 2125 \r\nQ 1125 2100 912 1900 \r\nQ 700 1700 687 1400 \r\nz\r\nM 775 3350 \r\nQ 775 3100 950 2875 \r\nQ 1125 2650 1500 2650 \r\nQ 1875 2650 2062 2875 \r\nQ 2250 3100 2237 3412 \r\nQ 2225 3725 2012 3875 \r\nQ 1800 4025 1437 4000 \r\nQ 1075 3975 925 3787 \r\nQ 775 3600 775 3350 \r\nz\r\n\" id=\"SimHei-38\" transform=\"scale(0.015625)\"/>\r\n       </defs>\r\n       <use xlink:href=\"#SimHei-38\"/>\r\n      </g>\r\n     </g>\r\n    </g>\r\n    <g id=\"ytick_12\">\r\n     <g id=\"line2d_18\">\r\n      <g>\r\n       <use style=\"stroke:#000000;stroke-width:0.8;\" x=\"277.78325\" xlink:href=\"#m1014d7a305\" y=\"119.730625\"/>\r\n      </g>\r\n     </g>\r\n     <g id=\"text_21\">\r\n      <!-- 10 -->\r\n      <g transform=\"translate(284.78325 123.168125)scale(0.1 -0.1)\">\r\n       <use xlink:href=\"#SimHei-31\"/>\r\n       <use x=\"50\" xlink:href=\"#SimHei-30\"/>\r\n      </g>\r\n     </g>\r\n    </g>\r\n    <g id=\"ytick_13\">\r\n     <g id=\"line2d_19\">\r\n      <g>\r\n       <use style=\"stroke:#000000;stroke-width:0.8;\" x=\"277.78325\" xlink:href=\"#m1014d7a305\" y=\"95.570625\"/>\r\n      </g>\r\n     </g>\r\n     <g id=\"text_22\">\r\n      <!-- 12 -->\r\n      <g transform=\"translate(284.78325 99.008125)scale(0.1 -0.1)\">\r\n       <use xlink:href=\"#SimHei-31\"/>\r\n       <use x=\"50\" xlink:href=\"#SimHei-32\"/>\r\n      </g>\r\n     </g>\r\n    </g>\r\n    <g id=\"ytick_14\">\r\n     <g id=\"line2d_20\">\r\n      <g>\r\n       <use style=\"stroke:#000000;stroke-width:0.8;\" x=\"277.78325\" xlink:href=\"#m1014d7a305\" y=\"71.410625\"/>\r\n      </g>\r\n     </g>\r\n     <g id=\"text_23\">\r\n      <!-- 14 -->\r\n      <g transform=\"translate(284.78325 74.848125)scale(0.1 -0.1)\">\r\n       <use xlink:href=\"#SimHei-31\"/>\r\n       <use x=\"50\" xlink:href=\"#SimHei-34\"/>\r\n      </g>\r\n     </g>\r\n    </g>\r\n    <g id=\"ytick_15\">\r\n     <g id=\"line2d_21\">\r\n      <g>\r\n       <use style=\"stroke:#000000;stroke-width:0.8;\" x=\"277.78325\" xlink:href=\"#m1014d7a305\" y=\"47.250625\"/>\r\n      </g>\r\n     </g>\r\n     <g id=\"text_24\">\r\n      <!-- 16 -->\r\n      <g transform=\"translate(284.78325 50.688125)scale(0.1 -0.1)\">\r\n       <use xlink:href=\"#SimHei-31\"/>\r\n       <use x=\"50\" xlink:href=\"#SimHei-36\"/>\r\n      </g>\r\n     </g>\r\n    </g>\r\n    <g id=\"ytick_16\">\r\n     <g id=\"line2d_22\">\r\n      <g>\r\n       <use style=\"stroke:#000000;stroke-width:0.8;\" x=\"277.78325\" xlink:href=\"#m1014d7a305\" y=\"23.090625\"/>\r\n      </g>\r\n     </g>\r\n     <g id=\"text_25\">\r\n      <!-- 18 -->\r\n      <g transform=\"translate(284.78325 26.528125)scale(0.1 -0.1)\">\r\n       <use xlink:href=\"#SimHei-31\"/>\r\n       <use x=\"50\" xlink:href=\"#SimHei-38\"/>\r\n      </g>\r\n     </g>\r\n    </g>\r\n   </g>\r\n   <g id=\"LineCollection_1\"/>\r\n   <g id=\"patch_9\">\r\n    <path d=\"M 266.91125 240.530625 \r\nL 266.91125 239.68125 \r\nL 266.91125 23.94 \r\nL 266.91125 23.090625 \r\nL 277.78325 23.090625 \r\nL 277.78325 23.94 \r\nL 277.78325 239.68125 \r\nL 277.78325 240.530625 \r\nz\r\n\" style=\"fill:none;stroke:#000000;stroke-linecap:square;stroke-linejoin:miter;stroke-width:0.8;\"/>\r\n   </g>\r\n  </g>\r\n </g>\r\n <defs>\r\n  <clipPath id=\"p98c4872f11\">\r\n   <rect height=\"217.44\" width=\"217.44\" x=\"32.73125\" y=\"23.090625\"/>\r\n  </clipPath>\r\n  <clipPath id=\"pf38a19a4bd\">\r\n   <rect height=\"217.44\" width=\"10.872\" x=\"266.91125\" y=\"23.090625\"/>\r\n  </clipPath>\r\n </defs>\r\n</svg>\r\n",
      "text/plain": [
       "<Figure size 432x288 with 2 Axes>"
      ]
     },
     "metadata": {
      "needs_background": "light"
     },
     "output_type": "display_data"
    }
   ],
   "source": [
    "plt.imshow(arr3[:6,:6]) \n",
    "plt.colorbar()\n",
    "\n",
    "plt.title('Scratch掌握程度和Python掌握程度的关系')\n",
    "plt.xlabel('对Scratch的了解程度')\n",
    "plt.ylabel('对Python的了解程度')\n",
    "plt.show()"
   ]
  },
  {
   "cell_type": "code",
   "execution_count": 30,
   "metadata": {},
   "outputs": [
    {
     "data": {
      "text/html": [
       "<div>\n",
       "<style scoped>\n",
       "    .dataframe tbody tr th:only-of-type {\n",
       "        vertical-align: middle;\n",
       "    }\n",
       "\n",
       "    .dataframe tbody tr th {\n",
       "        vertical-align: top;\n",
       "    }\n",
       "\n",
       "    .dataframe thead th {\n",
       "        text-align: right;\n",
       "    }\n",
       "</style>\n",
       "<table border=\"1\" class=\"dataframe\">\n",
       "  <thead>\n",
       "    <tr style=\"text-align: right;\">\n",
       "      <th></th>\n",
       "      <th>您之前学习过的编程语言有哪些？</th>\n",
       "      <th>对Scratch的了解程度？</th>\n",
       "      <th>对Python的了解程度？</th>\n",
       "      <th>对下列本次培训授课内容的感兴趣程度进行排序（）</th>\n",
       "      <th>如果让您将Python与其他学科应用结合，您有什么想法或创意？</th>\n",
       "      <th>请您对今天的课程的满意度打分？</th>\n",
       "    </tr>\n",
       "  </thead>\n",
       "  <tbody>\n",
       "    <tr>\n",
       "      <th>0</th>\n",
       "      <td>Scratch，Arduino，micro:bit</td>\n",
       "      <td>5</td>\n",
       "      <td>2</td>\n",
       "      <td>计算思维 &gt; 程序的基础语法 &gt; Python的应用</td>\n",
       "      <td>与数学结合，解决数学问题</td>\n",
       "      <td>5</td>\n",
       "    </tr>\n",
       "    <tr>\n",
       "      <th>1</th>\n",
       "      <td>Java，Scratch</td>\n",
       "      <td>5</td>\n",
       "      <td>1</td>\n",
       "      <td>计算思维 &gt; 程序的基础语法 &gt; Python的应用</td>\n",
       "      <td>还没想到。</td>\n",
       "      <td>5</td>\n",
       "    </tr>\n",
       "    <tr>\n",
       "      <th>2</th>\n",
       "      <td>C/C++，Scratch，LEGO（乐高），Python，LOGO，micro:bit</td>\n",
       "      <td>5</td>\n",
       "      <td>2</td>\n",
       "      <td>计算思维 &gt; Python的应用 &gt; 程序的基础语法</td>\n",
       "      <td>Python海龟绘图与小学数学整合</td>\n",
       "      <td>5</td>\n",
       "    </tr>\n",
       "    <tr>\n",
       "      <th>3</th>\n",
       "      <td>C/C++，Scratch，LOGO</td>\n",
       "      <td>3</td>\n",
       "      <td>1</td>\n",
       "      <td>Python的应用 &gt; 计算思维 &gt; 程序的基础语法</td>\n",
       "      <td>还没学，暂时没想法</td>\n",
       "      <td>5</td>\n",
       "    </tr>\n",
       "    <tr>\n",
       "      <th>4</th>\n",
       "      <td>C/C++，Scratch，Python</td>\n",
       "      <td>3</td>\n",
       "      <td>3</td>\n",
       "      <td>程序的基础语法 &gt; 计算思维 &gt; Python的应用</td>\n",
       "      <td>希望能从老师这里得到启发</td>\n",
       "      <td>5</td>\n",
       "    </tr>\n",
       "  </tbody>\n",
       "</table>\n",
       "</div>"
      ],
      "text/plain": [
       "                                您之前学习过的编程语言有哪些？  对Scratch的了解程度？  \\\n",
       "0                     Scratch，Arduino，micro:bit               5   \n",
       "1                                  Java，Scratch               5   \n",
       "2  C/C++，Scratch，LEGO（乐高），Python，LOGO，micro:bit               5   \n",
       "3                            C/C++，Scratch，LOGO               3   \n",
       "4                          C/C++，Scratch，Python               3   \n",
       "\n",
       "   对Python的了解程度？     对下列本次培训授课内容的感兴趣程度进行排序（） 如果让您将Python与其他学科应用结合，您有什么想法或创意？  \\\n",
       "0              2  计算思维 > 程序的基础语法 > Python的应用                    与数学结合，解决数学问题   \n",
       "1              1  计算思维 > 程序的基础语法 > Python的应用                           还没想到。   \n",
       "2              2  计算思维 > Python的应用 > 程序的基础语法               Python海龟绘图与小学数学整合   \n",
       "3              1  Python的应用 > 计算思维 > 程序的基础语法                       还没学，暂时没想法   \n",
       "4              3  程序的基础语法 > 计算思维 > Python的应用                    希望能从老师这里得到启发   \n",
       "\n",
       "   请您对今天的课程的满意度打分？  \n",
       "0                5  \n",
       "1                5  \n",
       "2                5  \n",
       "3                5  \n",
       "4                5  "
      ]
     },
     "execution_count": 30,
     "metadata": {},
     "output_type": "execute_result"
    }
   ],
   "source": [
    "csv_df.head()"
   ]
  },
  {
   "cell_type": "markdown",
   "metadata": {},
   "source": [
    "#### 问题三 柱状图 统计大家对各种编程语言的熟悉程度"
   ]
  },
  {
   "cell_type": "code",
   "execution_count": 31,
   "metadata": {},
   "outputs": [
    {
     "data": {
      "text/plain": [
       "[['Scratch', 'Arduino', 'micro:bit'],\n",
       " ['Java', 'Scratch'],\n",
       " ['C/C++', 'Scratch', 'LEGO（乐高）', 'Python', 'LOGO', 'micro:bit'],\n",
       " ['C/C++', 'Scratch', 'LOGO'],\n",
       " ['C/C++', 'Scratch', 'Python']]"
      ]
     },
     "execution_count": 31,
     "metadata": {},
     "output_type": "execute_result"
    }
   ],
   "source": [
    "# 数据处理\n",
    "arr4 = []\n",
    "for each in csv_df[\"您之前学习过的编程语言有哪些？\"]:\n",
    "    arr4.append(each.split(\"，\"))\n",
    "arr4[:5]"
   ]
  },
  {
   "cell_type": "code",
   "execution_count": 32,
   "metadata": {},
   "outputs": [
    {
     "data": {
      "text/plain": [
       "{'Scratch': 24,\n",
       " 'Arduino': 5,\n",
       " 'micro:bit': 9,\n",
       " 'Java': 9,\n",
       " 'C/C++': 26,\n",
       " 'LEGO（乐高）': 6,\n",
       " 'Python': 21,\n",
       " 'LOGO': 5,\n",
       " 'Blockly': 5,\n",
       " '其他: Pascl': 1,\n",
       " '其他': 1,\n",
       " '其他: basic': 1}"
      ]
     },
     "execution_count": 32,
     "metadata": {},
     "output_type": "execute_result"
    }
   ],
   "source": [
    "dict1 = {} \n",
    "for sub_list in arr4:\n",
    "    for item in sub_list:\n",
    "        if item not in dict1: # 如果字典中不包含这个语言，就添加这个语言，并且人数设置为1\n",
    "            dict1[item] = 1\n",
    "        else:\n",
    "            dict1[item] += 1 # 如果再次出现这个语言，就将人数加1\n",
    "dict1"
   ]
  },
  {
   "cell_type": "code",
   "execution_count": 35,
   "metadata": {},
   "outputs": [
    {
     "data": {
      "image/svg+xml": "<?xml version=\"1.0\" encoding=\"utf-8\" standalone=\"no\"?>\r\n<!DOCTYPE svg PUBLIC \"-//W3C//DTD SVG 1.1//EN\"\r\n  \"http://www.w3.org/Graphics/SVG/1.1/DTD/svg11.dtd\">\r\n<svg height=\"327.722813pt\" version=\"1.1\" viewBox=\"0 0 379.301562 327.722813\" width=\"379.301562pt\" xmlns=\"http://www.w3.org/2000/svg\" xmlns:xlink=\"http://www.w3.org/1999/xlink\">\r\n <metadata>\r\n  <rdf:RDF xmlns:cc=\"http://creativecommons.org/ns#\" xmlns:dc=\"http://purl.org/dc/elements/1.1/\" xmlns:rdf=\"http://www.w3.org/1999/02/22-rdf-syntax-ns#\">\r\n   <cc:Work>\r\n    <dc:type rdf:resource=\"http://purl.org/dc/dcmitype/StillImage\"/>\r\n    <dc:date>2021-11-14T11:50:47.616638</dc:date>\r\n    <dc:format>image/svg+xml</dc:format>\r\n    <dc:creator>\r\n     <cc:Agent>\r\n      <dc:title>Matplotlib v3.4.3, https://matplotlib.org/</dc:title>\r\n     </cc:Agent>\r\n    </dc:creator>\r\n   </cc:Work>\r\n  </rdf:RDF>\r\n </metadata>\r\n <defs>\r\n  <style type=\"text/css\">*{stroke-linecap:butt;stroke-linejoin:round;}</style>\r\n </defs>\r\n <g id=\"figure_1\">\r\n  <g id=\"patch_1\">\r\n   <path d=\"M 0 327.722813 \r\nL 379.301562 327.722813 \r\nL 379.301562 0 \r\nL 0 0 \r\nz\r\n\" style=\"fill:none;\"/>\r\n  </g>\r\n  <g id=\"axes_1\">\r\n   <g id=\"patch_2\">\r\n    <path d=\"M 37.301563 240.343125 \r\nL 372.101562 240.343125 \r\nL 372.101562 22.903125 \r\nL 37.301563 22.903125 \r\nz\r\n\" style=\"fill:#ffffff;\"/>\r\n   </g>\r\n   <g id=\"patch_3\">\r\n    <path clip-path=\"url(#p86bb2ee6ed)\" d=\"M 52.519744 240.343125 \r\nL 73.154567 240.343125 \r\nL 73.154567 49.187081 \r\nL 52.519744 49.187081 \r\nz\r\n\" style=\"fill:#1f77b4;\"/>\r\n   </g>\r\n   <g id=\"patch_4\">\r\n    <path clip-path=\"url(#p86bb2ee6ed)\" d=\"M 78.313273 240.343125 \r\nL 98.948096 240.343125 \r\nL 98.948096 200.518949 \r\nL 78.313273 200.518949 \r\nz\r\n\" style=\"fill:#1f77b4;\"/>\r\n   </g>\r\n   <g id=\"patch_5\">\r\n    <path clip-path=\"url(#p86bb2ee6ed)\" d=\"M 104.106801 240.343125 \r\nL 124.741624 240.343125 \r\nL 124.741624 168.659609 \r\nL 104.106801 168.659609 \r\nz\r\n\" style=\"fill:#1f77b4;\"/>\r\n   </g>\r\n   <g id=\"patch_6\">\r\n    <path clip-path=\"url(#p86bb2ee6ed)\" d=\"M 129.90033 240.343125 \r\nL 150.535153 240.343125 \r\nL 150.535153 168.659609 \r\nL 129.90033 168.659609 \r\nz\r\n\" style=\"fill:#1f77b4;\"/>\r\n   </g>\r\n   <g id=\"patch_7\">\r\n    <path clip-path=\"url(#p86bb2ee6ed)\" d=\"M 155.693858 240.343125 \r\nL 176.328681 240.343125 \r\nL 176.328681 33.257411 \r\nL 155.693858 33.257411 \r\nz\r\n\" style=\"fill:#1f77b4;\"/>\r\n   </g>\r\n   <g id=\"patch_8\">\r\n    <path clip-path=\"url(#p86bb2ee6ed)\" d=\"M 181.487387 240.343125 \r\nL 202.12221 240.343125 \r\nL 202.12221 192.554114 \r\nL 181.487387 192.554114 \r\nz\r\n\" style=\"fill:#1f77b4;\"/>\r\n   </g>\r\n   <g id=\"patch_9\">\r\n    <path clip-path=\"url(#p86bb2ee6ed)\" d=\"M 207.280915 240.343125 \r\nL 227.915738 240.343125 \r\nL 227.915738 73.081587 \r\nL 207.280915 73.081587 \r\nz\r\n\" style=\"fill:#1f77b4;\"/>\r\n   </g>\r\n   <g id=\"patch_10\">\r\n    <path clip-path=\"url(#p86bb2ee6ed)\" d=\"M 233.074444 240.343125 \r\nL 253.709267 240.343125 \r\nL 253.709267 200.518949 \r\nL 233.074444 200.518949 \r\nz\r\n\" style=\"fill:#1f77b4;\"/>\r\n   </g>\r\n   <g id=\"patch_11\">\r\n    <path clip-path=\"url(#p86bb2ee6ed)\" d=\"M 258.867972 240.343125 \r\nL 279.502795 240.343125 \r\nL 279.502795 200.518949 \r\nL 258.867972 200.518949 \r\nz\r\n\" style=\"fill:#1f77b4;\"/>\r\n   </g>\r\n   <g id=\"patch_12\">\r\n    <path clip-path=\"url(#p86bb2ee6ed)\" d=\"M 284.661501 240.343125 \r\nL 305.296324 240.343125 \r\nL 305.296324 232.37829 \r\nL 284.661501 232.37829 \r\nz\r\n\" style=\"fill:#1f77b4;\"/>\r\n   </g>\r\n   <g id=\"patch_13\">\r\n    <path clip-path=\"url(#p86bb2ee6ed)\" d=\"M 310.455029 240.343125 \r\nL 331.089852 240.343125 \r\nL 331.089852 232.37829 \r\nL 310.455029 232.37829 \r\nz\r\n\" style=\"fill:#1f77b4;\"/>\r\n   </g>\r\n   <g id=\"patch_14\">\r\n    <path clip-path=\"url(#p86bb2ee6ed)\" d=\"M 336.248558 240.343125 \r\nL 356.883381 240.343125 \r\nL 356.883381 232.37829 \r\nL 336.248558 232.37829 \r\nz\r\n\" style=\"fill:#1f77b4;\"/>\r\n   </g>\r\n   <g id=\"matplotlib.axis_1\">\r\n    <g id=\"xtick_1\">\r\n     <g id=\"line2d_1\">\r\n      <defs>\r\n       <path d=\"M 0 0 \r\nL 0 3.5 \r\n\" id=\"mac534243d4\" style=\"stroke:#000000;stroke-width:0.8;\"/>\r\n      </defs>\r\n      <g>\r\n       <use style=\"stroke:#000000;stroke-width:0.8;\" x=\"62.837156\" xlink:href=\"#mac534243d4\" y=\"240.343125\"/>\r\n      </g>\r\n     </g>\r\n     <g id=\"text_1\">\r\n      <!-- Scratch -->\r\n      <g transform=\"translate(65.649656 282.343125)rotate(-90)scale(0.1 -0.1)\">\r\n       <defs>\r\n        <path d=\"M 2900 1325 \r\nQ 2900 750 2537 412 \r\nQ 2175 75 1550 75 \r\nQ 925 75 575 425 \r\nQ 225 775 225 1300 \r\nL 225 1475 \r\nL 800 1475 \r\nL 800 1325 \r\nQ 800 950 1025 750 \r\nQ 1250 550 1550 550 \r\nQ 1950 550 2137 762 \r\nQ 2325 975 2325 1275 \r\nQ 2325 1525 2100 1737 \r\nQ 1875 1950 1450 2125 \r\nQ 850 2350 587 2625 \r\nQ 325 2900 325 3275 \r\nQ 325 3800 687 4125 \r\nQ 1050 4450 1550 4450 \r\nQ 2200 4450 2487 4062 \r\nQ 2775 3675 2775 3225 \r\nL 2200 3225 \r\nQ 2225 3500 2050 3725 \r\nQ 1875 3950 1550 3950 \r\nQ 1250 3950 1075 3787 \r\nQ 900 3625 900 3350 \r\nQ 900 3125 1037 2962 \r\nQ 1175 2800 1750 2575 \r\nQ 2300 2350 2600 2037 \r\nQ 2900 1725 2900 1325 \r\nz\r\n\" id=\"SimHei-53\" transform=\"scale(0.015625)\"/>\r\n        <path d=\"M 2850 1250 \r\nQ 2850 725 2487 400 \r\nQ 2125 75 1575 75 \r\nQ 1025 75 625 462 \r\nQ 225 850 225 1525 \r\nQ 225 2200 625 2587 \r\nQ 1025 2975 1575 2975 \r\nQ 2125 2975 2450 2687 \r\nQ 2775 2400 2775 2000 \r\nL 2225 2000 \r\nQ 2200 2300 2012 2412 \r\nQ 1825 2525 1575 2525 \r\nQ 1275 2525 1025 2287 \r\nQ 775 2050 775 1525 \r\nQ 775 1000 1025 762 \r\nQ 1275 525 1575 525 \r\nQ 1900 525 2100 700 \r\nQ 2300 875 2300 1250 \r\nL 2850 1250 \r\nz\r\n\" id=\"SimHei-63\" transform=\"scale(0.015625)\"/>\r\n        <path d=\"M 2500 2425 \r\nQ 2025 2500 1700 2287 \r\nQ 1375 2075 1150 1550 \r\nL 1150 125 \r\nL 650 125 \r\nL 650 2925 \r\nL 1150 2925 \r\nL 1150 2200 \r\nQ 1375 2600 1712 2787 \r\nQ 2050 2975 2500 2975 \r\nL 2500 2425 \r\nz\r\n\" id=\"SimHei-72\" transform=\"scale(0.015625)\"/>\r\n        <path d=\"M 2875 125 \r\nL 2275 125 \r\nQ 2225 175 2200 262 \r\nQ 2175 350 2175 475 \r\nQ 2000 275 1750 175 \r\nQ 1500 75 1225 75 \r\nQ 825 75 550 275 \r\nQ 275 475 275 850 \r\nQ 275 1225 525 1450 \r\nQ 775 1675 1300 1750 \r\nQ 1650 1800 1912 1875 \r\nQ 2175 1950 2175 2075 \r\nQ 2175 2225 2062 2375 \r\nQ 1950 2525 1575 2525 \r\nQ 1275 2525 1137 2412 \r\nQ 1000 2300 950 2100 \r\nL 400 2100 \r\nQ 450 2500 762 2737 \r\nQ 1075 2975 1575 2975 \r\nQ 2125 2975 2400 2725 \r\nQ 2675 2475 2675 2025 \r\nL 2675 650 \r\nQ 2675 500 2725 375 \r\nQ 2775 250 2875 125 \r\nz\r\nM 2175 1050 \r\nL 2175 1550 \r\nQ 2025 1500 1887 1462 \r\nQ 1750 1425 1425 1375 \r\nQ 1050 1325 937 1200 \r\nQ 825 1075 825 900 \r\nQ 825 750 937 637 \r\nQ 1050 525 1275 525 \r\nQ 1500 525 1762 650 \r\nQ 2025 775 2175 1050 \r\nz\r\n\" id=\"SimHei-61\" transform=\"scale(0.015625)\"/>\r\n        <path d=\"M 2750 200 \r\nQ 2625 150 2462 112 \r\nQ 2300 75 2025 75 \r\nQ 1575 75 1300 325 \r\nQ 1025 575 1025 1025 \r\nL 1025 2525 \r\nL 175 2525 \r\nL 175 2925 \r\nL 1025 2925 \r\nL 1025 3900 \r\nL 1525 3900 \r\nL 1525 2925 \r\nL 2550 2925 \r\nL 2550 2525 \r\nL 1525 2525 \r\nL 1525 1000 \r\nQ 1525 800 1625 662 \r\nQ 1725 525 2000 525 \r\nQ 2275 525 2450 575 \r\nQ 2625 625 2750 700 \r\nL 2750 200 \r\nz\r\n\" id=\"SimHei-74\" transform=\"scale(0.015625)\"/>\r\n        <path d=\"M 2800 125 \r\nL 2300 125 \r\nL 2300 1925 \r\nQ 2300 2225 2150 2400 \r\nQ 2000 2575 1750 2575 \r\nQ 1425 2575 1137 2237 \r\nQ 850 1900 850 1400 \r\nL 850 125 \r\nL 350 125 \r\nL 350 4400 \r\nL 850 4400 \r\nL 850 2400 \r\nQ 1050 2675 1287 2825 \r\nQ 1525 2975 1900 2975 \r\nQ 2350 2975 2575 2725 \r\nQ 2800 2475 2800 2100 \r\nL 2800 125 \r\nz\r\n\" id=\"SimHei-68\" transform=\"scale(0.015625)\"/>\r\n       </defs>\r\n       <use xlink:href=\"#SimHei-53\"/>\r\n       <use x=\"50\" xlink:href=\"#SimHei-63\"/>\r\n       <use x=\"100\" xlink:href=\"#SimHei-72\"/>\r\n       <use x=\"150\" xlink:href=\"#SimHei-61\"/>\r\n       <use x=\"200\" xlink:href=\"#SimHei-74\"/>\r\n       <use x=\"250\" xlink:href=\"#SimHei-63\"/>\r\n       <use x=\"300\" xlink:href=\"#SimHei-68\"/>\r\n      </g>\r\n     </g>\r\n    </g>\r\n    <g id=\"xtick_2\">\r\n     <g id=\"line2d_2\">\r\n      <g>\r\n       <use style=\"stroke:#000000;stroke-width:0.8;\" x=\"88.630684\" xlink:href=\"#mac534243d4\" y=\"240.343125\"/>\r\n      </g>\r\n     </g>\r\n     <g id=\"text_2\">\r\n      <!-- Arduino -->\r\n      <g transform=\"translate(91.443184 282.343125)rotate(-90)scale(0.1 -0.1)\">\r\n       <defs>\r\n        <path d=\"M 3075 125 \r\nL 2475 125 \r\nL 2125 1450 \r\nL 1025 1450 \r\nL 675 125 \r\nL 75 125 \r\nL 1325 4450 \r\nL 1825 4450 \r\nL 3075 125 \r\nz\r\nM 2000 1925 \r\nL 1600 3450 \r\nL 1550 3450 \r\nL 1150 1925 \r\nL 2000 1925 \r\nz\r\n\" id=\"SimHei-41\" transform=\"scale(0.015625)\"/>\r\n        <path d=\"M 2750 125 \r\nL 2250 125 \r\nL 2250 500 \r\nQ 2100 275 1900 175 \r\nQ 1700 75 1425 75 \r\nQ 925 75 575 437 \r\nQ 225 800 225 1525 \r\nQ 225 2250 575 2625 \r\nQ 925 3000 1425 3000 \r\nQ 1700 3000 1900 2887 \r\nQ 2100 2775 2250 2550 \r\nL 2250 4400 \r\nL 2750 4400 \r\nL 2750 125 \r\nz\r\nM 2250 1525 \r\nQ 2250 2000 2037 2275 \r\nQ 1825 2550 1525 2550 \r\nQ 1150 2550 962 2275 \r\nQ 775 2000 775 1525 \r\nQ 775 1050 962 787 \r\nQ 1150 525 1525 525 \r\nQ 1825 525 2037 787 \r\nQ 2250 1050 2250 1525 \r\nz\r\n\" id=\"SimHei-64\" transform=\"scale(0.015625)\"/>\r\n        <path d=\"M 2800 125 \r\nL 2300 125 \r\nL 2300 650 \r\nQ 2100 375 1862 225 \r\nQ 1625 75 1250 75 \r\nQ 800 75 575 325 \r\nQ 350 575 350 950 \r\nL 350 2925 \r\nL 850 2925 \r\nL 850 1125 \r\nQ 850 825 1000 650 \r\nQ 1150 475 1400 475 \r\nQ 1725 475 2012 812 \r\nQ 2300 1150 2300 1650 \r\nL 2300 2925 \r\nL 2800 2925 \r\nL 2800 125 \r\nz\r\n\" id=\"SimHei-75\" transform=\"scale(0.015625)\"/>\r\n        <path d=\"M 1800 3725 \r\nL 1300 3725 \r\nL 1300 4375 \r\nL 1800 4375 \r\nL 1800 3725 \r\nz\r\nM 1800 125 \r\nL 1300 125 \r\nL 1300 2925 \r\nL 1800 2925 \r\nL 1800 125 \r\nz\r\n\" id=\"SimHei-69\" transform=\"scale(0.015625)\"/>\r\n        <path d=\"M 2800 125 \r\nL 2300 125 \r\nL 2300 1925 \r\nQ 2300 2225 2150 2400 \r\nQ 2000 2575 1750 2575 \r\nQ 1425 2575 1137 2237 \r\nQ 850 1900 850 1400 \r\nL 850 125 \r\nL 350 125 \r\nL 350 2925 \r\nL 850 2925 \r\nL 850 2400 \r\nQ 1050 2675 1287 2825 \r\nQ 1525 2975 1900 2975 \r\nQ 2350 2975 2575 2725 \r\nQ 2800 2475 2800 2100 \r\nL 2800 125 \r\nz\r\n\" id=\"SimHei-6e\" transform=\"scale(0.015625)\"/>\r\n        <path d=\"M 2925 1525 \r\nQ 2925 875 2525 475 \r\nQ 2125 75 1575 75 \r\nQ 1025 75 625 475 \r\nQ 225 875 225 1525 \r\nQ 225 2175 625 2575 \r\nQ 1025 2975 1575 2975 \r\nQ 2125 2975 2525 2575 \r\nQ 2925 2175 2925 1525 \r\nz\r\nM 2375 1525 \r\nQ 2375 2025 2125 2275 \r\nQ 1875 2525 1575 2525 \r\nQ 1275 2525 1025 2275 \r\nQ 775 2025 775 1525 \r\nQ 775 1025 1025 775 \r\nQ 1275 525 1575 525 \r\nQ 1875 525 2125 775 \r\nQ 2375 1025 2375 1525 \r\nz\r\n\" id=\"SimHei-6f\" transform=\"scale(0.015625)\"/>\r\n       </defs>\r\n       <use xlink:href=\"#SimHei-41\"/>\r\n       <use x=\"50\" xlink:href=\"#SimHei-72\"/>\r\n       <use x=\"100\" xlink:href=\"#SimHei-64\"/>\r\n       <use x=\"150\" xlink:href=\"#SimHei-75\"/>\r\n       <use x=\"200\" xlink:href=\"#SimHei-69\"/>\r\n       <use x=\"250\" xlink:href=\"#SimHei-6e\"/>\r\n       <use x=\"300\" xlink:href=\"#SimHei-6f\"/>\r\n      </g>\r\n     </g>\r\n    </g>\r\n    <g id=\"xtick_3\">\r\n     <g id=\"line2d_3\">\r\n      <g>\r\n       <use style=\"stroke:#000000;stroke-width:0.8;\" x=\"114.424213\" xlink:href=\"#mac534243d4\" y=\"240.343125\"/>\r\n      </g>\r\n     </g>\r\n     <g id=\"text_3\">\r\n      <!-- micro:bit -->\r\n      <g transform=\"translate(117.236713 292.343125)rotate(-90)scale(0.1 -0.1)\">\r\n       <defs>\r\n        <path d=\"M 3050 125 \r\nL 2550 125 \r\nL 2550 2150 \r\nQ 2550 2300 2500 2400 \r\nQ 2450 2500 2300 2500 \r\nQ 2125 2500 1975 2312 \r\nQ 1825 2125 1825 1825 \r\nL 1825 125 \r\nL 1325 125 \r\nL 1325 2150 \r\nQ 1325 2300 1275 2400 \r\nQ 1225 2500 1075 2500 \r\nQ 900 2500 750 2312 \r\nQ 600 2125 600 1825 \r\nL 600 125 \r\nL 100 125 \r\nL 100 2925 \r\nL 600 2925 \r\nL 600 2550 \r\nQ 725 2750 900 2862 \r\nQ 1075 2975 1275 2975 \r\nQ 1475 2975 1612 2862 \r\nQ 1750 2750 1800 2550 \r\nQ 1925 2750 2087 2862 \r\nQ 2250 2975 2450 2975 \r\nQ 2750 2975 2900 2812 \r\nQ 3050 2650 3050 2350 \r\nL 3050 125 \r\nz\r\n\" id=\"SimHei-6d\" transform=\"scale(0.015625)\"/>\r\n        <path d=\"M 1825 2425 \r\nL 1250 2425 \r\nL 1250 2975 \r\nL 1825 2975 \r\nL 1825 2425 \r\nz\r\nM 1825 125 \r\nL 1250 125 \r\nL 1250 675 \r\nL 1825 675 \r\nL 1825 125 \r\nz\r\n\" id=\"SimHei-3a\" transform=\"scale(0.015625)\"/>\r\n        <path d=\"M 2825 1525 \r\nQ 2825 800 2475 437 \r\nQ 2125 75 1625 75 \r\nQ 1350 75 1150 175 \r\nQ 950 275 800 500 \r\nL 800 125 \r\nL 300 125 \r\nL 300 4400 \r\nL 800 4400 \r\nL 800 2550 \r\nQ 950 2775 1150 2887 \r\nQ 1350 3000 1625 3000 \r\nQ 2125 3000 2475 2625 \r\nQ 2825 2250 2825 1525 \r\nz\r\nM 2275 1525 \r\nQ 2275 2000 2087 2275 \r\nQ 1900 2550 1525 2550 \r\nQ 1225 2550 1012 2275 \r\nQ 800 2000 800 1525 \r\nQ 800 1050 1012 787 \r\nQ 1225 525 1525 525 \r\nQ 1900 525 2087 787 \r\nQ 2275 1050 2275 1525 \r\nz\r\n\" id=\"SimHei-62\" transform=\"scale(0.015625)\"/>\r\n       </defs>\r\n       <use xlink:href=\"#SimHei-6d\"/>\r\n       <use x=\"50\" xlink:href=\"#SimHei-69\"/>\r\n       <use x=\"100\" xlink:href=\"#SimHei-63\"/>\r\n       <use x=\"150\" xlink:href=\"#SimHei-72\"/>\r\n       <use x=\"200\" xlink:href=\"#SimHei-6f\"/>\r\n       <use x=\"250\" xlink:href=\"#SimHei-3a\"/>\r\n       <use x=\"300\" xlink:href=\"#SimHei-62\"/>\r\n       <use x=\"350\" xlink:href=\"#SimHei-69\"/>\r\n       <use x=\"400\" xlink:href=\"#SimHei-74\"/>\r\n      </g>\r\n     </g>\r\n    </g>\r\n    <g id=\"xtick_4\">\r\n     <g id=\"line2d_4\">\r\n      <g>\r\n       <use style=\"stroke:#000000;stroke-width:0.8;\" x=\"140.217741\" xlink:href=\"#mac534243d4\" y=\"240.343125\"/>\r\n      </g>\r\n     </g>\r\n     <g id=\"text_4\">\r\n      <!-- Java -->\r\n      <g transform=\"translate(143.030241 267.343125)rotate(-90)scale(0.1 -0.1)\">\r\n       <defs>\r\n        <path d=\"M 2800 1550 \r\nQ 2800 775 2462 425 \r\nQ 2125 75 1550 75 \r\nQ 1025 75 675 412 \r\nQ 325 750 325 1500 \r\nL 325 1775 \r\nL 900 1775 \r\nL 900 1425 \r\nQ 900 975 1087 787 \r\nQ 1275 600 1525 600 \r\nQ 1875 600 2050 800 \r\nQ 2225 1000 2225 1525 \r\nL 2225 4400 \r\nL 2800 4400 \r\nL 2800 1550 \r\nz\r\n\" id=\"SimHei-4a\" transform=\"scale(0.015625)\"/>\r\n        <path d=\"M 2875 2925 \r\nL 1825 75 \r\nL 1275 75 \r\nL 225 2925 \r\nL 750 2925 \r\nL 1525 750 \r\nL 1575 750 \r\nL 2350 2925 \r\nL 2875 2925 \r\nz\r\n\" id=\"SimHei-76\" transform=\"scale(0.015625)\"/>\r\n       </defs>\r\n       <use xlink:href=\"#SimHei-4a\"/>\r\n       <use x=\"50\" xlink:href=\"#SimHei-61\"/>\r\n       <use x=\"100\" xlink:href=\"#SimHei-76\"/>\r\n       <use x=\"150\" xlink:href=\"#SimHei-61\"/>\r\n      </g>\r\n     </g>\r\n    </g>\r\n    <g id=\"xtick_5\">\r\n     <g id=\"line2d_5\">\r\n      <g>\r\n       <use style=\"stroke:#000000;stroke-width:0.8;\" x=\"166.01127\" xlink:href=\"#mac534243d4\" y=\"240.343125\"/>\r\n      </g>\r\n     </g>\r\n     <g id=\"text_5\">\r\n      <!-- C/C++ -->\r\n      <g transform=\"translate(168.82377 272.343125)rotate(-90)scale(0.1 -0.1)\">\r\n       <defs>\r\n        <path d=\"M 2975 1825 \r\nQ 2950 875 2575 475 \r\nQ 2200 75 1675 75 \r\nQ 1075 75 650 562 \r\nQ 225 1050 225 2125 \r\nQ 225 3300 637 3875 \r\nQ 1050 4450 1700 4450 \r\nQ 2250 4450 2612 4037 \r\nQ 2975 3625 2950 2875 \r\nL 2400 2875 \r\nQ 2400 3425 2225 3700 \r\nQ 2050 3975 1700 3975 \r\nQ 1300 3975 1062 3562 \r\nQ 825 3150 825 2175 \r\nQ 825 1275 1062 912 \r\nQ 1300 550 1675 550 \r\nQ 1950 550 2175 812 \r\nQ 2400 1075 2400 1825 \r\nL 2975 1825 \r\nz\r\n\" id=\"SimHei-43\" transform=\"scale(0.015625)\"/>\r\n        <path d=\"M 3000 4550 \r\nL 350 -175 \r\nL 100 -25 \r\nL 2750 4700 \r\nL 3000 4550 \r\nz\r\n\" id=\"SimHei-2f\" transform=\"scale(0.015625)\"/>\r\n        <path d=\"M 3000 2125 \r\nL 1775 2125 \r\nL 1775 900 \r\nL 1350 900 \r\nL 1350 2125 \r\nL 125 2125 \r\nL 125 2525 \r\nL 1350 2525 \r\nL 1350 3750 \r\nL 1775 3750 \r\nL 1775 2525 \r\nL 3000 2525 \r\nL 3000 2125 \r\nz\r\n\" id=\"SimHei-2b\" transform=\"scale(0.015625)\"/>\r\n       </defs>\r\n       <use xlink:href=\"#SimHei-43\"/>\r\n       <use x=\"50\" xlink:href=\"#SimHei-2f\"/>\r\n       <use x=\"100\" xlink:href=\"#SimHei-43\"/>\r\n       <use x=\"150\" xlink:href=\"#SimHei-2b\"/>\r\n       <use x=\"200\" xlink:href=\"#SimHei-2b\"/>\r\n      </g>\r\n     </g>\r\n    </g>\r\n    <g id=\"xtick_6\">\r\n     <g id=\"line2d_6\">\r\n      <g>\r\n       <use style=\"stroke:#000000;stroke-width:0.8;\" x=\"191.804798\" xlink:href=\"#mac534243d4\" y=\"240.343125\"/>\r\n      </g>\r\n     </g>\r\n     <g id=\"text_6\">\r\n      <!-- LEGO（乐高） -->\r\n      <g transform=\"translate(195.125111 307.343125)rotate(-90)scale(0.1 -0.1)\">\r\n       <defs>\r\n        <path d=\"M 2900 125 \r\nL 300 125 \r\nL 300 4400 \r\nL 875 4400 \r\nL 875 600 \r\nL 2900 600 \r\nL 2900 125 \r\nz\r\n\" id=\"SimHei-4c\" transform=\"scale(0.015625)\"/>\r\n        <path d=\"M 2900 125 \r\nL 350 125 \r\nL 350 4400 \r\nL 2775 4400 \r\nL 2775 3925 \r\nL 925 3925 \r\nL 925 2600 \r\nL 2625 2600 \r\nL 2625 2125 \r\nL 925 2125 \r\nL 925 600 \r\nL 2900 600 \r\nL 2900 125 \r\nz\r\n\" id=\"SimHei-45\" transform=\"scale(0.015625)\"/>\r\n        <path d=\"M 2850 75 \r\nL 2425 75 \r\nL 2350 425 \r\nQ 2250 275 2037 175 \r\nQ 1825 75 1575 75 \r\nQ 1050 75 637 562 \r\nQ 225 1050 225 2125 \r\nQ 225 3300 600 3875 \r\nQ 975 4450 1625 4450 \r\nQ 2200 4450 2525 4025 \r\nQ 2850 3600 2850 2925 \r\nL 2300 2925 \r\nQ 2300 3450 2125 3712 \r\nQ 1950 3975 1625 3975 \r\nQ 1225 3975 1025 3562 \r\nQ 825 3150 825 2175 \r\nQ 825 1250 1075 900 \r\nQ 1325 550 1650 550 \r\nQ 1975 550 2162 787 \r\nQ 2350 1025 2350 1525 \r\nL 2350 1800 \r\nL 1575 1800 \r\nL 1575 2275 \r\nL 2850 2275 \r\nL 2850 75 \r\nz\r\n\" id=\"SimHei-47\" transform=\"scale(0.015625)\"/>\r\n        <path d=\"M 2950 2275 \r\nQ 2950 1100 2587 587 \r\nQ 2225 75 1575 75 \r\nQ 925 75 550 587 \r\nQ 175 1100 175 2275 \r\nQ 175 3450 550 3950 \r\nQ 925 4450 1575 4450 \r\nQ 2225 4450 2587 3950 \r\nQ 2950 3450 2950 2275 \r\nz\r\nM 2350 2275 \r\nQ 2350 3325 2125 3650 \r\nQ 1900 3975 1575 3975 \r\nQ 1250 3975 1012 3650 \r\nQ 775 3325 775 2275 \r\nQ 775 1225 1012 887 \r\nQ 1250 550 1575 550 \r\nQ 1900 550 2125 887 \r\nQ 2350 1225 2350 2275 \r\nz\r\n\" id=\"SimHei-4f\" transform=\"scale(0.015625)\"/>\r\n        <path d=\"M 5425 5100 \r\nL 5700 4775 \r\nQ 4275 3725 4325 2350 \r\nQ 4350 1025 5675 50 \r\nL 5400 -275 \r\nQ 3875 825 3925 2500 \r\nQ 3925 3875 5425 5100 \r\nz\r\n\" id=\"SimHei-ff08\" transform=\"scale(0.015625)\"/>\r\n        <path d=\"M 3100 2700 \r\nL 3100 3200 \r\nQ 3100 3400 3075 4050 \r\nL 3650 4050 \r\nQ 3625 3525 3625 3200 \r\nL 3625 2700 \r\nL 4925 2700 \r\nQ 5425 2700 5875 2725 \r\nL 5875 2225 \r\nQ 5200 2250 4875 2250 \r\nL 3625 2250 \r\nL 3625 25 \r\nQ 3625 -400 3300 -500 \r\nQ 2975 -600 2375 -650 \r\nQ 2300 -300 2175 -75 \r\nQ 2650 -100 2875 -62 \r\nQ 3100 -25 3100 175 \r\nL 3100 2250 \r\nL 1850 2250 \r\nQ 1125 2225 925 2100 \r\nQ 875 2275 675 2525 \r\nQ 875 2675 962 2912 \r\nQ 1050 3150 1175 4625 \r\nQ 2375 4625 3487 4787 \r\nQ 4600 4950 5100 5100 \r\nQ 5275 4700 5425 4550 \r\nQ 4600 4450 3562 4350 \r\nQ 2525 4250 1675 4200 \r\nQ 1550 3150 1475 2700 \r\nL 3100 2700 \r\nz\r\nM 2425 1500 \r\nQ 2225 1325 1725 787 \r\nQ 1225 250 900 -75 \r\nQ 775 75 500 300 \r\nQ 875 600 1237 987 \r\nQ 1600 1375 1950 1900 \r\nQ 2225 1625 2425 1500 \r\nz\r\nM 4525 1750 \r\nQ 4900 1425 5250 1087 \r\nQ 5600 750 5975 375 \r\nQ 5625 125 5500 -25 \r\nQ 5150 425 4175 1375 \r\nQ 4325 1500 4525 1750 \r\nz\r\n\" id=\"SimHei-4e50\" transform=\"scale(0.015625)\"/>\r\n        <path d=\"M 5825 -25 \r\nQ 5850 -400 5550 -500 \r\nQ 5250 -600 4975 -625 \r\nQ 4875 -325 4725 -100 \r\nQ 4975 -100 5175 -87 \r\nQ 5375 -75 5350 250 \r\nL 5350 1825 \r\nL 1100 1825 \r\nL 1100 -575 \r\nL 600 -575 \r\nQ 625 -225 625 850 \r\nQ 625 1950 600 2200 \r\nL 5850 2200 \r\nQ 5825 1850 5825 1425 \r\nL 5825 -25 \r\nz\r\nM 4925 3800 \r\nQ 4900 3475 4900 3175 \r\nQ 4900 2900 4925 2600 \r\nL 1400 2600 \r\nQ 1425 2825 1425 3175 \r\nQ 1425 3525 1400 3800 \r\nL 4925 3800 \r\nz\r\nM 4500 1400 \r\nQ 4475 1125 4475 800 \r\nQ 4475 500 4500 200 \r\nL 1950 200 \r\nQ 2000 500 2000 800 \r\nQ 2000 1125 1950 1400 \r\nL 4500 1400 \r\nz\r\nM 425 4600 \r\nQ 750 4575 1125 4575 \r\nL 2925 4575 \r\nQ 2850 4875 2750 5100 \r\nQ 3050 5125 3350 5200 \r\nQ 3400 4950 3525 4575 \r\nL 5250 4575 \r\nQ 5600 4575 5975 4600 \r\nL 5975 4150 \r\nQ 5600 4175 5050 4175 \r\nL 1150 4175 \r\nQ 750 4175 425 4150 \r\nL 425 4600 \r\nz\r\nM 4450 2975 \r\nL 4450 3425 \r\nL 1900 3425 \r\nL 1900 2975 \r\nL 4450 2975 \r\nz\r\nM 4025 550 \r\nL 4025 1050 \r\nL 2400 1050 \r\nL 2400 550 \r\nL 4025 550 \r\nz\r\n\" id=\"SimHei-9ad8\" transform=\"scale(0.015625)\"/>\r\n        <path d=\"M 1000 5100 \r\nQ 2500 3875 2500 2500 \r\nQ 2550 825 1025 -275 \r\nL 750 50 \r\nQ 2075 1025 2100 2350 \r\nQ 2150 3725 725 4775 \r\nL 1000 5100 \r\nz\r\n\" id=\"SimHei-ff09\" transform=\"scale(0.015625)\"/>\r\n       </defs>\r\n       <use xlink:href=\"#SimHei-4c\"/>\r\n       <use x=\"50\" xlink:href=\"#SimHei-45\"/>\r\n       <use x=\"100\" xlink:href=\"#SimHei-47\"/>\r\n       <use x=\"150\" xlink:href=\"#SimHei-4f\"/>\r\n       <use x=\"200\" xlink:href=\"#SimHei-ff08\"/>\r\n       <use x=\"300\" xlink:href=\"#SimHei-4e50\"/>\r\n       <use x=\"400\" xlink:href=\"#SimHei-9ad8\"/>\r\n       <use x=\"500\" xlink:href=\"#SimHei-ff09\"/>\r\n      </g>\r\n     </g>\r\n    </g>\r\n    <g id=\"xtick_7\">\r\n     <g id=\"line2d_7\">\r\n      <g>\r\n       <use style=\"stroke:#000000;stroke-width:0.8;\" x=\"217.598327\" xlink:href=\"#mac534243d4\" y=\"240.343125\"/>\r\n      </g>\r\n     </g>\r\n     <g id=\"text_7\">\r\n      <!-- Python -->\r\n      <g transform=\"translate(220.410827 277.343125)rotate(-90)scale(0.1 -0.1)\">\r\n       <defs>\r\n        <path d=\"M 2950 3100 \r\nQ 2950 2500 2600 2150 \r\nQ 2250 1800 1625 1800 \r\nL 900 1800 \r\nL 900 125 \r\nL 325 125 \r\nL 325 4400 \r\nL 1625 4400 \r\nQ 2250 4400 2600 4050 \r\nQ 2950 3700 2950 3100 \r\nz\r\nM 2375 3100 \r\nQ 2375 3575 2150 3750 \r\nQ 1925 3925 1475 3925 \r\nL 900 3925 \r\nL 900 2275 \r\nL 1475 2275 \r\nQ 1925 2275 2150 2450 \r\nQ 2375 2625 2375 3100 \r\nz\r\n\" id=\"SimHei-50\" transform=\"scale(0.015625)\"/>\r\n        <path d=\"M 2900 2925 \r\nL 1750 -100 \r\nQ 1650 -450 1450 -625 \r\nQ 1250 -800 950 -800 \r\nQ 825 -800 712 -787 \r\nQ 600 -775 500 -725 \r\nL 500 -225 \r\nQ 600 -275 700 -300 \r\nQ 800 -325 875 -325 \r\nQ 1075 -325 1150 -262 \r\nQ 1225 -200 1300 25 \r\nL 200 2925 \r\nL 750 2925 \r\nL 1550 725 \r\nL 1575 725 \r\nL 2350 2925 \r\nL 2900 2925 \r\nz\r\n\" id=\"SimHei-79\" transform=\"scale(0.015625)\"/>\r\n       </defs>\r\n       <use xlink:href=\"#SimHei-50\"/>\r\n       <use x=\"50\" xlink:href=\"#SimHei-79\"/>\r\n       <use x=\"100\" xlink:href=\"#SimHei-74\"/>\r\n       <use x=\"150\" xlink:href=\"#SimHei-68\"/>\r\n       <use x=\"200\" xlink:href=\"#SimHei-6f\"/>\r\n       <use x=\"250\" xlink:href=\"#SimHei-6e\"/>\r\n      </g>\r\n     </g>\r\n    </g>\r\n    <g id=\"xtick_8\">\r\n     <g id=\"line2d_8\">\r\n      <g>\r\n       <use style=\"stroke:#000000;stroke-width:0.8;\" x=\"243.391855\" xlink:href=\"#mac534243d4\" y=\"240.343125\"/>\r\n      </g>\r\n     </g>\r\n     <g id=\"text_8\">\r\n      <!-- LOGO -->\r\n      <g transform=\"translate(246.204355 267.343125)rotate(-90)scale(0.1 -0.1)\">\r\n       <use xlink:href=\"#SimHei-4c\"/>\r\n       <use x=\"50\" xlink:href=\"#SimHei-4f\"/>\r\n       <use x=\"100\" xlink:href=\"#SimHei-47\"/>\r\n       <use x=\"150\" xlink:href=\"#SimHei-4f\"/>\r\n      </g>\r\n     </g>\r\n    </g>\r\n    <g id=\"xtick_9\">\r\n     <g id=\"line2d_9\">\r\n      <g>\r\n       <use style=\"stroke:#000000;stroke-width:0.8;\" x=\"269.185384\" xlink:href=\"#mac534243d4\" y=\"240.343125\"/>\r\n      </g>\r\n     </g>\r\n     <g id=\"text_9\">\r\n      <!-- Blockly -->\r\n      <g transform=\"translate(271.997884 282.343125)rotate(-90)scale(0.1 -0.1)\">\r\n       <defs>\r\n        <path d=\"M 2950 1400 \r\nQ 2950 675 2550 400 \r\nQ 2150 125 1525 125 \r\nL 275 125 \r\nL 275 4400 \r\nL 1575 4400 \r\nQ 2200 4400 2512 4075 \r\nQ 2825 3750 2825 3300 \r\nQ 2825 2850 2612 2637 \r\nQ 2400 2425 2175 2350 \r\nQ 2475 2275 2712 2037 \r\nQ 2950 1800 2950 1400 \r\nz\r\nM 2250 3300 \r\nQ 2250 3625 2062 3775 \r\nQ 1875 3925 1600 3925 \r\nL 850 3925 \r\nL 850 2600 \r\nL 1575 2600 \r\nQ 1850 2600 2050 2762 \r\nQ 2250 2925 2250 3300 \r\nz\r\nM 2350 1400 \r\nQ 2350 1800 2087 1962 \r\nQ 1825 2125 1500 2125 \r\nL 850 2125 \r\nL 850 600 \r\nL 1425 600 \r\nQ 1875 600 2112 775 \r\nQ 2350 950 2350 1400 \r\nz\r\n\" id=\"SimHei-42\" transform=\"scale(0.015625)\"/>\r\n        <path d=\"M 1825 125 \r\nL 1325 125 \r\nL 1325 4400 \r\nL 1825 4400 \r\nL 1825 125 \r\nz\r\n\" id=\"SimHei-6c\" transform=\"scale(0.015625)\"/>\r\n        <path d=\"M 2925 125 \r\nL 2350 125 \r\nL 1450 1650 \r\nL 875 1100 \r\nL 875 125 \r\nL 375 125 \r\nL 375 4400 \r\nL 875 4400 \r\nL 875 1675 \r\nL 2125 2925 \r\nL 2750 2925 \r\nL 1775 1975 \r\nL 2925 125 \r\nz\r\n\" id=\"SimHei-6b\" transform=\"scale(0.015625)\"/>\r\n       </defs>\r\n       <use xlink:href=\"#SimHei-42\"/>\r\n       <use x=\"50\" xlink:href=\"#SimHei-6c\"/>\r\n       <use x=\"100\" xlink:href=\"#SimHei-6f\"/>\r\n       <use x=\"150\" xlink:href=\"#SimHei-63\"/>\r\n       <use x=\"200\" xlink:href=\"#SimHei-6b\"/>\r\n       <use x=\"250\" xlink:href=\"#SimHei-6c\"/>\r\n       <use x=\"300\" xlink:href=\"#SimHei-79\"/>\r\n      </g>\r\n     </g>\r\n    </g>\r\n    <g id=\"xtick_10\">\r\n     <g id=\"line2d_10\">\r\n      <g>\r\n       <use style=\"stroke:#000000;stroke-width:0.8;\" x=\"294.978912\" xlink:href=\"#mac534243d4\" y=\"240.343125\"/>\r\n      </g>\r\n     </g>\r\n     <g id=\"text_10\">\r\n      <!-- 其他: Pascl -->\r\n      <g transform=\"translate(298.279694 302.343125)rotate(-90)scale(0.1 -0.1)\">\r\n       <defs>\r\n        <path d=\"M 4725 1375 \r\nQ 5550 1375 6025 1400 \r\nL 6025 1000 \r\nQ 5575 1025 5250 1025 \r\nL 1225 1025 \r\nQ 675 1025 325 1000 \r\nL 325 1400 \r\nQ 525 1375 1650 1375 \r\nL 1650 3950 \r\nQ 1050 3950 675 3925 \r\nL 675 4350 \r\nQ 875 4325 1650 4325 \r\nQ 1650 4875 1625 5125 \r\nL 2225 5125 \r\nQ 2175 4850 2175 4325 \r\nL 4200 4325 \r\nQ 4200 4775 4175 5100 \r\nL 4750 5100 \r\nQ 4725 4775 4725 4325 \r\nQ 5275 4325 5675 4350 \r\nL 5675 3925 \r\nQ 5250 3950 4725 3950 \r\nL 4725 1375 \r\nz\r\nM 4200 1375 \r\nL 4200 2000 \r\nL 2175 2000 \r\nL 2175 1375 \r\nL 4200 1375 \r\nz\r\nM 4200 2375 \r\nL 4200 3000 \r\nL 2175 3000 \r\nL 2175 2375 \r\nL 4200 2375 \r\nz\r\nM 4200 3350 \r\nL 4200 3950 \r\nL 2175 3950 \r\nL 2175 3350 \r\nL 4200 3350 \r\nz\r\nM 4175 875 \r\nQ 5200 225 5750 -225 \r\nQ 5500 -400 5325 -625 \r\nQ 5025 -250 3825 500 \r\nQ 4075 700 4175 875 \r\nz\r\nM 525 -275 \r\nQ 800 -125 1275 212 \r\nQ 1750 550 2075 875 \r\nQ 2275 675 2475 500 \r\nQ 2200 300 900 -650 \r\nQ 750 -425 525 -275 \r\nz\r\n\" id=\"SimHei-5176\" transform=\"scale(0.015625)\"/>\r\n        <path d=\"M 2500 2875 \r\nQ 2500 3850 2475 4225 \r\nL 3000 4225 \r\nQ 2975 3900 2975 3025 \r\nL 3775 3275 \r\nL 3775 4300 \r\nQ 3775 4800 3725 5150 \r\nL 4250 5150 \r\nQ 4225 4800 4225 4275 \r\nL 4225 3450 \r\nL 5575 3925 \r\nQ 5550 2600 5550 2075 \r\nQ 5550 1550 5275 1425 \r\nQ 5000 1300 4575 1225 \r\nQ 4525 1475 4375 1750 \r\nQ 4850 1750 4950 1787 \r\nQ 5050 1825 5050 2025 \r\nL 5075 3275 \r\nL 4225 2975 \r\nL 4225 1375 \r\nQ 4225 950 4250 650 \r\nL 3750 650 \r\nQ 3775 950 3775 1375 \r\nL 3775 2850 \r\nL 2975 2575 \r\nL 2975 425 \r\nQ 2975 75 3325 100 \r\nL 5100 100 \r\nQ 5300 100 5400 212 \r\nQ 5500 325 5550 925 \r\nQ 5850 700 6125 650 \r\nQ 5950 0 5750 -175 \r\nQ 5550 -350 5175 -325 \r\nL 3225 -325 \r\nQ 2550 -350 2500 275 \r\nL 2500 2425 \r\nQ 2125 2300 1900 2175 \r\nL 1700 2650 \r\nQ 2025 2700 2500 2875 \r\nz\r\nM 2250 4925 \r\nQ 2025 4625 1650 3775 \r\nL 1650 475 \r\nQ 1650 -150 1700 -575 \r\nL 1175 -575 \r\nQ 1200 -150 1200 475 \r\nL 1200 2925 \r\nQ 875 2325 700 2050 \r\nQ 525 2275 300 2400 \r\nQ 625 2750 1062 3637 \r\nQ 1500 4525 1650 5175 \r\nQ 2050 5000 2250 4925 \r\nz\r\n\" id=\"SimHei-4ed6\" transform=\"scale(0.015625)\"/>\r\n        <path id=\"SimHei-20\" transform=\"scale(0.015625)\"/>\r\n        <path d=\"M 2750 900 \r\nQ 2750 500 2437 287 \r\nQ 2125 75 1650 75 \r\nQ 1050 75 725 312 \r\nQ 400 550 400 1000 \r\nL 900 1000 \r\nQ 900 700 1112 600 \r\nQ 1325 500 1625 500 \r\nQ 1925 500 2075 612 \r\nQ 2225 725 2225 900 \r\nQ 2225 1025 2100 1150 \r\nQ 1975 1275 1475 1350 \r\nQ 900 1425 687 1637 \r\nQ 475 1850 475 2200 \r\nQ 475 2500 762 2737 \r\nQ 1050 2975 1600 2975 \r\nQ 2100 2975 2387 2750 \r\nQ 2675 2525 2675 2150 \r\nL 2175 2150 \r\nQ 2175 2375 2012 2462 \r\nQ 1850 2550 1600 2550 \r\nQ 1275 2550 1137 2437 \r\nQ 1000 2325 1000 2175 \r\nQ 1000 2000 1125 1900 \r\nQ 1250 1800 1650 1750 \r\nQ 2300 1650 2525 1437 \r\nQ 2750 1225 2750 900 \r\nz\r\n\" id=\"SimHei-73\" transform=\"scale(0.015625)\"/>\r\n       </defs>\r\n       <use xlink:href=\"#SimHei-5176\"/>\r\n       <use x=\"100\" xlink:href=\"#SimHei-4ed6\"/>\r\n       <use x=\"200\" xlink:href=\"#SimHei-3a\"/>\r\n       <use x=\"250\" xlink:href=\"#SimHei-20\"/>\r\n       <use x=\"300\" xlink:href=\"#SimHei-50\"/>\r\n       <use x=\"350\" xlink:href=\"#SimHei-61\"/>\r\n       <use x=\"400\" xlink:href=\"#SimHei-73\"/>\r\n       <use x=\"450\" xlink:href=\"#SimHei-63\"/>\r\n       <use x=\"500\" xlink:href=\"#SimHei-6c\"/>\r\n      </g>\r\n     </g>\r\n    </g>\r\n    <g id=\"xtick_11\">\r\n     <g id=\"line2d_11\">\r\n      <g>\r\n       <use style=\"stroke:#000000;stroke-width:0.8;\" x=\"320.772441\" xlink:href=\"#mac534243d4\" y=\"240.343125\"/>\r\n      </g>\r\n     </g>\r\n     <g id=\"text_11\">\r\n      <!-- 其他 -->\r\n      <g transform=\"translate(324.073222 267.343125)rotate(-90)scale(0.1 -0.1)\">\r\n       <use xlink:href=\"#SimHei-5176\"/>\r\n       <use x=\"100\" xlink:href=\"#SimHei-4ed6\"/>\r\n      </g>\r\n     </g>\r\n    </g>\r\n    <g id=\"xtick_12\">\r\n     <g id=\"line2d_12\">\r\n      <g>\r\n       <use style=\"stroke:#000000;stroke-width:0.8;\" x=\"346.565969\" xlink:href=\"#mac534243d4\" y=\"240.343125\"/>\r\n      </g>\r\n     </g>\r\n     <g id=\"text_12\">\r\n      <!-- 其他: basic -->\r\n      <g transform=\"translate(349.866751 302.343125)rotate(-90)scale(0.1 -0.1)\">\r\n       <use xlink:href=\"#SimHei-5176\"/>\r\n       <use x=\"100\" xlink:href=\"#SimHei-4ed6\"/>\r\n       <use x=\"200\" xlink:href=\"#SimHei-3a\"/>\r\n       <use x=\"250\" xlink:href=\"#SimHei-20\"/>\r\n       <use x=\"300\" xlink:href=\"#SimHei-62\"/>\r\n       <use x=\"350\" xlink:href=\"#SimHei-61\"/>\r\n       <use x=\"400\" xlink:href=\"#SimHei-73\"/>\r\n       <use x=\"450\" xlink:href=\"#SimHei-69\"/>\r\n       <use x=\"500\" xlink:href=\"#SimHei-63\"/>\r\n      </g>\r\n     </g>\r\n    </g>\r\n    <g id=\"text_13\">\r\n     <!-- 语言 -->\r\n     <g transform=\"translate(194.701563 319.272813)scale(0.1 -0.1)\">\r\n      <defs>\r\n       <path d=\"M 5100 5050 \r\nQ 5500 5050 5875 5075 \r\nL 5875 4675 \r\nQ 5500 4700 4125 4700 \r\nL 4000 3975 \r\nL 5550 3975 \r\nL 5400 2600 \r\nQ 5775 2600 6150 2625 \r\nL 6150 2200 \r\nQ 5825 2225 5600 2225 \r\nL 3000 2225 \r\nQ 2550 2225 2075 2200 \r\nL 2075 2625 \r\nQ 2425 2600 3200 2600 \r\nL 3400 3625 \r\nQ 2900 3625 2450 3575 \r\nL 2450 4025 \r\nQ 2975 4000 3525 4000 \r\nL 3625 4700 \r\nQ 2725 4700 2250 4675 \r\nL 2250 5075 \r\nQ 2700 5050 3200 5050 \r\nL 5100 5050 \r\nz\r\nM 5600 1650 \r\nQ 5575 1350 5575 925 \r\nL 5575 75 \r\nQ 5575 -300 5600 -625 \r\nL 5100 -625 \r\nL 5100 -250 \r\nL 3200 -250 \r\nL 3200 -650 \r\nL 2700 -650 \r\nQ 2725 -325 2725 25 \r\nL 2725 800 \r\nQ 2725 1350 2700 1650 \r\nL 5600 1650 \r\nz\r\nM 2050 1400 \r\nQ 2175 1200 2375 925 \r\nQ 2050 600 1812 312 \r\nQ 1575 25 1275 -425 \r\nQ 1100 -225 825 -25 \r\nQ 975 125 1062 250 \r\nQ 1150 375 1150 650 \r\nL 1150 2875 \r\nL 925 2875 \r\nQ 600 2875 225 2850 \r\nL 225 3325 \r\nQ 575 3300 925 3300 \r\nL 1650 3300 \r\nQ 1625 2800 1625 2275 \r\nL 1625 825 \r\nQ 1900 1150 2050 1400 \r\nz\r\nM 5100 150 \r\nL 5100 1225 \r\nL 3200 1225 \r\nL 3200 150 \r\nL 5100 150 \r\nz\r\nM 4850 2600 \r\nL 5000 3600 \r\nL 3900 3600 \r\nL 3700 2600 \r\nL 4850 2600 \r\nz\r\nM 1425 3975 \r\nQ 1000 4575 725 4825 \r\nQ 875 5000 1075 5150 \r\nQ 1300 4900 1800 4300 \r\nQ 1600 4150 1425 3975 \r\nz\r\n\" id=\"SimHei-8bed\" transform=\"scale(0.015625)\"/>\r\n       <path d=\"M 5150 1500 \r\nQ 5125 1000 5125 475 \r\nQ 5125 -50 5150 -575 \r\nL 4625 -575 \r\nL 4625 -175 \r\nL 1725 -175 \r\nL 1725 -575 \r\nL 1225 -575 \r\nQ 1250 -75 1250 450 \r\nQ 1250 975 1225 1500 \r\nL 5150 1500 \r\nz\r\nM 4625 225 \r\nL 4625 1125 \r\nL 1725 1125 \r\nL 1725 225 \r\nL 4625 225 \r\nz\r\nM 3125 5225 \r\nQ 3325 4800 3450 4425 \r\nL 4925 4425 \r\nQ 5325 4425 5850 4450 \r\nL 5850 4000 \r\nQ 5325 4025 5075 4025 \r\nL 1425 4025 \r\nQ 1050 4025 500 4000 \r\nL 500 4450 \r\nQ 1050 4425 1275 4425 \r\nL 2875 4425 \r\nQ 2825 4650 2600 5050 \r\nQ 2825 5075 3125 5225 \r\nz\r\nM 4300 3425 \r\nQ 4625 3425 5125 3450 \r\nL 5125 3000 \r\nQ 4650 3050 4300 3050 \r\nL 2000 3050 \r\nQ 1650 3050 1200 3025 \r\nL 1200 3450 \r\nQ 1650 3425 2000 3425 \r\nL 4300 3425 \r\nz\r\nM 4275 2450 \r\nQ 4625 2450 5100 2475 \r\nL 5100 2050 \r\nQ 4625 2075 4250 2075 \r\nL 2100 2075 \r\nQ 1725 2075 1175 2050 \r\nL 1175 2475 \r\nQ 1725 2450 2100 2450 \r\nL 4275 2450 \r\nz\r\n\" id=\"SimHei-8a00\" transform=\"scale(0.015625)\"/>\r\n      </defs>\r\n      <use xlink:href=\"#SimHei-8bed\"/>\r\n      <use x=\"100\" xlink:href=\"#SimHei-8a00\"/>\r\n     </g>\r\n    </g>\r\n   </g>\r\n   <g id=\"matplotlib.axis_2\">\r\n    <g id=\"ytick_1\">\r\n     <g id=\"line2d_13\">\r\n      <defs>\r\n       <path d=\"M 0 0 \r\nL -3.5 0 \r\n\" id=\"mdc703f7e1f\" style=\"stroke:#000000;stroke-width:0.8;\"/>\r\n      </defs>\r\n      <g>\r\n       <use style=\"stroke:#000000;stroke-width:0.8;\" x=\"37.301563\" xlink:href=\"#mdc703f7e1f\" y=\"240.343125\"/>\r\n      </g>\r\n     </g>\r\n     <g id=\"text_14\">\r\n      <!-- 0 -->\r\n      <g transform=\"translate(25.301563 243.780625)scale(0.1 -0.1)\">\r\n       <defs>\r\n        <path d=\"M 225 2537 \r\nQ 250 3200 412 3587 \r\nQ 575 3975 875 4225 \r\nQ 1175 4475 1612 4475 \r\nQ 2050 4475 2375 4112 \r\nQ 2700 3750 2800 3200 \r\nQ 2900 2650 2862 1937 \r\nQ 2825 1225 2612 775 \r\nQ 2400 325 1975 150 \r\nQ 1550 -25 1125 187 \r\nQ 700 400 525 750 \r\nQ 350 1100 275 1487 \r\nQ 200 1875 225 2537 \r\nz\r\nM 750 2687 \r\nQ 675 2000 800 1462 \r\nQ 925 925 1212 700 \r\nQ 1500 475 1800 612 \r\nQ 2100 750 2237 1162 \r\nQ 2375 1575 2375 2062 \r\nQ 2375 2550 2337 2950 \r\nQ 2300 3350 2112 3675 \r\nQ 1925 4000 1612 4012 \r\nQ 1300 4025 1062 3700 \r\nQ 825 3375 750 2687 \r\nz\r\n\" id=\"SimHei-30\" transform=\"scale(0.015625)\"/>\r\n       </defs>\r\n       <use xlink:href=\"#SimHei-30\"/>\r\n      </g>\r\n     </g>\r\n    </g>\r\n    <g id=\"ytick_2\">\r\n     <g id=\"line2d_14\">\r\n      <g>\r\n       <use style=\"stroke:#000000;stroke-width:0.8;\" x=\"37.301563\" xlink:href=\"#mdc703f7e1f\" y=\"200.518949\"/>\r\n      </g>\r\n     </g>\r\n     <g id=\"text_15\">\r\n      <!-- 5 -->\r\n      <g transform=\"translate(25.301563 203.956449)scale(0.1 -0.1)\">\r\n       <defs>\r\n        <path d=\"M 550 1325 \r\nQ 725 650 1150 575 \r\nQ 1575 500 1837 662 \r\nQ 2100 825 2212 1087 \r\nQ 2325 1350 2312 1675 \r\nQ 2300 2000 2137 2225 \r\nQ 1975 2450 1725 2525 \r\nQ 1475 2600 1162 2525 \r\nQ 850 2450 650 2175 \r\nL 225 2225 \r\nQ 275 2375 700 4375 \r\nL 2675 4375 \r\nL 2675 3925 \r\nL 1075 3925 \r\nQ 950 3250 825 2850 \r\nQ 1200 3025 1525 3012 \r\nQ 1850 3000 2150 2862 \r\nQ 2450 2725 2587 2487 \r\nQ 2725 2250 2787 2012 \r\nQ 2850 1775 2837 1500 \r\nQ 2825 1225 2725 937 \r\nQ 2625 650 2425 462 \r\nQ 2225 275 1937 162 \r\nQ 1650 50 1275 75 \r\nQ 900 100 562 350 \r\nQ 225 600 100 1200 \r\nL 550 1325 \r\nz\r\n\" id=\"SimHei-35\" transform=\"scale(0.015625)\"/>\r\n       </defs>\r\n       <use xlink:href=\"#SimHei-35\"/>\r\n      </g>\r\n     </g>\r\n    </g>\r\n    <g id=\"ytick_3\">\r\n     <g id=\"line2d_15\">\r\n      <g>\r\n       <use style=\"stroke:#000000;stroke-width:0.8;\" x=\"37.301563\" xlink:href=\"#mdc703f7e1f\" y=\"160.694773\"/>\r\n      </g>\r\n     </g>\r\n     <g id=\"text_16\">\r\n      <!-- 10 -->\r\n      <g transform=\"translate(20.301563 164.132273)scale(0.1 -0.1)\">\r\n       <defs>\r\n        <path d=\"M 1400 3600 \r\nQ 1075 3275 575 2975 \r\nL 575 3450 \r\nQ 1200 3875 1600 4450 \r\nL 1900 4450 \r\nL 1900 150 \r\nL 1400 150 \r\nL 1400 3600 \r\nz\r\n\" id=\"SimHei-31\" transform=\"scale(0.015625)\"/>\r\n       </defs>\r\n       <use xlink:href=\"#SimHei-31\"/>\r\n       <use x=\"50\" xlink:href=\"#SimHei-30\"/>\r\n      </g>\r\n     </g>\r\n    </g>\r\n    <g id=\"ytick_4\">\r\n     <g id=\"line2d_16\">\r\n      <g>\r\n       <use style=\"stroke:#000000;stroke-width:0.8;\" x=\"37.301563\" xlink:href=\"#mdc703f7e1f\" y=\"120.870598\"/>\r\n      </g>\r\n     </g>\r\n     <g id=\"text_17\">\r\n      <!-- 15 -->\r\n      <g transform=\"translate(20.301563 124.308098)scale(0.1 -0.1)\">\r\n       <use xlink:href=\"#SimHei-31\"/>\r\n       <use x=\"50\" xlink:href=\"#SimHei-35\"/>\r\n      </g>\r\n     </g>\r\n    </g>\r\n    <g id=\"ytick_5\">\r\n     <g id=\"line2d_17\">\r\n      <g>\r\n       <use style=\"stroke:#000000;stroke-width:0.8;\" x=\"37.301563\" xlink:href=\"#mdc703f7e1f\" y=\"81.046422\"/>\r\n      </g>\r\n     </g>\r\n     <g id=\"text_18\">\r\n      <!-- 20 -->\r\n      <g transform=\"translate(20.301563 84.483922)scale(0.1 -0.1)\">\r\n       <defs>\r\n        <path d=\"M 300 250 \r\nQ 325 625 650 925 \r\nQ 975 1225 1475 1862 \r\nQ 1975 2500 2125 2850 \r\nQ 2275 3200 2237 3450 \r\nQ 2200 3700 2000 3862 \r\nQ 1800 4025 1537 4000 \r\nQ 1275 3975 1037 3800 \r\nQ 800 3625 675 3275 \r\nL 200 3350 \r\nQ 400 3925 712 4187 \r\nQ 1025 4450 1450 4475 \r\nQ 1700 4500 1900 4462 \r\nQ 2100 4425 2312 4287 \r\nQ 2525 4150 2662 3875 \r\nQ 2800 3600 2762 3212 \r\nQ 2725 2825 2375 2287 \r\nQ 2025 1750 1025 600 \r\nL 2825 600 \r\nL 2825 150 \r\nL 300 150 \r\nL 300 250 \r\nz\r\n\" id=\"SimHei-32\" transform=\"scale(0.015625)\"/>\r\n       </defs>\r\n       <use xlink:href=\"#SimHei-32\"/>\r\n       <use x=\"50\" xlink:href=\"#SimHei-30\"/>\r\n      </g>\r\n     </g>\r\n    </g>\r\n    <g id=\"ytick_6\">\r\n     <g id=\"line2d_18\">\r\n      <g>\r\n       <use style=\"stroke:#000000;stroke-width:0.8;\" x=\"37.301563\" xlink:href=\"#mdc703f7e1f\" y=\"41.222246\"/>\r\n      </g>\r\n     </g>\r\n     <g id=\"text_19\">\r\n      <!-- 25 -->\r\n      <g transform=\"translate(20.301563 44.659746)scale(0.1 -0.1)\">\r\n       <use xlink:href=\"#SimHei-32\"/>\r\n       <use x=\"50\" xlink:href=\"#SimHei-35\"/>\r\n      </g>\r\n     </g>\r\n    </g>\r\n    <g id=\"text_20\">\r\n     <!-- 人数 -->\r\n     <g transform=\"translate(15.051563 141.623125)rotate(-90)scale(0.1 -0.1)\">\r\n      <defs>\r\n       <path d=\"M 350 -150 \r\nQ 1325 325 1875 1025 \r\nQ 2425 1725 2637 2462 \r\nQ 2850 3200 2875 3837 \r\nQ 2900 4475 2850 5175 \r\nQ 3125 5150 3475 5125 \r\nQ 3400 4725 3400 4300 \r\nQ 3400 3875 3450 3325 \r\nQ 3500 2775 4162 1662 \r\nQ 4825 550 6100 0 \r\nQ 5800 -300 5700 -500 \r\nQ 3950 350 3200 2575 \r\nQ 2700 600 775 -575 \r\nQ 625 -375 350 -150 \r\nz\r\n\" id=\"SimHei-4eba\" transform=\"scale(0.015625)\"/>\r\n       <path d=\"M 4525 4925 \r\nQ 4475 4800 4400 4587 \r\nQ 4325 4375 4175 3825 \r\nL 5325 3825 \r\nQ 5575 3825 5925 3850 \r\nL 5925 3400 \r\nQ 5650 3425 5500 3425 \r\nQ 5500 3025 5362 2162 \r\nQ 5225 1300 4875 675 \r\nQ 5125 375 5437 137 \r\nQ 5750 -100 6025 -200 \r\nQ 5725 -425 5625 -625 \r\nQ 5325 -450 5075 -225 \r\nQ 4825 0 4575 325 \r\nQ 4300 25 3987 -187 \r\nQ 3675 -400 3200 -650 \r\nQ 3075 -425 2850 -300 \r\nQ 3225 -150 3650 125 \r\nQ 4075 400 4300 675 \r\nQ 4125 1025 3962 1425 \r\nQ 3800 1825 3675 2475 \r\nQ 3600 2275 3425 1950 \r\nQ 3250 2050 3000 2150 \r\nQ 3400 2850 3650 3675 \r\nQ 3900 4500 3975 5100 \r\nQ 4275 4975 4525 4925 \r\nz\r\nM 2100 2250 \r\nQ 2000 2150 1875 1925 \r\nL 3250 1925 \r\nQ 3100 1300 2725 675 \r\nQ 3125 525 3350 400 \r\nQ 3225 225 3125 25 \r\nQ 2900 175 2450 325 \r\nQ 1950 -225 725 -650 \r\nQ 600 -375 400 -275 \r\nQ 1575 0 2000 475 \r\nQ 1300 650 850 775 \r\nQ 1000 1000 1250 1525 \r\nQ 1000 1525 425 1500 \r\nL 425 1950 \r\nQ 900 1925 1400 1925 \r\nQ 1500 2150 1550 2425 \r\nQ 1825 2325 2100 2250 \r\nz\r\nM 1775 3950 \r\nQ 1775 4550 1750 5100 \r\nL 2250 5100 \r\nQ 2225 4575 2225 3950 \r\nQ 3075 3950 3425 3975 \r\nL 3425 3525 \r\nQ 3075 3550 2225 3550 \r\nQ 2225 2825 2250 2425 \r\nL 1750 2425 \r\nQ 1775 2775 1775 3300 \r\nQ 1650 3100 1300 2787 \r\nQ 950 2475 650 2300 \r\nQ 525 2525 275 2625 \r\nQ 500 2700 875 2975 \r\nQ 1250 3250 1450 3550 \r\nQ 950 3550 500 3525 \r\nL 500 3975 \r\nQ 925 3950 1775 3950 \r\nz\r\nM 3975 3175 \r\nQ 4200 1700 4600 1125 \r\nQ 4850 1700 4937 2287 \r\nQ 5025 2875 5050 3425 \r\nL 4075 3425 \r\nL 3975 3175 \r\nz\r\nM 1450 1000 \r\nQ 1750 925 2275 800 \r\nQ 2475 1050 2650 1525 \r\nL 1725 1525 \r\nQ 1600 1275 1450 1000 \r\nz\r\nM 3325 4825 \r\nQ 3200 4625 3125 4450 \r\nQ 3050 4275 2925 4025 \r\nQ 2725 4125 2525 4175 \r\nQ 2725 4500 2900 5000 \r\nQ 3150 4875 3325 4825 \r\nz\r\nM 2575 3375 \r\nQ 2900 3050 3200 2725 \r\nQ 3050 2600 2875 2425 \r\nQ 2525 2850 2300 3100 \r\nQ 2450 3225 2575 3375 \r\nz\r\nM 925 5000 \r\nQ 1275 4650 1500 4300 \r\nL 1125 4075 \r\nQ 950 4425 600 4725 \r\nQ 825 4875 925 5000 \r\nz\r\n\" id=\"SimHei-6570\" transform=\"scale(0.015625)\"/>\r\n      </defs>\r\n      <use xlink:href=\"#SimHei-4eba\"/>\r\n      <use x=\"100\" xlink:href=\"#SimHei-6570\"/>\r\n     </g>\r\n    </g>\r\n   </g>\r\n   <g id=\"patch_15\">\r\n    <path d=\"M 37.301563 240.343125 \r\nL 37.301563 22.903125 \r\n\" style=\"fill:none;stroke:#000000;stroke-linecap:square;stroke-linejoin:miter;stroke-width:0.8;\"/>\r\n   </g>\r\n   <g id=\"patch_16\">\r\n    <path d=\"M 372.101562 240.343125 \r\nL 372.101562 22.903125 \r\n\" style=\"fill:none;stroke:#000000;stroke-linecap:square;stroke-linejoin:miter;stroke-width:0.8;\"/>\r\n   </g>\r\n   <g id=\"patch_17\">\r\n    <path d=\"M 37.301563 240.343125 \r\nL 372.101562 240.343125 \r\n\" style=\"fill:none;stroke:#000000;stroke-linecap:square;stroke-linejoin:miter;stroke-width:0.8;\"/>\r\n   </g>\r\n   <g id=\"patch_18\">\r\n    <path d=\"M 37.301563 22.903125 \r\nL 372.101562 22.903125 \r\n\" style=\"fill:none;stroke:#000000;stroke-linecap:square;stroke-linejoin:miter;stroke-width:0.8;\"/>\r\n   </g>\r\n   <g id=\"text_21\">\r\n    <!-- 对语言的了解程度 -->\r\n    <g transform=\"translate(156.701563 16.903125)scale(0.12 -0.12)\">\r\n     <defs>\r\n      <path d=\"M 525 4250 \r\nQ 900 4225 1400 4225 \r\nL 2825 4225 \r\nQ 2575 2625 2200 1750 \r\nQ 2825 875 3125 400 \r\nQ 2950 275 2725 75 \r\nQ 2200 975 1950 1300 \r\nQ 1650 775 1350 425 \r\nQ 1050 75 600 -350 \r\nQ 425 -125 200 -25 \r\nQ 625 275 975 675 \r\nQ 1325 1075 1650 1700 \r\nQ 1050 2425 550 2900 \r\nQ 700 3025 900 3225 \r\nQ 1625 2425 1875 2150 \r\nQ 2200 3050 2300 3825 \r\nL 1400 3825 \r\nQ 900 3825 525 3800 \r\nL 525 4250 \r\nz\r\nM 2925 3700 \r\nQ 3525 3675 3750 3675 \r\nL 4825 3675 \r\nL 4825 4425 \r\nQ 4825 4750 4775 5125 \r\nL 5350 5125 \r\nQ 5325 4825 5325 4375 \r\nL 5325 3675 \r\nQ 5575 3675 6150 3700 \r\nL 6150 3250 \r\nQ 5575 3275 5325 3275 \r\nL 5325 125 \r\nQ 5350 -350 5012 -475 \r\nQ 4675 -600 4250 -650 \r\nQ 4175 -350 4025 -100 \r\nQ 4575 -100 4712 -37 \r\nQ 4850 25 4825 325 \r\nL 4825 3275 \r\nL 3775 3275 \r\nQ 3550 3275 2925 3225 \r\nL 2925 3700 \r\nz\r\nM 3450 2725 \r\nQ 3875 1975 4175 1325 \r\nQ 3850 1200 3700 1075 \r\nQ 3475 1750 3050 2475 \r\nQ 3225 2550 3450 2725 \r\nz\r\n\" id=\"SimHei-5bf9\" transform=\"scale(0.015625)\"/>\r\n      <path d=\"M 2100 4975 \r\nQ 1975 4750 1750 3950 \r\nL 2875 3950 \r\nQ 2850 3525 2850 2875 \r\nL 2850 675 \r\nQ 2850 300 2875 -400 \r\nL 2375 -400 \r\nL 2375 100 \r\nL 1100 100 \r\nL 1100 -450 \r\nL 600 -450 \r\nQ 625 350 625 550 \r\nL 625 2850 \r\nQ 625 3525 600 3950 \r\nL 1325 3950 \r\nQ 1450 4525 1525 5150 \r\nQ 1875 5025 2100 4975 \r\nz\r\nM 5825 3075 \r\nQ 5800 1550 5700 175 \r\nQ 5650 -275 5225 -425 \r\nQ 4800 -575 4275 -625 \r\nQ 4250 -350 4050 -50 \r\nQ 4550 -75 4837 -25 \r\nQ 5125 25 5200 200 \r\nQ 5275 375 5312 1225 \r\nQ 5350 2075 5375 3600 \r\nL 3925 3600 \r\nQ 3725 3125 3350 2475 \r\nQ 3175 2650 2925 2750 \r\nQ 3150 3050 3350 3475 \r\nQ 3550 3900 3700 4400 \r\nQ 3850 4900 3875 5175 \r\nQ 4225 5025 4475 4950 \r\nQ 4350 4750 4262 4512 \r\nQ 4175 4275 4075 4050 \r\nL 5850 4050 \r\nQ 5825 3525 5825 3075 \r\nz\r\nM 2375 525 \r\nL 2375 1850 \r\nL 1100 1850 \r\nL 1100 525 \r\nL 2375 525 \r\nz\r\nM 2375 2275 \r\nL 2375 3525 \r\nL 1100 3525 \r\nL 1100 2275 \r\nL 2375 2275 \r\nz\r\nM 4350 2050 \r\nQ 4500 1750 4700 1275 \r\nQ 4525 1200 4225 1025 \r\nQ 4050 1500 3900 1837 \r\nQ 3750 2175 3600 2400 \r\nQ 3775 2500 4050 2650 \r\nL 4350 2050 \r\nz\r\n\" id=\"SimHei-7684\" transform=\"scale(0.015625)\"/>\r\n      <path d=\"M 5600 4800 \r\nL 5600 4250 \r\nQ 5325 4150 4575 3650 \r\nQ 3825 3150 3500 2900 \r\nL 3500 50 \r\nQ 3475 -375 3062 -487 \r\nQ 2650 -600 2225 -650 \r\nQ 2100 -125 1975 50 \r\nQ 2600 25 2775 62 \r\nQ 2950 100 2950 400 \r\nL 2950 2400 \r\nQ 2950 2975 2875 3200 \r\nQ 3300 3375 4725 4350 \r\nL 2075 4350 \r\nQ 1475 4325 925 4325 \r\nL 925 4825 \r\nQ 1475 4800 1825 4800 \r\nL 5600 4800 \r\nz\r\n\" id=\"SimHei-4e86\" transform=\"scale(0.015625)\"/>\r\n      <path d=\"M 1925 5025 \r\nQ 1725 4925 1625 4575 \r\nL 2925 4575 \r\nQ 2800 4400 2600 4100 \r\nQ 2400 3800 2325 3650 \r\nL 3225 3650 \r\nQ 3175 3150 3175 2650 \r\nL 3175 75 \r\nQ 3175 -225 3012 -312 \r\nQ 2850 -400 2500 -450 \r\nQ 2450 -175 2350 75 \r\nQ 2550 75 2650 87 \r\nQ 2750 100 2750 325 \r\nL 2750 1150 \r\nL 2225 1150 \r\nL 2225 -25 \r\nL 1800 -25 \r\nL 1800 1150 \r\nL 1275 1150 \r\nQ 1250 775 1150 375 \r\nQ 1050 -25 825 -500 \r\nQ 600 -375 350 -250 \r\nQ 600 100 725 612 \r\nQ 850 1125 875 1925 \r\nQ 900 2725 875 3525 \r\nQ 675 3300 550 3175 \r\nQ 400 3375 200 3525 \r\nQ 575 3825 887 4262 \r\nQ 1200 4700 1400 5300 \r\nQ 1600 5175 1925 5025 \r\nz\r\nM 4325 2425 \r\nQ 4200 2325 4150 2125 \r\nL 4575 2125 \r\nQ 4575 2650 4550 2825 \r\nL 5050 2825 \r\nQ 5000 2600 5000 2125 \r\nL 5350 2125 \r\nQ 5725 2125 5950 2150 \r\nL 5950 1700 \r\nQ 5625 1750 5300 1750 \r\nL 5000 1750 \r\nL 5000 1025 \r\nL 5175 1025 \r\nQ 5650 1025 6150 1050 \r\nL 6150 625 \r\nQ 5675 650 5175 650 \r\nL 5000 650 \r\nL 5000 225 \r\nQ 5000 -125 5025 -650 \r\nL 4550 -650 \r\nQ 4575 -125 4575 225 \r\nL 4575 650 \r\nL 4025 650 \r\nQ 3750 650 3325 625 \r\nL 3325 1050 \r\nQ 3700 1025 4025 1025 \r\nL 4575 1025 \r\nL 4575 1750 \r\nL 3950 1750 \r\nQ 3875 1550 3725 1250 \r\nQ 3550 1350 3325 1525 \r\nQ 3500 1725 3625 2050 \r\nQ 3750 2375 3825 2675 \r\nL 4325 2425 \r\nz\r\nM 4900 2975 \r\nQ 4850 3250 4725 3500 \r\nQ 5000 3500 5162 3525 \r\nQ 5325 3550 5350 3675 \r\nQ 5375 3800 5425 4550 \r\nL 4525 4550 \r\nQ 4375 3850 4225 3537 \r\nQ 4075 3225 3750 2850 \r\nQ 3600 3050 3350 3225 \r\nQ 3625 3425 3800 3737 \r\nQ 3975 4050 4050 4550 \r\nQ 3750 4550 3325 4525 \r\nL 3325 4950 \r\nQ 3725 4925 4050 4925 \r\nL 5925 4925 \r\nQ 5850 3700 5787 3450 \r\nQ 5725 3200 5475 3100 \r\nQ 5225 3000 4900 2975 \r\nz\r\nM 1825 3650 \r\nQ 2025 3900 2175 4200 \r\nL 1375 4200 \r\nQ 1150 3900 975 3650 \r\nL 1825 3650 \r\nz\r\nM 2750 1550 \r\nL 2750 2225 \r\nL 2225 2225 \r\nL 2225 1550 \r\nL 2750 1550 \r\nz\r\nM 2750 2600 \r\nL 2750 3275 \r\nL 2225 3275 \r\nL 2225 2600 \r\nL 2750 2600 \r\nz\r\nM 1800 1550 \r\nL 1800 2225 \r\nL 1325 2225 \r\nL 1300 1550 \r\nL 1800 1550 \r\nz\r\nM 1800 2600 \r\nL 1800 3275 \r\nL 1325 3275 \r\nL 1325 2600 \r\nL 1800 2600 \r\nz\r\n\" id=\"SimHei-89e3\" transform=\"scale(0.015625)\"/>\r\n      <path d=\"M 5825 4975 \r\nQ 5800 4425 5800 3975 \r\nQ 5800 3550 5825 3125 \r\nL 3025 3125 \r\nQ 3050 3600 3050 4025 \r\nQ 3050 4450 3025 4975 \r\nL 5825 4975 \r\nz\r\nM 400 4825 \r\nQ 825 4875 1362 4987 \r\nQ 1900 5100 2275 5275 \r\nQ 2450 4950 2625 4725 \r\nQ 2450 4750 2262 4712 \r\nQ 2075 4675 1850 4650 \r\nL 1850 3425 \r\nQ 2200 3425 2600 3450 \r\nL 2600 2975 \r\nQ 2200 3000 1850 3000 \r\nL 1850 800 \r\nQ 1850 250 1875 -675 \r\nL 1375 -675 \r\nQ 1400 250 1400 775 \r\nL 1400 1925 \r\nQ 1050 1225 625 600 \r\nQ 450 850 225 1050 \r\nQ 575 1400 850 1850 \r\nQ 1125 2300 1350 3000 \r\nQ 725 3000 425 2975 \r\nL 425 3450 \r\nQ 850 3425 1050 3425 \r\nL 1400 3425 \r\nL 1400 4550 \r\nQ 1075 4475 575 4400 \r\nQ 500 4625 400 4825 \r\nz\r\nM 5100 2500 \r\nQ 5500 2500 5950 2525 \r\nL 5950 2075 \r\nQ 5500 2100 5100 2100 \r\nL 4625 2100 \r\nL 4625 1300 \r\nL 4900 1300 \r\nQ 5275 1300 5775 1325 \r\nL 5775 850 \r\nQ 5275 875 4975 875 \r\nL 4625 875 \r\nL 4625 0 \r\nL 5225 0 \r\nQ 5675 0 6175 25 \r\nL 6175 -450 \r\nQ 5775 -425 5225 -425 \r\nL 3550 -425 \r\nQ 3000 -425 2600 -475 \r\nL 2600 25 \r\nQ 3000 0 3550 0 \r\nL 4150 0 \r\nL 4150 875 \r\nL 3800 875 \r\nQ 3400 875 3050 825 \r\nL 3050 1325 \r\nQ 3400 1300 3800 1300 \r\nL 4150 1300 \r\nL 4150 2100 \r\nL 3750 2100 \r\nQ 3300 2100 2900 2075 \r\nL 2900 2525 \r\nQ 3300 2500 3750 2500 \r\nL 5100 2500 \r\nz\r\nM 5275 3575 \r\nL 5275 4550 \r\nL 3500 4550 \r\nL 3500 3575 \r\nL 5275 3575 \r\nz\r\nM 2300 2400 \r\nQ 2550 2025 2825 1525 \r\nQ 2675 1425 2425 1225 \r\nQ 2175 1775 1925 2125 \r\nQ 2075 2250 2300 2400 \r\nz\r\n\" id=\"SimHei-7a0b\" transform=\"scale(0.015625)\"/>\r\n      <path d=\"M 1750 1675 \r\nQ 2450 1650 2875 1650 \r\nL 5200 1650 \r\nQ 4975 1250 4650 850 \r\nQ 4325 450 4025 200 \r\nQ 4350 50 4950 -50 \r\nQ 5550 -150 6100 -150 \r\nQ 5950 -300 5825 -650 \r\nQ 5100 -550 4550 -412 \r\nQ 4000 -275 3625 -100 \r\nQ 3100 -325 2587 -462 \r\nQ 2075 -600 1525 -675 \r\nQ 1450 -475 1225 -250 \r\nQ 1675 -250 2250 -125 \r\nQ 2825 0 3250 200 \r\nQ 2825 550 2400 1275 \r\nL 1750 1250 \r\nL 1750 1675 \r\nz\r\nM 2975 5075 \r\nQ 3250 5150 3475 5250 \r\nQ 3625 4975 3775 4525 \r\nL 4700 4525 \r\nQ 4975 4525 5700 4550 \r\nL 5700 4100 \r\nQ 5000 4125 4650 4125 \r\nL 1375 4125 \r\nQ 1375 3000 1350 2312 \r\nQ 1325 1625 1212 950 \r\nQ 1100 275 725 -525 \r\nQ 500 -375 250 -300 \r\nQ 650 400 762 1075 \r\nQ 875 1750 887 2800 \r\nQ 900 3850 875 4525 \r\nL 3200 4525 \r\nQ 3100 4850 2975 5075 \r\nz\r\nM 2475 3300 \r\nQ 2475 3700 2450 3925 \r\nL 2975 3925 \r\nQ 2950 3725 2950 3300 \r\nL 4300 3300 \r\nQ 4300 3700 4275 3950 \r\nL 4800 3950 \r\nQ 4775 3650 4775 3300 \r\nQ 5325 3300 5725 3325 \r\nL 5725 2900 \r\nQ 5350 2925 4775 2925 \r\nQ 4775 2250 4800 1950 \r\nL 2450 1950 \r\nQ 2475 2350 2475 2925 \r\nQ 2175 2925 1600 2900 \r\nL 1600 3325 \r\nQ 2175 3300 2475 3300 \r\nz\r\nM 4300 2350 \r\nL 4300 2925 \r\nL 2950 2925 \r\nL 2950 2350 \r\nL 4300 2350 \r\nz\r\nM 2875 1275 \r\nQ 3200 775 3650 425 \r\nQ 4025 700 4425 1275 \r\nL 2900 1275 \r\nL 2875 1275 \r\nz\r\n\" id=\"SimHei-5ea6\" transform=\"scale(0.015625)\"/>\r\n     </defs>\r\n     <use xlink:href=\"#SimHei-5bf9\"/>\r\n     <use x=\"100\" xlink:href=\"#SimHei-8bed\"/>\r\n     <use x=\"200\" xlink:href=\"#SimHei-8a00\"/>\r\n     <use x=\"300\" xlink:href=\"#SimHei-7684\"/>\r\n     <use x=\"400\" xlink:href=\"#SimHei-4e86\"/>\r\n     <use x=\"500\" xlink:href=\"#SimHei-89e3\"/>\r\n     <use x=\"600\" xlink:href=\"#SimHei-7a0b\"/>\r\n     <use x=\"700\" xlink:href=\"#SimHei-5ea6\"/>\r\n    </g>\r\n   </g>\r\n  </g>\r\n </g>\r\n <defs>\r\n  <clipPath id=\"p86bb2ee6ed\">\r\n   <rect height=\"217.44\" width=\"334.8\" x=\"37.301563\" y=\"22.903125\"/>\r\n  </clipPath>\r\n </defs>\r\n</svg>\r\n",
      "text/plain": [
       "<Figure size 432x288 with 1 Axes>"
      ]
     },
     "metadata": {
      "needs_background": "light"
     },
     "output_type": "display_data"
    }
   ],
   "source": [
    "plt.bar(dict1.keys(), dict1.values()) # 标签 数值\n",
    "plt.title(\"对语言的了解程度\")\n",
    "plt.xlabel(\"语言\")\n",
    "plt.xticks(rotation=90) # 旋转标签防止重叠\n",
    "plt.ylabel(\"人数\")\n",
    "plt.show()"
   ]
  },
  {
   "cell_type": "code",
   "execution_count": null,
   "metadata": {},
   "outputs": [],
   "source": []
  }
 ],
 "metadata": {
  "interpreter": {
   "hash": "46921f6ee644f1069f0628836c8b8e5e2c528c0bccb1231c4087ff7b1c1dd168"
  },
  "kernelspec": {
   "display_name": "Python 3.9.5 64-bit ('Learnpython': conda)",
   "language": "python",
   "name": "python3"
  },
  "language_info": {
   "codemirror_mode": {
    "name": "ipython",
    "version": 3
   },
   "file_extension": ".py",
   "mimetype": "text/x-python",
   "name": "python",
   "nbconvert_exporter": "python",
   "pygments_lexer": "ipython3",
   "version": "3.10.0"
  },
  "orig_nbformat": 4
 },
 "nbformat": 4,
 "nbformat_minor": 2
}
