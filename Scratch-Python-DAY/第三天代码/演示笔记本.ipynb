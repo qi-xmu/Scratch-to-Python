{
 "cells": [
  {
   "cell_type": "markdown",
   "metadata": {},
   "source": [
    "# 简单的读取文件"
   ]
  },
  {
   "cell_type": "code",
   "execution_count": 1,
   "metadata": {
    "collapsed": true
   },
   "outputs": [
    {
     "ename": "FileNotFoundError",
     "evalue": "[Errno 2] No such file or directory: 'a.txt'",
     "output_type": "error",
     "traceback": [
      "\u001b[1;31m---------------------------------------------------------------------------\u001b[0m",
      "\u001b[1;31mFileNotFoundError\u001b[0m                         Traceback (most recent call last)",
      "\u001b[1;32m~\\AppData\\Local\\Temp/ipykernel_9788/1463339901.py\u001b[0m in \u001b[0;36m<module>\u001b[1;34m\u001b[0m\n\u001b[1;32m----> 1\u001b[1;33m \u001b[1;32mwith\u001b[0m \u001b[0mopen\u001b[0m\u001b[1;33m(\u001b[0m\u001b[1;34m\"a.txt\"\u001b[0m\u001b[1;33m,\u001b[0m \u001b[1;34m\"r\"\u001b[0m\u001b[1;33m,\u001b[0m \u001b[0mencoding\u001b[0m\u001b[1;33m=\u001b[0m\u001b[1;34m\"gbk\"\u001b[0m\u001b[1;33m)\u001b[0m \u001b[1;32mas\u001b[0m \u001b[0mf\u001b[0m\u001b[1;33m:\u001b[0m\u001b[1;33m\u001b[0m\u001b[1;33m\u001b[0m\u001b[0m\n\u001b[0m\u001b[0;32m      2\u001b[0m     \u001b[1;31m# 打印所有字符\u001b[0m\u001b[1;33m\u001b[0m\u001b[1;33m\u001b[0m\u001b[0m\n\u001b[0;32m      3\u001b[0m     \u001b[1;31m# print(f.read())\u001b[0m\u001b[1;33m\u001b[0m\u001b[1;33m\u001b[0m\u001b[0m\n\u001b[0;32m      4\u001b[0m \u001b[1;33m\u001b[0m\u001b[0m\n\u001b[0;32m      5\u001b[0m     \u001b[1;31m# 打印一行\u001b[0m\u001b[1;33m\u001b[0m\u001b[1;33m\u001b[0m\u001b[0m\n",
      "\u001b[1;31mFileNotFoundError\u001b[0m: [Errno 2] No such file or directory: 'a.txt'"
     ]
    }
   ],
   "source": [
    "with open(\"../2021.11.14/a.txt\", \"r\", encoding=\"gbk\") as f:\n",
    "    # 打印所有字符\n",
    "    # print(f.read())\n",
    "    \n",
    "    # 打印一行 \n",
    "    print(f.readline())\n",
    "    print(f.readline())\n",
    "    # 连续打印 问题：为什么会输出四行？\n",
    "    # 打印一个列表\n",
    "    # print(f.readlines())"
   ]
  },
  {
   "cell_type": "markdown",
   "metadata": {},
   "source": [
    "# 读取一个表格文件\n",
    "\n",
    "一共由两种方式：一是我们自己对文件进行解析，二是我们使用现有的模块，我们先介绍第一种方式。\n",
    "\n",
    "在第一种方式中，我们需要用到之前学到的列表和循环的知识，逐层解析出需要的数据。"
   ]
  },
  {
   "cell_type": "markdown",
   "metadata": {},
   "source": [
    "## 第一种方式"
   ]
  },
  {
   "cell_type": "markdown",
   "metadata": {},
   "source": [
    "### 第一步 读取文件"
   ]
  },
  {
   "cell_type": "code",
   "execution_count": 7,
   "metadata": {},
   "outputs": [
    {
     "name": "stdout",
     "output_type": "stream",
     "text": [
      "['学号,高数,英语,Python\\n', '1001,89,67,90\\n', '1002,67,98,91\\n', '1003,76,90,86\\n', '1004,97,91,89\\n', '1005,76,32,65\\n', '1006,44,89,54\\n', '1007,78,96,34\\n', '1008,67,78,76\\n', '1009,89,32,98\\n', '1010,65,43,65\\n', '1011,98,78,67\\n', '1012,12,98,76\\n', '1013,43,64,54\\n', '1014,98,34,76\\n', '1015,34,65,87\\n', '1016,21,76,76\\n', '1017,98,87,98\\n', '1018,99,54,56\\n', '1019,67,76,87\\n', '1020,78,65,71\\n', '1021,98,45,78\\n', '1022,56,98,90\\n', '1023,67,23,98\\n', '1024,69,67,69\\n', '1025,76,98,60\\n', '1026,74,34,59\\n', '1027,91,65,78\\n', '1028,94,98,90\\n', '1029,89,67,58\\n', '1030,67,98,88\\n']\n"
     ]
    }
   ],
   "source": [
    "# 第一种方式\n",
    "stu_sco_list = []\n",
    "with open(\"../student_score.csv\", \"r\", encoding=\"utf-8\") as f:\n",
    "    stu_sco_list = f.readlines()\n",
    "\n",
    "print(stu_sco_list)"
   ]
  },
  {
   "cell_type": "markdown",
   "metadata": {},
   "source": [
    "查看读取的结果，验证自己的读取是正确的。"
   ]
  },
  {
   "cell_type": "code",
   "execution_count": 16,
   "metadata": {},
   "outputs": [
    {
     "name": "stdout",
     "output_type": "stream",
     "text": [
      "1001,89,67,90\n",
      "1002,67,98,91\n",
      "1003,76,90,86\n",
      "1004,97,91,89\n"
     ]
    }
   ],
   "source": [
    "# 按照行进行输出前五行\n",
    "for i in range(1, 5): # 0 1 2 3 4 \n",
    "    print(stu_sco_list[i], end=\"\")"
   ]
  },
  {
   "cell_type": "code",
   "execution_count": 15,
   "metadata": {},
   "outputs": [
    {
     "name": "stdout",
     "output_type": "stream",
     "text": [
      "1001,89,67,90\n",
      "1002,67,98,91\n",
      "1003,76,90,86\n",
      "1004,97,91,89\n"
     ]
    }
   ],
   "source": [
    "for line in stu_sco_list[1:5]: # 0 / 1 2 3 4 / 5 6 7 8 \n",
    "    print(line, end=\"\")"
   ]
  },
  {
   "cell_type": "markdown",
   "metadata": {},
   "source": [
    "### 第二步 讲读取的str类型转化成int类型\n",
    "\n",
    "str类型的数据无法进行处理，所以我们需要将其转化成int，float类型进行处理，如果数据全是整数，就转化成int类型，不然就转换成float类型。"
   ]
  },
  {
   "cell_type": "code",
   "execution_count": 17,
   "metadata": {},
   "outputs": [
    {
     "name": "stdout",
     "output_type": "stream",
     "text": [
      "['1001', '89', '67', '90']\n",
      "<class 'str'>\n"
     ]
    }
   ],
   "source": [
    "line2 = stu_sco_list[1] # 取出第二行，第一行为表格头\n",
    "\n",
    "# 将数据进行切片\n",
    "line2_list = line2[:-1].split(\",\")\n",
    "print(line2_list)\n",
    "print(type(line2_list[1])) "
   ]
  },
  {
   "cell_type": "markdown",
   "metadata": {},
   "source": [
    "将所有的数据都进行类型转换"
   ]
  },
  {
   "cell_type": "code",
   "execution_count": 18,
   "metadata": {},
   "outputs": [
    {
     "name": "stdout",
     "output_type": "stream",
     "text": [
      "[1001, 89, 67, 90]\n",
      "<class 'int'>\n"
     ]
    }
   ],
   "source": [
    "for i in range(len(line2_list)):\n",
    "    line2_list[i] = int(line2_list[i]) # 类型转换 str -> int\n",
    "    \n",
    "print(line2_list)\n",
    "print(type(line2_list[1]))"
   ]
  },
  {
   "cell_type": "code",
   "execution_count": 19,
   "metadata": {},
   "outputs": [
    {
     "name": "stdout",
     "output_type": "stream",
     "text": [
      "['学号', '高数', '英语', 'Python']\n"
     ]
    }
   ],
   "source": [
    "# 对所有数据进行处理\n",
    "all_stu = [] # 建立一个存放所有学生成绩的总表\n",
    "tab_head = stu_sco_list[0][:-1].split(\",\") # 这是一个表头\n",
    "print(tab_head)"
   ]
  },
  {
   "cell_type": "markdown",
   "metadata": {},
   "source": [
    "将所有的数据放入到一个新的列表里"
   ]
  },
  {
   "cell_type": "code",
   "execution_count": 21,
   "metadata": {},
   "outputs": [
    {
     "name": "stdout",
     "output_type": "stream",
     "text": [
      "[[1001, 89, 67, 90], [1002, 67, 98, 91], [1003, 76, 90, 86], [1004, 97, 91, 89], [1005, 76, 32, 65], [1006, 44, 89, 54], [1007, 78, 96, 34], [1008, 67, 78, 76], [1009, 89, 32, 98], [1010, 65, 43, 65], [1011, 98, 78, 67], [1012, 12, 98, 76], [1013, 43, 64, 54], [1014, 98, 34, 76], [1015, 34, 65, 87], [1016, 21, 76, 76], [1017, 98, 87, 98], [1018, 99, 54, 56], [1019, 67, 76, 87], [1020, 78, 65, 71], [1021, 98, 45, 78], [1022, 56, 98, 90], [1023, 67, 23, 98], [1024, 69, 67, 69], [1025, 76, 98, 60], [1026, 74, 34, 59], [1027, 91, 65, 78], [1028, 94, 98, 90], [1029, 89, 67, 58], [1030, 67, 98, 88]]\n"
     ]
    }
   ],
   "source": [
    "for each in  stu_sco_list[1:]: # [1:] 不算表头\n",
    "    each = each[:-1].split(\",\")\n",
    "    for i in range(len(each)): # 0 1 2 ... n\n",
    "        each[i] = int(each[i])\n",
    "    all_stu.append(each)\n",
    "print(all_stu)"
   ]
  },
  {
   "cell_type": "markdown",
   "metadata": {},
   "source": [
    "这个时候我们就可以进行计算了， 我们首先计算一下各科的平均分"
   ]
  },
  {
   "cell_type": "code",
   "execution_count": 23,
   "metadata": {},
   "outputs": [
    {
     "data": {
      "text/plain": [
       "30"
      ]
     },
     "execution_count": 23,
     "metadata": {},
     "output_type": "execute_result"
    }
   ],
   "source": [
    "total_stu_num = len(all_stu) # 学生总数\n",
    "total_stu_num"
   ]
  },
  {
   "cell_type": "code",
   "execution_count": 24,
   "metadata": {},
   "outputs": [
    {
     "name": "stdout",
     "output_type": "stream",
     "text": [
      "[2177, 2106, 2264]\n",
      "30\n",
      "[72.56666666666666, 70.2, 75.46666666666667]\n"
     ]
    }
   ],
   "source": [
    "total_sco = [0] * 3 # 各个总分 [0, 0, 0]\n",
    "mean_sco = [0] * 3  # 存放平均分 [0, 0, 0]\n",
    "\n",
    "\n",
    "for i in range(3): # 0 1 2 \n",
    "    for one_stu in all_stu:\n",
    "        # total_sco[i] = total_sco[i] + one_stu[i+1]\n",
    "        total_sco[i] += one_stu[i+1]\n",
    "    \n",
    "    mean_sco[i] = total_sco[i] / total_stu_num\n",
    "\n",
    "print(total_sco)\n",
    "print(total_stu_num)\n",
    "print(mean_sco)"
   ]
  },
  {
   "cell_type": "markdown",
   "metadata": {},
   "source": [
    "## 第二种读取方式\n",
    "\n",
    "通过模块pandas读取。pandas是一个数据处理模块。"
   ]
  },
  {
   "cell_type": "code",
   "execution_count": 11,
   "metadata": {},
   "outputs": [
    {
     "name": "stdout",
     "output_type": "stream",
     "text": [
      "Looking in indexes: https://pypi.tuna.tsinghua.edu.cn/simple\n",
      "Requirement already satisfied: numpy in d:\\anaconda\\lib\\site-packages (1.19.2)\n",
      "Looking in indexes: https://pypi.tuna.tsinghua.edu.cn/simple\n",
      "Requirement already satisfied: pandas in d:\\anaconda\\lib\\site-packages (1.1.3)\n",
      "Requirement already satisfied: python-dateutil>=2.7.3 in d:\\anaconda\\lib\\site-packages (from pandas) (2.8.1)\n",
      "Requirement already satisfied: numpy>=1.15.4 in d:\\anaconda\\lib\\site-packages (from pandas) (1.19.2)\n",
      "Requirement already satisfied: pytz>=2017.2 in d:\\anaconda\\lib\\site-packages (from pandas) (2020.1)\n",
      "Requirement already satisfied: six>=1.5 in c:\\users\\36014\\appdata\\roaming\\python\\python38\\site-packages (from python-dateutil>=2.7.3->pandas) (1.16.0)\n"
     ]
    }
   ],
   "source": [
    "# 首先要安装pandas和numpy\n",
    "!pip install numpy\n",
    "!pip install pandas"
   ]
  },
  {
   "cell_type": "markdown",
   "metadata": {},
   "source": [
    "### 第二步 读取文件\n",
    "\n",
    "使用模块可以很简单的读取文件，并且支持多种文件类型。手动读取只能支持很少的文件类型。"
   ]
  },
  {
   "cell_type": "code",
   "execution_count": 32,
   "metadata": {},
   "outputs": [
    {
     "name": "stdout",
     "output_type": "stream",
     "text": [
      "     学号  高数  英语  Python\n",
      "0  1001  89  67      90\n",
      "1  1002  67  98      91\n",
      "2  1003  76  90      86\n",
      "3  1004  97  91      89\n",
      "4  1005  76  32      65\n",
      "      学号  高数  英语  Python\n",
      "25  1026  74  34      59\n",
      "26  1027  91  65      78\n",
      "27  1028  94  98      90\n",
      "28  1029  89  67      58\n",
      "29  1030  67  98      88\n"
     ]
    }
   ],
   "source": [
    "import pandas as pd\n",
    "\n",
    "# dataframe\n",
    "df = pd.read_csv(\"../student_score.csv\")\n",
    "print(df.head()) # 打印前几行\n",
    "print(df.tail()) # 打印后几行"
   ]
  },
  {
   "cell_type": "markdown",
   "metadata": {},
   "source": [
    "数据的一些信息"
   ]
  },
  {
   "cell_type": "code",
   "execution_count": 35,
   "metadata": {},
   "outputs": [
    {
     "name": "stdout",
     "output_type": "stream",
     "text": [
      "Index(['学号', '高数', '英语', 'Python'], dtype='object')\n",
      "RangeIndex(start=0, stop=30, step=1)\n"
     ]
    }
   ],
   "source": [
    "print(df.columns) # 表头，或者说是列头\n",
    "print(df.index)    # 行的索引，行序号"
   ]
  },
  {
   "cell_type": "markdown",
   "metadata": {},
   "source": [
    "将学号设置位索引"
   ]
  },
  {
   "cell_type": "code",
   "execution_count": 30,
   "metadata": {},
   "outputs": [
    {
     "name": "stdout",
     "output_type": "stream",
     "text": [
      "      高数  英语  Python\n",
      "学号                  \n",
      "1001  89  67      90\n",
      "1002  67  98      91\n",
      "1003  76  90      86\n",
      "1004  97  91      89\n",
      "1005  76  32      65\n"
     ]
    }
   ],
   "source": [
    "# 将第一行作为索引，并删除它\n",
    "df1 = df.set_index('学号',drop=True)\n",
    "print(df1.head())"
   ]
  },
  {
   "cell_type": "markdown",
   "metadata": {},
   "source": [
    "计算各科的平均值"
   ]
  },
  {
   "cell_type": "code",
   "execution_count": 38,
   "metadata": {},
   "outputs": [
    {
     "data": {
      "text/plain": [
       "高数        72.566667\n",
       "英语        70.200000\n",
       "Python    75.466667\n",
       "dtype: float64"
      ]
     },
     "execution_count": 38,
     "metadata": {},
     "output_type": "execute_result"
    }
   ],
   "source": [
    "# 计算平均值\n",
    "df1.mean()"
   ]
  },
  {
   "cell_type": "code",
   "execution_count": 39,
   "metadata": {},
   "outputs": [
    {
     "data": {
      "text/html": [
       "<div>\n",
       "<style scoped>\n",
       "    .dataframe tbody tr th:only-of-type {\n",
       "        vertical-align: middle;\n",
       "    }\n",
       "\n",
       "    .dataframe tbody tr th {\n",
       "        vertical-align: top;\n",
       "    }\n",
       "\n",
       "    .dataframe thead th {\n",
       "        text-align: right;\n",
       "    }\n",
       "</style>\n",
       "<table border=\"1\" class=\"dataframe\">\n",
       "  <thead>\n",
       "    <tr style=\"text-align: right;\">\n",
       "      <th></th>\n",
       "      <th>高数</th>\n",
       "      <th>英语</th>\n",
       "      <th>Python</th>\n",
       "    </tr>\n",
       "  </thead>\n",
       "  <tbody>\n",
       "    <tr>\n",
       "      <th>count</th>\n",
       "      <td>30.000000</td>\n",
       "      <td>30.000000</td>\n",
       "      <td>30.000000</td>\n",
       "    </tr>\n",
       "    <tr>\n",
       "      <th>mean</th>\n",
       "      <td>72.566667</td>\n",
       "      <td>70.200000</td>\n",
       "      <td>75.466667</td>\n",
       "    </tr>\n",
       "    <tr>\n",
       "      <th>std</th>\n",
       "      <td>23.188409</td>\n",
       "      <td>23.857913</td>\n",
       "      <td>15.884786</td>\n",
       "    </tr>\n",
       "    <tr>\n",
       "      <th>min</th>\n",
       "      <td>12.000000</td>\n",
       "      <td>23.000000</td>\n",
       "      <td>34.000000</td>\n",
       "    </tr>\n",
       "    <tr>\n",
       "      <th>25%</th>\n",
       "      <td>67.000000</td>\n",
       "      <td>56.500000</td>\n",
       "      <td>65.000000</td>\n",
       "    </tr>\n",
       "    <tr>\n",
       "      <th>50%</th>\n",
       "      <td>76.000000</td>\n",
       "      <td>71.500000</td>\n",
       "      <td>76.000000</td>\n",
       "    </tr>\n",
       "    <tr>\n",
       "      <th>75%</th>\n",
       "      <td>90.500000</td>\n",
       "      <td>90.750000</td>\n",
       "      <td>88.750000</td>\n",
       "    </tr>\n",
       "    <tr>\n",
       "      <th>max</th>\n",
       "      <td>99.000000</td>\n",
       "      <td>98.000000</td>\n",
       "      <td>98.000000</td>\n",
       "    </tr>\n",
       "  </tbody>\n",
       "</table>\n",
       "</div>"
      ],
      "text/plain": [
       "              高数         英语     Python\n",
       "count  30.000000  30.000000  30.000000\n",
       "mean   72.566667  70.200000  75.466667\n",
       "std    23.188409  23.857913  15.884786\n",
       "min    12.000000  23.000000  34.000000\n",
       "25%    67.000000  56.500000  65.000000\n",
       "50%    76.000000  71.500000  76.000000\n",
       "75%    90.500000  90.750000  88.750000\n",
       "max    99.000000  98.000000  98.000000"
      ]
     },
     "execution_count": 39,
     "metadata": {},
     "output_type": "execute_result"
    }
   ],
   "source": [
    "df1.describe()  # 快速显示各种统计信息"
   ]
  },
  {
   "cell_type": "markdown",
   "metadata": {},
   "source": [
    "成绩排序"
   ]
  },
  {
   "cell_type": "code",
   "execution_count": 42,
   "metadata": {},
   "outputs": [
    {
     "data": {
      "text/html": [
       "<div>\n",
       "<style scoped>\n",
       "    .dataframe tbody tr th:only-of-type {\n",
       "        vertical-align: middle;\n",
       "    }\n",
       "\n",
       "    .dataframe tbody tr th {\n",
       "        vertical-align: top;\n",
       "    }\n",
       "\n",
       "    .dataframe thead th {\n",
       "        text-align: right;\n",
       "    }\n",
       "</style>\n",
       "<table border=\"1\" class=\"dataframe\">\n",
       "  <thead>\n",
       "    <tr style=\"text-align: right;\">\n",
       "      <th></th>\n",
       "      <th>高数</th>\n",
       "      <th>英语</th>\n",
       "      <th>Python</th>\n",
       "    </tr>\n",
       "    <tr>\n",
       "      <th>学号</th>\n",
       "      <th></th>\n",
       "      <th></th>\n",
       "      <th></th>\n",
       "    </tr>\n",
       "  </thead>\n",
       "  <tbody>\n",
       "    <tr>\n",
       "      <th>1018</th>\n",
       "      <td>99</td>\n",
       "      <td>54</td>\n",
       "      <td>56</td>\n",
       "    </tr>\n",
       "    <tr>\n",
       "      <th>1021</th>\n",
       "      <td>98</td>\n",
       "      <td>45</td>\n",
       "      <td>78</td>\n",
       "    </tr>\n",
       "    <tr>\n",
       "      <th>1017</th>\n",
       "      <td>98</td>\n",
       "      <td>87</td>\n",
       "      <td>98</td>\n",
       "    </tr>\n",
       "    <tr>\n",
       "      <th>1014</th>\n",
       "      <td>98</td>\n",
       "      <td>34</td>\n",
       "      <td>76</td>\n",
       "    </tr>\n",
       "    <tr>\n",
       "      <th>1011</th>\n",
       "      <td>98</td>\n",
       "      <td>78</td>\n",
       "      <td>67</td>\n",
       "    </tr>\n",
       "  </tbody>\n",
       "</table>\n",
       "</div>"
      ],
      "text/plain": [
       "      高数  英语  Python\n",
       "学号                  \n",
       "1018  99  54      56\n",
       "1021  98  45      78\n",
       "1017  98  87      98\n",
       "1014  98  34      76\n",
       "1011  98  78      67"
      ]
     },
     "execution_count": 42,
     "metadata": {},
     "output_type": "execute_result"
    }
   ],
   "source": [
    "# 按照某一个科目成绩进行排序 ascending 升序，默认升序。设置成False表示降序\n",
    "df1.sort_values(by='高数', ascending=False).head()"
   ]
  },
  {
   "cell_type": "markdown",
   "metadata": {},
   "source": [
    "## 计算每个人的总分并排序"
   ]
  },
  {
   "cell_type": "code",
   "execution_count": 44,
   "metadata": {},
   "outputs": [
    {
     "data": {
      "text/plain": [
       "学号\n",
       "1001    246\n",
       "1002    256\n",
       "1003    252\n",
       "1004    277\n",
       "1005    173\n",
       "1006    187\n",
       "1007    208\n",
       "1008    221\n",
       "1009    219\n",
       "1010    173\n",
       "1011    243\n",
       "1012    186\n",
       "1013    161\n",
       "1014    208\n",
       "1015    186\n",
       "1016    173\n",
       "1017    283\n",
       "1018    209\n",
       "1019    230\n",
       "1020    214\n",
       "1021    221\n",
       "1022    244\n",
       "1023    188\n",
       "1024    205\n",
       "1025    234\n",
       "1026    167\n",
       "1027    234\n",
       "1028    282\n",
       "1029    214\n",
       "1030    253\n",
       "dtype: int64"
      ]
     },
     "execution_count": 44,
     "metadata": {},
     "output_type": "execute_result"
    }
   ],
   "source": [
    "# \n",
    "df_sum = df1.apply(lambda x: x.sum(), axis=1)\n",
    "df_sum"
   ]
  },
  {
   "cell_type": "code",
   "execution_count": 46,
   "metadata": {},
   "outputs": [
    {
     "name": "stdout",
     "output_type": "stream",
     "text": [
      "Index(['高数', '英语', 'Python', '总分'], dtype='object')\n"
     ]
    },
    {
     "data": {
      "text/html": [
       "<div>\n",
       "<style scoped>\n",
       "    .dataframe tbody tr th:only-of-type {\n",
       "        vertical-align: middle;\n",
       "    }\n",
       "\n",
       "    .dataframe tbody tr th {\n",
       "        vertical-align: top;\n",
       "    }\n",
       "\n",
       "    .dataframe thead th {\n",
       "        text-align: right;\n",
       "    }\n",
       "</style>\n",
       "<table border=\"1\" class=\"dataframe\">\n",
       "  <thead>\n",
       "    <tr style=\"text-align: right;\">\n",
       "      <th></th>\n",
       "      <th>高数</th>\n",
       "      <th>英语</th>\n",
       "      <th>Python</th>\n",
       "      <th>总分</th>\n",
       "    </tr>\n",
       "    <tr>\n",
       "      <th>学号</th>\n",
       "      <th></th>\n",
       "      <th></th>\n",
       "      <th></th>\n",
       "      <th></th>\n",
       "    </tr>\n",
       "  </thead>\n",
       "  <tbody>\n",
       "    <tr>\n",
       "      <th>1001</th>\n",
       "      <td>89</td>\n",
       "      <td>67</td>\n",
       "      <td>90</td>\n",
       "      <td>246</td>\n",
       "    </tr>\n",
       "    <tr>\n",
       "      <th>1002</th>\n",
       "      <td>67</td>\n",
       "      <td>98</td>\n",
       "      <td>91</td>\n",
       "      <td>256</td>\n",
       "    </tr>\n",
       "    <tr>\n",
       "      <th>1003</th>\n",
       "      <td>76</td>\n",
       "      <td>90</td>\n",
       "      <td>86</td>\n",
       "      <td>252</td>\n",
       "    </tr>\n",
       "    <tr>\n",
       "      <th>1004</th>\n",
       "      <td>97</td>\n",
       "      <td>91</td>\n",
       "      <td>89</td>\n",
       "      <td>277</td>\n",
       "    </tr>\n",
       "    <tr>\n",
       "      <th>1005</th>\n",
       "      <td>76</td>\n",
       "      <td>32</td>\n",
       "      <td>65</td>\n",
       "      <td>173</td>\n",
       "    </tr>\n",
       "  </tbody>\n",
       "</table>\n",
       "</div>"
      ],
      "text/plain": [
       "      高数  英语  Python   总分\n",
       "学号                       \n",
       "1001  89  67      90  246\n",
       "1002  67  98      91  256\n",
       "1003  76  90      86  252\n",
       "1004  97  91      89  277\n",
       "1005  76  32      65  173"
      ]
     },
     "execution_count": 46,
     "metadata": {},
     "output_type": "execute_result"
    }
   ],
   "source": [
    "df2 = pd.concat([df1, df_sum], axis=1)\n",
    "df2.rename(columns = {0 : \"总分\"}, inplace = True)\n",
    "print(df2.columns)\n",
    "df2.head()"
   ]
  },
  {
   "cell_type": "code",
   "execution_count": 53,
   "metadata": {},
   "outputs": [
    {
     "data": {
      "text/html": [
       "<div>\n",
       "<style scoped>\n",
       "    .dataframe tbody tr th:only-of-type {\n",
       "        vertical-align: middle;\n",
       "    }\n",
       "\n",
       "    .dataframe tbody tr th {\n",
       "        vertical-align: top;\n",
       "    }\n",
       "\n",
       "    .dataframe thead th {\n",
       "        text-align: right;\n",
       "    }\n",
       "</style>\n",
       "<table border=\"1\" class=\"dataframe\">\n",
       "  <thead>\n",
       "    <tr style=\"text-align: right;\">\n",
       "      <th></th>\n",
       "      <th>高数</th>\n",
       "      <th>英语</th>\n",
       "      <th>Python</th>\n",
       "      <th>总分</th>\n",
       "    </tr>\n",
       "    <tr>\n",
       "      <th>学号</th>\n",
       "      <th></th>\n",
       "      <th></th>\n",
       "      <th></th>\n",
       "      <th></th>\n",
       "    </tr>\n",
       "  </thead>\n",
       "  <tbody>\n",
       "    <tr>\n",
       "      <th>1017</th>\n",
       "      <td>98</td>\n",
       "      <td>87</td>\n",
       "      <td>98</td>\n",
       "      <td>283</td>\n",
       "    </tr>\n",
       "    <tr>\n",
       "      <th>1028</th>\n",
       "      <td>94</td>\n",
       "      <td>98</td>\n",
       "      <td>90</td>\n",
       "      <td>282</td>\n",
       "    </tr>\n",
       "    <tr>\n",
       "      <th>1004</th>\n",
       "      <td>97</td>\n",
       "      <td>91</td>\n",
       "      <td>89</td>\n",
       "      <td>277</td>\n",
       "    </tr>\n",
       "    <tr>\n",
       "      <th>1002</th>\n",
       "      <td>67</td>\n",
       "      <td>98</td>\n",
       "      <td>91</td>\n",
       "      <td>256</td>\n",
       "    </tr>\n",
       "    <tr>\n",
       "      <th>1030</th>\n",
       "      <td>67</td>\n",
       "      <td>98</td>\n",
       "      <td>88</td>\n",
       "      <td>253</td>\n",
       "    </tr>\n",
       "  </tbody>\n",
       "</table>\n",
       "</div>"
      ],
      "text/plain": [
       "      高数  英语  Python   总分\n",
       "学号                       \n",
       "1017  98  87      98  283\n",
       "1028  94  98      90  282\n",
       "1004  97  91      89  277\n",
       "1002  67  98      91  256\n",
       "1030  67  98      88  253"
      ]
     },
     "execution_count": 53,
     "metadata": {},
     "output_type": "execute_result"
    }
   ],
   "source": [
    "# 按照总分排序\n",
    "df2.sort_values(by=\"总分\", ascending=False).head()"
   ]
  },
  {
   "cell_type": "markdown",
   "metadata": {},
   "source": [
    "# 统计整体的成绩情况\n",
    "\n",
    "对于一个科目的成绩来说，分别统计高数成绩中\n",
    "\n",
    "< 60的人数\n",
    "\n",
    "\\> 60的人数\n",
    "\n",
    "\\> 80的人数\n"
   ]
  },
  {
   "cell_type": "code",
   "execution_count": 56,
   "metadata": {},
   "outputs": [
    {
     "name": "stdout",
     "output_type": "stream",
     "text": [
      "[6, 13, 11]\n"
     ]
    }
   ],
   "source": [
    "labels = [\"<60\", \"60~80\", \">80\"]\n",
    "stu_nums = [0] * 3\n",
    "stu_nums[0] = len(df2[df2[\"高数\"] < 60])\n",
    "stu_nums[1] = len(df2[(df2[\"高数\"] >= 60) & (df2[\"高数\"] <= 80 )]) # & -> 与 and #  | -> 或 or \n",
    "stu_nums[2] = len(df2[df2[\"高数\"] > 80])\n",
    "\n",
    "print(stu_nums)"
   ]
  },
  {
   "cell_type": "markdown",
   "metadata": {},
   "source": [
    "### 试着分别统计其他两种情况的成绩分布。"
   ]
  },
  {
   "cell_type": "markdown",
   "metadata": {},
   "source": [
    "# 简单的将数据可视化\n",
    "\n",
    "将上述数据进行可视化，数据可视化主要使用https://www.matplotlib.org.cn/intro/"
   ]
  },
  {
   "cell_type": "code",
   "execution_count": 22,
   "metadata": {},
   "outputs": [
    {
     "name": "stdout",
     "output_type": "stream",
     "text": [
      "Looking in indexes: https://pypi.tuna.tsinghua.edu.cn/simple\n",
      "Requirement already satisfied: matplotlib in d:\\anaconda\\lib\\site-packages (3.3.2)\n",
      "Requirement already satisfied: kiwisolver>=1.0.1 in d:\\anaconda\\lib\\site-packages (from matplotlib) (1.3.0)\n",
      "Requirement already satisfied: pillow>=6.2.0 in d:\\anaconda\\lib\\site-packages (from matplotlib) (8.0.1)\n",
      "Requirement already satisfied: numpy>=1.15 in d:\\anaconda\\lib\\site-packages (from matplotlib) (1.19.2)\n",
      "Requirement already satisfied: certifi>=2020.06.20 in d:\\anaconda\\lib\\site-packages (from matplotlib) (2020.6.20)\n",
      "Requirement already satisfied: cycler>=0.10 in d:\\anaconda\\lib\\site-packages (from matplotlib) (0.10.0)\n",
      "Requirement already satisfied: python-dateutil>=2.1 in d:\\anaconda\\lib\\site-packages (from matplotlib) (2.8.1)\n",
      "Requirement already satisfied: pyparsing!=2.0.4,!=2.1.2,!=2.1.6,>=2.0.3 in d:\\anaconda\\lib\\site-packages (from matplotlib) (2.4.7)\n",
      "Requirement already satisfied: six in c:\\users\\36014\\appdata\\roaming\\python\\python38\\site-packages (from cycler>=0.10->matplotlib) (1.16.0)\n"
     ]
    }
   ],
   "source": [
    "# 安装绘图库\n",
    "!pip install matplotlib"
   ]
  },
  {
   "cell_type": "code",
   "execution_count": 57,
   "metadata": {},
   "outputs": [
    {
     "data": {
      "text/plain": [
       "<Figure size 6000x6000 with 0 Axes>"
      ]
     },
     "metadata": {},
     "output_type": "display_data"
    },
    {
     "data": {
      "image/svg+xml": "<?xml version=\"1.0\" encoding=\"utf-8\" standalone=\"no\"?>\r\n<!DOCTYPE svg PUBLIC \"-//W3C//DTD SVG 1.1//EN\"\r\n  \"http://www.w3.org/Graphics/SVG/1.1/DTD/svg11.dtd\">\r\n<svg height=\"247.355625pt\" version=\"1.1\" viewBox=\"0 0 231.84 247.355625\" width=\"231.84pt\" xmlns=\"http://www.w3.org/2000/svg\" xmlns:xlink=\"http://www.w3.org/1999/xlink\">\r\n <metadata>\r\n  <rdf:RDF xmlns:cc=\"http://creativecommons.org/ns#\" xmlns:dc=\"http://purl.org/dc/elements/1.1/\" xmlns:rdf=\"http://www.w3.org/1999/02/22-rdf-syntax-ns#\">\r\n   <cc:Work>\r\n    <dc:type rdf:resource=\"http://purl.org/dc/dcmitype/StillImage\"/>\r\n    <dc:date>2021-11-14T10:47:22.831374</dc:date>\r\n    <dc:format>image/svg+xml</dc:format>\r\n    <dc:creator>\r\n     <cc:Agent>\r\n      <dc:title>Matplotlib v3.4.3, https://matplotlib.org/</dc:title>\r\n     </cc:Agent>\r\n    </dc:creator>\r\n   </cc:Work>\r\n  </rdf:RDF>\r\n </metadata>\r\n <defs>\r\n  <style type=\"text/css\">*{stroke-linecap:butt;stroke-linejoin:round;}</style>\r\n </defs>\r\n <g id=\"figure_1\">\r\n  <g id=\"patch_1\">\r\n   <path d=\"M 0 247.355625 \r\nL 231.84 247.355625 \r\nL 231.84 0 \r\nL 0 0 \r\nz\r\n\" style=\"fill:none;\"/>\r\n  </g>\r\n  <g id=\"axes_1\">\r\n   <g id=\"patch_2\">\r\n    <path d=\"M 202.896 131.435625 \r\nC 202.896 113.070951 197.079546 95.169747 186.285062 80.312414 \r\nC 175.490577 65.455081 160.262904 54.391529 142.797061 48.716533 \r\nL 115.92 131.435625 \r\nL 202.896 131.435625 \r\nz\r\n\" style=\"fill:#1f77b4;\"/>\r\n   </g>\r\n   <g id=\"patch_3\">\r\n    <path d=\"M 142.797061 48.716533 \r\nC 123.849476 42.56009 103.350001 43.096888 84.750587 50.236535 \r\nC 66.151174 57.376181 50.557907 70.69409 40.596573 87.947627 \r\nC 30.635239 105.201165 26.898227 125.364285 30.014819 145.041672 \r\nC 33.131412 164.71906 42.91627 182.740525 57.721699 196.071392 \r\nL 115.92 131.435625 \r\nL 142.797061 48.716533 \r\nz\r\n\" style=\"fill:#ff7f0e;\"/>\r\n   </g>\r\n   <g id=\"patch_4\">\r\n    <path d=\"M 57.721699 196.071392 \r\nC 70.215987 207.321298 85.708231 214.710719 102.313961 217.340807 \r\nC 118.91969 219.970895 135.937146 217.730503 151.296332 210.892152 \r\nC 166.655517 204.053801 179.707352 192.90648 188.864215 178.806144 \r\nC 198.021079 164.705808 202.896002 148.248339 202.896 131.435617 \r\nL 115.92 131.435625 \r\nL 57.721699 196.071392 \r\nz\r\n\" style=\"fill:#2ca02c;\"/>\r\n   </g>\r\n   <g id=\"matplotlib.axis_1\"/>\r\n   <g id=\"matplotlib.axis_2\"/>\r\n   <g id=\"text_1\">\r\n    <!-- &lt;60 -->\r\n    <g transform=\"translate(193.321568 78.012593)scale(0.1 -0.1)\">\r\n     <defs>\r\n      <path d=\"M 2950 250 \r\nL 2725 -25 \r\nL 200 2250 \r\nL 2700 4550 \r\nL 2950 4300 \r\nL 700 2250 \r\nL 2950 250 \r\nz\r\n\" id=\"SimHei-3c\" transform=\"scale(0.015625)\"/>\r\n      <path d=\"M 250 1612 \r\nQ 275 1975 387 2225 \r\nQ 500 2475 725 2850 \r\nL 1750 4450 \r\nL 2325 4450 \r\nL 1275 2800 \r\nQ 1950 2975 2350 2750 \r\nQ 2750 2525 2887 2237 \r\nQ 3025 1950 3037 1612 \r\nQ 3050 1275 2937 950 \r\nQ 2825 625 2537 362 \r\nQ 2250 100 1737 75 \r\nQ 1225 50 862 262 \r\nQ 500 475 362 862 \r\nQ 225 1250 250 1612 \r\nz\r\nM 1025 787 \r\nQ 1250 550 1625 525 \r\nQ 2000 500 2250 775 \r\nQ 2500 1050 2500 1575 \r\nQ 2500 2100 2187 2300 \r\nQ 1875 2500 1487 2450 \r\nQ 1100 2400 925 2075 \r\nQ 750 1750 775 1387 \r\nQ 800 1025 1025 787 \r\nz\r\n\" id=\"SimHei-36\" transform=\"scale(0.015625)\"/>\r\n      <path d=\"M 225 2537 \r\nQ 250 3200 412 3587 \r\nQ 575 3975 875 4225 \r\nQ 1175 4475 1612 4475 \r\nQ 2050 4475 2375 4112 \r\nQ 2700 3750 2800 3200 \r\nQ 2900 2650 2862 1937 \r\nQ 2825 1225 2612 775 \r\nQ 2400 325 1975 150 \r\nQ 1550 -25 1125 187 \r\nQ 700 400 525 750 \r\nQ 350 1100 275 1487 \r\nQ 200 1875 225 2537 \r\nz\r\nM 750 2687 \r\nQ 675 2000 800 1462 \r\nQ 925 925 1212 700 \r\nQ 1500 475 1800 612 \r\nQ 2100 750 2237 1162 \r\nQ 2375 1575 2375 2062 \r\nQ 2375 2550 2337 2950 \r\nQ 2300 3350 2112 3675 \r\nQ 1925 4000 1612 4012 \r\nQ 1300 4025 1062 3700 \r\nQ 825 3375 750 2687 \r\nz\r\n\" id=\"SimHei-30\" transform=\"scale(0.015625)\"/>\r\n     </defs>\r\n     <use xlink:href=\"#SimHei-3c\"/>\r\n     <use x=\"50\" xlink:href=\"#SimHei-36\"/>\r\n     <use x=\"100\" xlink:href=\"#SimHei-30\"/>\r\n    </g>\r\n   </g>\r\n   <g id=\"text_2\">\r\n    <!-- 20.00% -->\r\n    <g transform=\"translate(143.139037 103.574199)scale(0.1 -0.1)\">\r\n     <defs>\r\n      <path d=\"M 300 250 \r\nQ 325 625 650 925 \r\nQ 975 1225 1475 1862 \r\nQ 1975 2500 2125 2850 \r\nQ 2275 3200 2237 3450 \r\nQ 2200 3700 2000 3862 \r\nQ 1800 4025 1537 4000 \r\nQ 1275 3975 1037 3800 \r\nQ 800 3625 675 3275 \r\nL 200 3350 \r\nQ 400 3925 712 4187 \r\nQ 1025 4450 1450 4475 \r\nQ 1700 4500 1900 4462 \r\nQ 2100 4425 2312 4287 \r\nQ 2525 4150 2662 3875 \r\nQ 2800 3600 2762 3212 \r\nQ 2725 2825 2375 2287 \r\nQ 2025 1750 1025 600 \r\nL 2825 600 \r\nL 2825 150 \r\nL 300 150 \r\nL 300 250 \r\nz\r\n\" id=\"SimHei-32\" transform=\"scale(0.015625)\"/>\r\n      <path d=\"M 1075 125 \r\nL 500 125 \r\nL 500 675 \r\nL 1075 675 \r\nL 1075 125 \r\nz\r\n\" id=\"SimHei-2e\" transform=\"scale(0.015625)\"/>\r\n      <path d=\"M 1400 3325 \r\nQ 1400 2600 1187 2400 \r\nQ 975 2200 775 2200 \r\nQ 575 2200 362 2400 \r\nQ 150 2600 150 3325 \r\nQ 150 4050 362 4250 \r\nQ 575 4450 775 4450 \r\nQ 975 4450 1187 4250 \r\nQ 1400 4050 1400 3325 \r\nz\r\nM 2625 4375 \r\nL 700 75 \r\nL 500 150 \r\nL 2425 4450 \r\nL 2625 4375 \r\nz\r\nM 2975 1200 \r\nQ 2975 475 2762 275 \r\nQ 2550 75 2350 75 \r\nQ 2150 75 1937 275 \r\nQ 1725 475 1725 1200 \r\nQ 1725 1925 1937 2125 \r\nQ 2150 2325 2350 2325 \r\nQ 2550 2325 2762 2125 \r\nQ 2975 1925 2975 1200 \r\nz\r\nM 1000 3325 \r\nQ 1000 3775 950 3925 \r\nQ 900 4075 775 4075 \r\nQ 650 4075 600 3925 \r\nQ 550 3775 550 3325 \r\nQ 550 2875 600 2725 \r\nQ 650 2575 775 2575 \r\nQ 900 2575 950 2725 \r\nQ 1000 2875 1000 3325 \r\nz\r\nM 2575 1200 \r\nQ 2575 1650 2525 1800 \r\nQ 2475 1950 2350 1950 \r\nQ 2225 1950 2175 1800 \r\nQ 2125 1650 2125 1200 \r\nQ 2125 750 2175 600 \r\nQ 2225 450 2350 450 \r\nQ 2475 450 2525 600 \r\nQ 2575 750 2575 1200 \r\nz\r\n\" id=\"SimHei-25\" transform=\"scale(0.015625)\"/>\r\n     </defs>\r\n     <use xlink:href=\"#SimHei-32\"/>\r\n     <use x=\"50\" xlink:href=\"#SimHei-30\"/>\r\n     <use x=\"100\" xlink:href=\"#SimHei-2e\"/>\r\n     <use x=\"150\" xlink:href=\"#SimHei-30\"/>\r\n     <use x=\"200\" xlink:href=\"#SimHei-30\"/>\r\n     <use x=\"250\" xlink:href=\"#SimHei-25\"/>\r\n    </g>\r\n   </g>\r\n   <g id=\"text_3\">\r\n    <!-- 60~80 -->\r\n    <g transform=\"translate(8.06423 86.60664)scale(0.1 -0.1)\">\r\n     <defs>\r\n      <path d=\"M 2900 5075 \r\nQ 2750 4725 2562 4487 \r\nQ 2375 4250 2125 4250 \r\nQ 1950 4250 1625 4575 \r\nQ 1300 4900 1075 4900 \r\nQ 900 4900 800 4762 \r\nQ 700 4625 600 4325 \r\nL 350 4600 \r\nQ 500 4950 662 5187 \r\nQ 825 5425 1050 5425 \r\nQ 1325 5425 1662 5112 \r\nQ 2000 4800 2175 4800 \r\nQ 2275 4800 2425 4950 \r\nQ 2575 5100 2650 5400 \r\nL 2900 5075 \r\nz\r\n\" id=\"SimHei-7e\" transform=\"scale(0.015625)\"/>\r\n      <path d=\"M 175 1375 \r\nQ 175 1675 325 1962 \r\nQ 475 2250 825 2425 \r\nQ 525 2600 425 2812 \r\nQ 325 3025 312 3300 \r\nQ 300 3575 387 3775 \r\nQ 475 3975 650 4150 \r\nQ 825 4325 1037 4387 \r\nQ 1250 4450 1500 4450 \r\nQ 1750 4450 1950 4400 \r\nQ 2150 4350 2375 4187 \r\nQ 2600 4025 2700 3725 \r\nQ 2800 3425 2687 3025 \r\nQ 2575 2625 2100 2400 \r\nQ 2525 2275 2700 2012 \r\nQ 2875 1750 2875 1375 \r\nQ 2875 1000 2762 775 \r\nQ 2650 550 2512 400 \r\nQ 2375 250 2137 162 \r\nQ 1900 75 1537 75 \r\nQ 1175 75 912 162 \r\nQ 650 250 475 425 \r\nQ 300 600 237 837 \r\nQ 175 1075 175 1375 \r\nz\r\nM 687 1400 \r\nQ 675 1100 787 875 \r\nQ 900 650 1200 587 \r\nQ 1500 525 1825 600 \r\nQ 2150 675 2275 950 \r\nQ 2400 1225 2362 1500 \r\nQ 2325 1775 2050 1962 \r\nQ 1775 2150 1450 2125 \r\nQ 1125 2100 912 1900 \r\nQ 700 1700 687 1400 \r\nz\r\nM 775 3350 \r\nQ 775 3100 950 2875 \r\nQ 1125 2650 1500 2650 \r\nQ 1875 2650 2062 2875 \r\nQ 2250 3100 2237 3412 \r\nQ 2225 3725 2012 3875 \r\nQ 1800 4025 1437 4000 \r\nQ 1075 3975 925 3787 \r\nQ 775 3600 775 3350 \r\nz\r\n\" id=\"SimHei-38\" transform=\"scale(0.015625)\"/>\r\n     </defs>\r\n     <use xlink:href=\"#SimHei-36\"/>\r\n     <use x=\"50\" xlink:href=\"#SimHei-30\"/>\r\n     <use x=\"100\" xlink:href=\"#SimHei-7e\"/>\r\n     <use x=\"150\" xlink:href=\"#SimHei-38\"/>\r\n     <use x=\"200\" xlink:href=\"#SimHei-30\"/>\r\n    </g>\r\n   </g>\r\n   <g id=\"text_4\">\r\n    <!-- 43.33% -->\r\n    <g transform=\"translate(55.725944 108.155326)scale(0.1 -0.1)\">\r\n     <defs>\r\n      <path d=\"M 2000 1100 \r\nL 75 1100 \r\nL 75 1525 \r\nL 2100 4450 \r\nL 2475 4450 \r\nL 2475 1525 \r\nL 3075 1525 \r\nL 3075 1100 \r\nL 2475 1100 \r\nL 2475 150 \r\nL 2000 150 \r\nL 2000 1100 \r\nz\r\nM 2000 1525 \r\nL 2000 3500 \r\nL 600 1525 \r\nL 2000 1525 \r\nz\r\n\" id=\"SimHei-34\" transform=\"scale(0.015625)\"/>\r\n      <path d=\"M 250 1225 \r\nL 700 1300 \r\nQ 800 975 1025 762 \r\nQ 1250 550 1587 562 \r\nQ 1925 575 2125 837 \r\nQ 2325 1100 2300 1437 \r\nQ 2275 1775 2037 1962 \r\nQ 1800 2150 1275 2225 \r\nL 1275 2550 \r\nQ 1800 2600 2037 2825 \r\nQ 2275 3050 2250 3412 \r\nQ 2225 3775 1925 3937 \r\nQ 1625 4100 1287 3975 \r\nQ 950 3850 750 3275 \r\nL 300 3350 \r\nQ 450 3800 712 4100 \r\nQ 975 4400 1425 4450 \r\nQ 1875 4500 2212 4337 \r\nQ 2550 4175 2687 3837 \r\nQ 2825 3500 2725 3100 \r\nQ 2625 2700 2150 2400 \r\nQ 2500 2250 2687 1950 \r\nQ 2875 1650 2812 1162 \r\nQ 2750 675 2375 375 \r\nQ 2000 75 1525 87 \r\nQ 1050 100 700 387 \r\nQ 350 675 250 1225 \r\nz\r\n\" id=\"SimHei-33\" transform=\"scale(0.015625)\"/>\r\n     </defs>\r\n     <use xlink:href=\"#SimHei-34\"/>\r\n     <use x=\"50\" xlink:href=\"#SimHei-33\"/>\r\n     <use x=\"100\" xlink:href=\"#SimHei-2e\"/>\r\n     <use x=\"150\" xlink:href=\"#SimHei-33\"/>\r\n     <use x=\"200\" xlink:href=\"#SimHei-33\"/>\r\n     <use x=\"250\" xlink:href=\"#SimHei-25\"/>\r\n    </g>\r\n   </g>\r\n   <g id=\"text_5\">\r\n    <!-- &gt;80 -->\r\n    <g transform=\"translate(154.833965 221.650305)scale(0.1 -0.1)\">\r\n     <defs>\r\n      <path d=\"M 2950 2250 \r\nL 425 -25 \r\nL 200 250 \r\nL 2450 2250 \r\nL 200 4300 \r\nL 450 4550 \r\nL 2950 2250 \r\nz\r\n\" id=\"SimHei-3e\" transform=\"scale(0.015625)\"/>\r\n     </defs>\r\n     <use xlink:href=\"#SimHei-3e\"/>\r\n     <use x=\"50\" xlink:href=\"#SimHei-38\"/>\r\n     <use x=\"100\" xlink:href=\"#SimHei-30\"/>\r\n    </g>\r\n   </g>\r\n   <g id=\"text_6\">\r\n    <!-- 36.67% -->\r\n    <g transform=\"translate(122.145799 181.922041)scale(0.1 -0.1)\">\r\n     <defs>\r\n      <path d=\"M 850 150 \r\nQ 1300 2050 2425 3925 \r\nL 275 3925 \r\nL 275 4375 \r\nL 2950 4375 \r\nL 2950 3950 \r\nQ 1775 2050 1400 150 \r\nL 850 150 \r\nz\r\n\" id=\"SimHei-37\" transform=\"scale(0.015625)\"/>\r\n     </defs>\r\n     <use xlink:href=\"#SimHei-33\"/>\r\n     <use x=\"50\" xlink:href=\"#SimHei-36\"/>\r\n     <use x=\"100\" xlink:href=\"#SimHei-2e\"/>\r\n     <use x=\"150\" xlink:href=\"#SimHei-36\"/>\r\n     <use x=\"200\" xlink:href=\"#SimHei-37\"/>\r\n     <use x=\"250\" xlink:href=\"#SimHei-25\"/>\r\n    </g>\r\n   </g>\r\n   <g id=\"text_7\">\r\n    <!-- 高数成绩 -->\r\n    <g transform=\"translate(91.92 16.715625)scale(0.12 -0.12)\">\r\n     <defs>\r\n      <path d=\"M 5825 -25 \r\nQ 5850 -400 5550 -500 \r\nQ 5250 -600 4975 -625 \r\nQ 4875 -325 4725 -100 \r\nQ 4975 -100 5175 -87 \r\nQ 5375 -75 5350 250 \r\nL 5350 1825 \r\nL 1100 1825 \r\nL 1100 -575 \r\nL 600 -575 \r\nQ 625 -225 625 850 \r\nQ 625 1950 600 2200 \r\nL 5850 2200 \r\nQ 5825 1850 5825 1425 \r\nL 5825 -25 \r\nz\r\nM 4925 3800 \r\nQ 4900 3475 4900 3175 \r\nQ 4900 2900 4925 2600 \r\nL 1400 2600 \r\nQ 1425 2825 1425 3175 \r\nQ 1425 3525 1400 3800 \r\nL 4925 3800 \r\nz\r\nM 4500 1400 \r\nQ 4475 1125 4475 800 \r\nQ 4475 500 4500 200 \r\nL 1950 200 \r\nQ 2000 500 2000 800 \r\nQ 2000 1125 1950 1400 \r\nL 4500 1400 \r\nz\r\nM 425 4600 \r\nQ 750 4575 1125 4575 \r\nL 2925 4575 \r\nQ 2850 4875 2750 5100 \r\nQ 3050 5125 3350 5200 \r\nQ 3400 4950 3525 4575 \r\nL 5250 4575 \r\nQ 5600 4575 5975 4600 \r\nL 5975 4150 \r\nQ 5600 4175 5050 4175 \r\nL 1150 4175 \r\nQ 750 4175 425 4150 \r\nL 425 4600 \r\nz\r\nM 4450 2975 \r\nL 4450 3425 \r\nL 1900 3425 \r\nL 1900 2975 \r\nL 4450 2975 \r\nz\r\nM 4025 550 \r\nL 4025 1050 \r\nL 2400 1050 \r\nL 2400 550 \r\nL 4025 550 \r\nz\r\n\" id=\"SimHei-9ad8\" transform=\"scale(0.015625)\"/>\r\n      <path d=\"M 4525 4925 \r\nQ 4475 4800 4400 4587 \r\nQ 4325 4375 4175 3825 \r\nL 5325 3825 \r\nQ 5575 3825 5925 3850 \r\nL 5925 3400 \r\nQ 5650 3425 5500 3425 \r\nQ 5500 3025 5362 2162 \r\nQ 5225 1300 4875 675 \r\nQ 5125 375 5437 137 \r\nQ 5750 -100 6025 -200 \r\nQ 5725 -425 5625 -625 \r\nQ 5325 -450 5075 -225 \r\nQ 4825 0 4575 325 \r\nQ 4300 25 3987 -187 \r\nQ 3675 -400 3200 -650 \r\nQ 3075 -425 2850 -300 \r\nQ 3225 -150 3650 125 \r\nQ 4075 400 4300 675 \r\nQ 4125 1025 3962 1425 \r\nQ 3800 1825 3675 2475 \r\nQ 3600 2275 3425 1950 \r\nQ 3250 2050 3000 2150 \r\nQ 3400 2850 3650 3675 \r\nQ 3900 4500 3975 5100 \r\nQ 4275 4975 4525 4925 \r\nz\r\nM 2100 2250 \r\nQ 2000 2150 1875 1925 \r\nL 3250 1925 \r\nQ 3100 1300 2725 675 \r\nQ 3125 525 3350 400 \r\nQ 3225 225 3125 25 \r\nQ 2900 175 2450 325 \r\nQ 1950 -225 725 -650 \r\nQ 600 -375 400 -275 \r\nQ 1575 0 2000 475 \r\nQ 1300 650 850 775 \r\nQ 1000 1000 1250 1525 \r\nQ 1000 1525 425 1500 \r\nL 425 1950 \r\nQ 900 1925 1400 1925 \r\nQ 1500 2150 1550 2425 \r\nQ 1825 2325 2100 2250 \r\nz\r\nM 1775 3950 \r\nQ 1775 4550 1750 5100 \r\nL 2250 5100 \r\nQ 2225 4575 2225 3950 \r\nQ 3075 3950 3425 3975 \r\nL 3425 3525 \r\nQ 3075 3550 2225 3550 \r\nQ 2225 2825 2250 2425 \r\nL 1750 2425 \r\nQ 1775 2775 1775 3300 \r\nQ 1650 3100 1300 2787 \r\nQ 950 2475 650 2300 \r\nQ 525 2525 275 2625 \r\nQ 500 2700 875 2975 \r\nQ 1250 3250 1450 3550 \r\nQ 950 3550 500 3525 \r\nL 500 3975 \r\nQ 925 3950 1775 3950 \r\nz\r\nM 3975 3175 \r\nQ 4200 1700 4600 1125 \r\nQ 4850 1700 4937 2287 \r\nQ 5025 2875 5050 3425 \r\nL 4075 3425 \r\nL 3975 3175 \r\nz\r\nM 1450 1000 \r\nQ 1750 925 2275 800 \r\nQ 2475 1050 2650 1525 \r\nL 1725 1525 \r\nQ 1600 1275 1450 1000 \r\nz\r\nM 3325 4825 \r\nQ 3200 4625 3125 4450 \r\nQ 3050 4275 2925 4025 \r\nQ 2725 4125 2525 4175 \r\nQ 2725 4500 2900 5000 \r\nQ 3150 4875 3325 4825 \r\nz\r\nM 2575 3375 \r\nQ 2900 3050 3200 2725 \r\nQ 3050 2600 2875 2425 \r\nQ 2525 2850 2300 3100 \r\nQ 2450 3225 2575 3375 \r\nz\r\nM 925 5000 \r\nQ 1275 4650 1500 4300 \r\nL 1125 4075 \r\nQ 950 4425 600 4725 \r\nQ 825 4875 925 5000 \r\nz\r\n\" id=\"SimHei-6570\" transform=\"scale(0.015625)\"/>\r\n      <path d=\"M 3500 4000 \r\nQ 3475 4725 3450 5225 \r\nQ 3750 5200 4025 5175 \r\nQ 3975 4850 4000 4000 \r\nL 4725 4000 \r\nQ 5250 4000 5875 4025 \r\nL 5875 3550 \r\nQ 5225 3575 4725 3575 \r\nL 4025 3575 \r\nQ 4050 2625 4350 1500 \r\nQ 4825 2225 5100 3175 \r\nQ 5350 2975 5675 2825 \r\nQ 5475 2600 5225 2075 \r\nQ 4975 1550 4575 975 \r\nQ 4800 525 5062 262 \r\nQ 5325 0 5425 37 \r\nQ 5525 75 5625 900 \r\nQ 5875 700 6150 600 \r\nQ 5975 -425 5762 -537 \r\nQ 5550 -650 5250 -537 \r\nQ 4950 -425 4687 -112 \r\nQ 4425 200 4250 575 \r\nQ 3650 -75 2725 -650 \r\nQ 2600 -425 2350 -250 \r\nQ 2850 -25 3312 350 \r\nQ 3775 725 4000 1050 \r\nQ 3825 1525 3700 2212 \r\nQ 3575 2900 3550 3575 \r\nL 1400 3575 \r\nL 1400 2700 \r\nL 3025 2700 \r\nQ 2975 2250 2950 1775 \r\nL 2875 775 \r\nQ 2850 300 2612 200 \r\nQ 2375 100 1800 50 \r\nQ 1775 275 1600 600 \r\nQ 2225 575 2325 675 \r\nQ 2425 775 2450 1250 \r\nL 2500 2250 \r\nL 1400 2250 \r\nQ 1400 1275 1250 625 \r\nQ 1100 -25 700 -575 \r\nQ 425 -375 200 -300 \r\nQ 525 100 650 462 \r\nQ 775 825 837 1250 \r\nQ 900 1675 912 2450 \r\nQ 925 3225 900 4000 \r\nL 3500 4000 \r\nz\r\nM 4750 5225 \r\nQ 5250 4825 5625 4425 \r\nQ 5400 4250 5225 4075 \r\nQ 4925 4475 4425 4900 \r\nQ 4600 5050 4750 5225 \r\nz\r\n\" id=\"SimHei-6210\" transform=\"scale(0.015625)\"/>\r\n      <path d=\"M 3900 4650 \r\nQ 3900 4875 3875 5225 \r\nL 4400 5225 \r\nQ 4375 4900 4375 4650 \r\nL 5275 4650 \r\nQ 5525 4650 5925 4675 \r\nL 5925 4250 \r\nQ 5550 4275 5225 4275 \r\nL 4375 4275 \r\nL 4375 3875 \r\nL 4975 3875 \r\nQ 5175 3875 5575 3900 \r\nL 5575 3500 \r\nQ 5200 3525 4975 3525 \r\nL 4375 3525 \r\nL 4375 3100 \r\nL 5600 3100 \r\nQ 5700 3100 6125 3125 \r\nL 6125 2700 \r\nQ 5700 2725 5425 2725 \r\nL 2950 2725 \r\nQ 2650 2725 2275 2700 \r\nL 2275 3125 \r\nQ 2650 3100 2925 3100 \r\nL 3900 3100 \r\nL 3900 3525 \r\nL 3350 3525 \r\nQ 3100 3525 2700 3500 \r\nL 2700 3900 \r\nQ 3100 3875 3350 3875 \r\nL 3900 3875 \r\nL 3900 4275 \r\nL 3050 4275 \r\nQ 2800 4275 2400 4250 \r\nL 2400 4675 \r\nQ 2875 4650 3025 4650 \r\nL 3900 4650 \r\nz\r\nM 2400 3700 \r\nQ 2275 3575 2000 3125 \r\nQ 1725 2675 1175 1900 \r\nQ 1400 1925 2250 2050 \r\nQ 2225 1750 2225 1600 \r\nQ 1875 1575 1400 1512 \r\nQ 925 1450 550 1350 \r\nQ 475 1625 400 1850 \r\nQ 625 1925 912 2250 \r\nQ 1200 2575 1425 3000 \r\nQ 1175 3000 937 2950 \r\nQ 700 2900 450 2825 \r\nQ 375 3050 275 3300 \r\nQ 525 3475 775 4075 \r\nQ 1025 4675 1100 5175 \r\nQ 1425 5025 1675 4975 \r\nQ 1550 4750 1350 4325 \r\nQ 1150 3900 850 3375 \r\nQ 1050 3375 1625 3400 \r\nQ 1800 3750 1875 4000 \r\nQ 2075 3825 2400 3700 \r\nz\r\nM 5575 2325 \r\nQ 5550 2025 5550 1550 \r\nQ 5550 1100 5575 700 \r\nL 5075 700 \r\nL 5075 1950 \r\nL 3225 1950 \r\nL 3225 675 \r\nL 2725 675 \r\nQ 2750 1200 2750 1575 \r\nQ 2750 1975 2725 2325 \r\nL 5575 2325 \r\nz\r\nM 4475 1600 \r\nQ 4375 1425 4312 1050 \r\nQ 4250 675 4100 375 \r\nQ 3950 75 3550 -175 \r\nQ 3150 -425 2325 -650 \r\nQ 2200 -425 1975 -200 \r\nQ 3350 50 3625 525 \r\nQ 3900 1000 3900 1625 \r\nQ 4200 1625 4475 1600 \r\nz\r\nM 2325 950 \r\nQ 2275 725 2250 475 \r\nQ 2000 450 1487 362 \r\nQ 975 275 425 100 \r\nQ 350 425 275 675 \r\nQ 950 725 1375 787 \r\nQ 1800 850 2325 950 \r\nz\r\nM 4650 650 \r\nQ 4925 525 5262 312 \r\nQ 5600 100 6100 -250 \r\nQ 5900 -425 5700 -625 \r\nQ 5375 -350 5112 -162 \r\nQ 4850 25 4350 325 \r\nQ 4550 500 4650 650 \r\nz\r\n\" id=\"SimHei-7ee9\" transform=\"scale(0.015625)\"/>\r\n     </defs>\r\n     <use xlink:href=\"#SimHei-9ad8\"/>\r\n     <use x=\"100\" xlink:href=\"#SimHei-6570\"/>\r\n     <use x=\"200\" xlink:href=\"#SimHei-6210\"/>\r\n     <use x=\"300\" xlink:href=\"#SimHei-7ee9\"/>\r\n    </g>\r\n   </g>\r\n  </g>\r\n </g>\r\n</svg>\r\n",
      "text/plain": [
       "<Figure size 432x288 with 1 Axes>"
      ]
     },
     "metadata": {},
     "output_type": "display_data"
    }
   ],
   "source": [
    "import matplotlib.pyplot as plt  \n",
    "\n",
    "%matplotlib inline\n",
    "%config InlineBackend.figure_format = 'svg' # 设置位矢量图，更加清晰\n",
    "\n",
    "plt.rcParams[\"font.sans-serif\"]=[\"SimHei\"] #设置字体\n",
    "plt.rcParams[\"axes.unicode_minus\"]=False\n",
    "\n",
    "plt.figure(figsize=(10, 10), dpi=600)\n",
    "\n",
    "fig = plt.figure()\n",
    "plt.pie(stu_nums,labels=labels,autopct='%1.2f%%') #画饼图（数据，数据对应的标签，百分数保留两位小数点）\n",
    "plt.title(\"高数成绩\")\n",
    "  \n",
    "plt.show()  "
   ]
  },
  {
   "cell_type": "code",
   "execution_count": null,
   "metadata": {},
   "outputs": [],
   "source": []
  }
 ],
 "metadata": {
  "interpreter": {
   "hash": "46921f6ee644f1069f0628836c8b8e5e2c528c0bccb1231c4087ff7b1c1dd168"
  },
  "kernelspec": {
   "display_name": "Python 3.9.5 64-bit ('Learnpython': conda)",
   "name": "python3"
  },
  "language_info": {
   "codemirror_mode": {
    "name": "ipython",
    "version": 3
   },
   "file_extension": ".py",
   "mimetype": "text/x-python",
   "name": "python",
   "nbconvert_exporter": "python",
   "pygments_lexer": "ipython3",
   "version": "3.10.0"
  }
 },
 "nbformat": 4,
 "nbformat_minor": 0
}
